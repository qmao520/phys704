{
 "cells": [
  {
   "cell_type": "code",
   "execution_count": 2,
   "id": "2535ea20",
   "metadata": {},
   "outputs": [],
   "source": [
    "from astroquery.sdss import SDSS\n",
    "from astropy import coordinates as coords\n",
    "from astropy.coordinates import SkyCoord\n",
    "from astropy.io import ascii\n",
    "from astropy import units as u\n",
    "\n",
    "import pandas as pd"
   ]
  },
  {
   "cell_type": "code",
   "execution_count": 3,
   "id": "95686b69",
   "metadata": {},
   "outputs": [],
   "source": [
    "galaxy_table = ascii.read(\"../train_qso_wo_image.csv\",format='csv')\n",
    "ra = galaxy_table['RA']\n",
    "dec = galaxy_table['DEC']\n",
    "\n",
    "num = ra.size"
   ]
  },
  {
   "cell_type": "code",
   "execution_count": 79,
   "id": "4af30b2a",
   "metadata": {},
   "outputs": [],
   "source": [
    "df_petra = pd.DataFrame(columns = ['petroR50_g','petroR50_r'])"
   ]
  },
  {
   "cell_type": "code",
   "execution_count": 76,
   "id": "7ca42ed9",
   "metadata": {},
   "outputs": [],
   "source": [
    "petra_g = []\n",
    "petra_r = []\n",
    "\n",
    "for ii in range(num):\n",
    "    pos = SkyCoord(ra=ra[ii]*u.degree,dec=dec[ii]*u.degree)\n",
    "    try: \n",
    "        xid = SDSS.query_region(pos,radius=2.5*u.arcsec,photoobj_fields= ['ra','dec','petroR50_g','petroR50_r'])\n",
    "        petra_g.append(xid['ra'].mean())\n",
    "        petra_r.append(xid['dec'].mean())\n",
    "    except ValueError: \n",
    "        xid = None\n",
    "        petra_g.append('N/A')\n",
    "        petra_r.append('N/A')\n"
   ]
  },
  {
   "cell_type": "code",
   "execution_count": 80,
   "id": "9f7c2bd3",
   "metadata": {},
   "outputs": [],
   "source": [
    "df_petra['petroR50_g'] = petra_g\n",
    "df_petra['petroR50_r'] = petra_r"
   ]
  },
  {
   "cell_type": "code",
   "execution_count": 81,
   "id": "6b99a0d3",
   "metadata": {},
   "outputs": [
    {
     "data": {
      "text/html": [
       "<div>\n",
       "<style scoped>\n",
       "    .dataframe tbody tr th:only-of-type {\n",
       "        vertical-align: middle;\n",
       "    }\n",
       "\n",
       "    .dataframe tbody tr th {\n",
       "        vertical-align: top;\n",
       "    }\n",
       "\n",
       "    .dataframe thead th {\n",
       "        text-align: right;\n",
       "    }\n",
       "</style>\n",
       "<table border=\"1\" class=\"dataframe\">\n",
       "  <thead>\n",
       "    <tr style=\"text-align: right;\">\n",
       "      <th></th>\n",
       "      <th>petroR50_g</th>\n",
       "      <th>petroR50_r</th>\n",
       "    </tr>\n",
       "  </thead>\n",
       "  <tbody>\n",
       "    <tr>\n",
       "      <th>0</th>\n",
       "      <td>3.806332</td>\n",
       "      <td>-0.549758</td>\n",
       "    </tr>\n",
       "    <tr>\n",
       "      <th>1</th>\n",
       "      <td>5.429009</td>\n",
       "      <td>-0.102034</td>\n",
       "    </tr>\n",
       "    <tr>\n",
       "      <th>2</th>\n",
       "      <td>9.474340</td>\n",
       "      <td>-0.864523</td>\n",
       "    </tr>\n",
       "    <tr>\n",
       "      <th>3</th>\n",
       "      <td>10.372834</td>\n",
       "      <td>0.133545</td>\n",
       "    </tr>\n",
       "    <tr>\n",
       "      <th>4</th>\n",
       "      <td>11.819024</td>\n",
       "      <td>0.380383</td>\n",
       "    </tr>\n",
       "    <tr>\n",
       "      <th>...</th>\n",
       "      <td>...</td>\n",
       "      <td>...</td>\n",
       "    </tr>\n",
       "    <tr>\n",
       "      <th>189</th>\n",
       "      <td>349.694026</td>\n",
       "      <td>0.857200</td>\n",
       "    </tr>\n",
       "    <tr>\n",
       "      <th>190</th>\n",
       "      <td>353.134655</td>\n",
       "      <td>0.472515</td>\n",
       "    </tr>\n",
       "    <tr>\n",
       "      <th>191</th>\n",
       "      <td>354.095060</td>\n",
       "      <td>-0.447576</td>\n",
       "    </tr>\n",
       "    <tr>\n",
       "      <th>192</th>\n",
       "      <td>354.824005</td>\n",
       "      <td>-0.249649</td>\n",
       "    </tr>\n",
       "    <tr>\n",
       "      <th>193</th>\n",
       "      <td>357.628101</td>\n",
       "      <td>-0.979123</td>\n",
       "    </tr>\n",
       "  </tbody>\n",
       "</table>\n",
       "<p>194 rows × 2 columns</p>\n",
       "</div>"
      ],
      "text/plain": [
       "     petroR50_g  petroR50_r\n",
       "0      3.806332   -0.549758\n",
       "1      5.429009   -0.102034\n",
       "2      9.474340   -0.864523\n",
       "3     10.372834    0.133545\n",
       "4     11.819024    0.380383\n",
       "..          ...         ...\n",
       "189  349.694026    0.857200\n",
       "190  353.134655    0.472515\n",
       "191  354.095060   -0.447576\n",
       "192  354.824005   -0.249649\n",
       "193  357.628101   -0.979123\n",
       "\n",
       "[194 rows x 2 columns]"
      ]
     },
     "execution_count": 81,
     "metadata": {},
     "output_type": "execute_result"
    }
   ],
   "source": [
    "df_petra"
   ]
  },
  {
   "cell_type": "code",
   "execution_count": 82,
   "id": "a443dfeb",
   "metadata": {},
   "outputs": [],
   "source": [
    "df_petra.to_csv('../petra_data.csv')"
   ]
  },
  {
   "cell_type": "code",
   "execution_count": null,
   "id": "87aa775f",
   "metadata": {},
   "outputs": [],
   "source": []
  }
 ],
 "metadata": {
  "kernelspec": {
   "display_name": "Python 3 (ipykernel)",
   "language": "python",
   "name": "python3"
  },
  "language_info": {
   "codemirror_mode": {
    "name": "ipython",
    "version": 3
   },
   "file_extension": ".py",
   "mimetype": "text/x-python",
   "name": "python",
   "nbconvert_exporter": "python",
   "pygments_lexer": "ipython3",
   "version": "3.9.12"
  }
 },
 "nbformat": 4,
 "nbformat_minor": 5
}
