{
 "cells": [
  {
   "cell_type": "code",
   "execution_count": 66,
   "id": "76324ab5-7322-4aad-87cf-a92b69b307d3",
   "metadata": {},
   "outputs": [],
   "source": [
    "import pickle\n",
    "import pandas as pd\n",
    "import numpy as np\n",
    "import matplotlib.pyplot as plt\n",
    "import seaborn as sns"
   ]
  },
  {
   "cell_type": "code",
   "execution_count": 81,
   "id": "2a07cb03-c0d2-4b9a-9f68-749751997bc6",
   "metadata": {},
   "outputs": [],
   "source": [
    "data = pd.read_csv('pred_data/ready_pred.csv')"
   ]
  },
  {
   "cell_type": "code",
   "execution_count": 82,
   "id": "5b0e26aa-54f0-4eaa-968f-6e8743dbe7b7",
   "metadata": {},
   "outputs": [],
   "source": [
    "filename = '../saved_models/faint/rfc_RScv_faint.sav'\n",
    "model = pickle.load(open(filename,'rb'))"
   ]
  },
  {
   "cell_type": "code",
   "execution_count": 83,
   "id": "a86a1003-da3c-4517-9102-7bb28dc5bc01",
   "metadata": {},
   "outputs": [],
   "source": [
    "X = data[['RA','DEC','u - g', 'u - r', 'u - i', 'u - z', 'u - j', 'u - k',\n",
    "       'u - ch1', 'u - ch2', 'g - r', 'g - i', 'g - z', 'g - k', 'g - j',\n",
    "       'g - ch1', 'g - ch2', 'r - i', 'r - z', 'r - j', 'r - ch1', 'r - k',\n",
    "       'r - ch2', 'i - z', 'i - j', 'i - k', 'i - ch1', 'i - ch2', 'z - j',\n",
    "       'z - k', 'z - ch1', 'z - ch2', 'j - ch1', 'j - ch2', 'j - k', 'k - ch1',\n",
    "       'k - ch2', 'ch1 - ch2']]"
   ]
  },
  {
   "cell_type": "code",
   "execution_count": 84,
   "id": "e1883c02-008b-4b6d-b4d0-a510af13ffac",
   "metadata": {},
   "outputs": [
    {
     "name": "stderr",
     "output_type": "stream",
     "text": [
      "/var/folders/dq/sc1tlll95vbbtbqb_dbg21km0000gn/T/ipykernel_6972/4193781425.py:3: SettingWithCopyWarning: \n",
      "A value is trying to be set on a copy of a slice from a DataFrame\n",
      "\n",
      "See the caveats in the documentation: https://pandas.pydata.org/pandas-docs/stable/user_guide/indexing.html#returning-a-view-versus-a-copy\n",
      "  df.dropna(inplace=True)\n"
     ]
    },
    {
     "data": {
      "text/plain": [
       "False"
      ]
     },
     "execution_count": 84,
     "metadata": {},
     "output_type": "execute_result"
    }
   ],
   "source": [
    "def clean_dataset(df):\n",
    "    assert isinstance(df, pd.DataFrame), \"df needs to be a pd.DataFrame\"\n",
    "    df.dropna(inplace=True)\n",
    "    indices_to_keep = ~df.isin([np.nan, np.inf, -np.inf]).any(1)\n",
    "    return df[indices_to_keep].astype(np.float64)\n",
    "\n",
    "clean_dataset(X)\n",
    "np.any(np.isnan(X))"
   ]
  },
  {
   "cell_type": "code",
   "execution_count": 85,
   "id": "8b5d12e5-03e8-4c44-8cc0-fb806f3ef45a",
   "metadata": {},
   "outputs": [
    {
     "data": {
      "text/plain": [
       "347"
      ]
     },
     "execution_count": 85,
     "metadata": {},
     "output_type": "execute_result"
    }
   ],
   "source": [
    "len(X)"
   ]
  },
  {
   "cell_type": "code",
   "execution_count": 86,
   "id": "7b991ebf-13a8-4fed-8912-b5a632f98682",
   "metadata": {},
   "outputs": [],
   "source": [
    "x_m = X.merge(data[['class_cleaned','data']],left_index=True,right_index = True)"
   ]
  },
  {
   "cell_type": "code",
   "execution_count": 87,
   "id": "0dc4b8e9-6023-4724-b5ea-3a08839eb459",
   "metadata": {},
   "outputs": [
    {
     "data": {
      "text/plain": [
       "Index(['RA', 'DEC', 'u - g', 'u - r', 'u - i', 'u - z', 'u - j', 'u - k',\n",
       "       'u - ch1', 'u - ch2', 'g - r', 'g - i', 'g - z', 'g - k', 'g - j',\n",
       "       'g - ch1', 'g - ch2', 'r - i', 'r - z', 'r - j', 'r - ch1', 'r - k',\n",
       "       'r - ch2', 'i - z', 'i - j', 'i - k', 'i - ch1', 'i - ch2', 'z - j',\n",
       "       'z - k', 'z - ch1', 'z - ch2', 'j - ch1', 'j - ch2', 'j - k', 'k - ch1',\n",
       "       'k - ch2', 'ch1 - ch2', 'class_cleaned', 'data'],\n",
       "      dtype='object')"
      ]
     },
     "execution_count": 87,
     "metadata": {},
     "output_type": "execute_result"
    }
   ],
   "source": [
    "x_m.columns"
   ]
  },
  {
   "cell_type": "code",
   "execution_count": 88,
   "id": "81c9716f-1014-4936-84e3-302a6cad6118",
   "metadata": {},
   "outputs": [],
   "source": [
    "x_m.reset_index(inplace = True)\n",
    "x_input =  x_m[['u - g', 'u - r', 'u - i', 'u - z', 'u - j', 'u - k',\n",
    "       'u - ch1', 'u - ch2', 'g - r', 'g - i', 'g - z', 'g - k', 'g - j',\n",
    "       'g - ch1', 'g - ch2', 'r - i', 'r - z', 'r - j', 'r - ch1', 'r - k',\n",
    "       'r - ch2', 'i - z', 'i - j', 'i - k', 'i - ch1', 'i - ch2', 'z - j',\n",
    "       'z - k', 'z - ch1', 'z - ch2', 'j - ch1', 'j - ch2', 'j - k', 'k - ch1',\n",
    "       'k - ch2', 'ch1 - ch2']]"
   ]
  },
  {
   "cell_type": "code",
   "execution_count": 89,
   "id": "6443cf93-6448-48b9-a466-af1c842e53c1",
   "metadata": {},
   "outputs": [],
   "source": [
    "threshold = 0.5165\n",
    "\n",
    "predicted_proba = model.predict_proba(x_input)\n",
    "predicted = (predicted_proba [:,1] >= threshold).astype('int')"
   ]
  },
  {
   "cell_type": "code",
   "execution_count": 90,
   "id": "d21b4b23-ac76-4252-8cdf-a61b9e53d3f8",
   "metadata": {},
   "outputs": [],
   "source": [
    "result = pd.DataFrame(columns = ['RA','DEC','P of a non-quasar', 'P of a quasar','Prediction', \"? or no_obs\",'data'])"
   ]
  },
  {
   "cell_type": "code",
   "execution_count": 91,
   "id": "5d145c74-6d2f-44b2-b4b3-8e3aa3015a28",
   "metadata": {},
   "outputs": [],
   "source": [
    "result['P of a non-quasar'] = predicted_proba[:,0]\n",
    "result['P of a quasar'] = predicted_proba[:,1]\n",
    "result['Prediction'] = predicted\n",
    "result['RA'] = x_m['RA']\n",
    "result['DEC'] = x_m['DEC']\n",
    "result['? or no_obs'] = x_m['class_cleaned']\n",
    "result['data'] = x_m['data']"
   ]
  },
  {
   "cell_type": "code",
   "execution_count": 92,
   "id": "6868e2d1-9bf4-456f-bbac-6a365505b04e",
   "metadata": {},
   "outputs": [
    {
     "data": {
      "text/html": [
       "<div>\n",
       "<style scoped>\n",
       "    .dataframe tbody tr th:only-of-type {\n",
       "        vertical-align: middle;\n",
       "    }\n",
       "\n",
       "    .dataframe tbody tr th {\n",
       "        vertical-align: top;\n",
       "    }\n",
       "\n",
       "    .dataframe thead th {\n",
       "        text-align: right;\n",
       "    }\n",
       "</style>\n",
       "<table border=\"1\" class=\"dataframe\">\n",
       "  <thead>\n",
       "    <tr style=\"text-align: right;\">\n",
       "      <th></th>\n",
       "      <th>RA</th>\n",
       "      <th>DEC</th>\n",
       "      <th>P of a non-quasar</th>\n",
       "      <th>P of a quasar</th>\n",
       "      <th>Prediction</th>\n",
       "      <th>? or no_obs</th>\n",
       "      <th>data</th>\n",
       "    </tr>\n",
       "  </thead>\n",
       "  <tbody>\n",
       "    <tr>\n",
       "      <th>0</th>\n",
       "      <td>0.062537</td>\n",
       "      <td>-0.578794</td>\n",
       "      <td>0.536828</td>\n",
       "      <td>0.463172</td>\n",
       "      <td>0</td>\n",
       "      <td>none</td>\n",
       "      <td>Teddy</td>\n",
       "    </tr>\n",
       "    <tr>\n",
       "      <th>1</th>\n",
       "      <td>0.069474</td>\n",
       "      <td>0.089717</td>\n",
       "      <td>0.609944</td>\n",
       "      <td>0.390056</td>\n",
       "      <td>0</td>\n",
       "      <td>?</td>\n",
       "      <td>Teddy</td>\n",
       "    </tr>\n",
       "    <tr>\n",
       "      <th>2</th>\n",
       "      <td>0.134173</td>\n",
       "      <td>0.695095</td>\n",
       "      <td>0.496965</td>\n",
       "      <td>0.503035</td>\n",
       "      <td>0</td>\n",
       "      <td>none</td>\n",
       "      <td>Teddy</td>\n",
       "    </tr>\n",
       "    <tr>\n",
       "      <th>3</th>\n",
       "      <td>0.148627</td>\n",
       "      <td>0.954599</td>\n",
       "      <td>0.505336</td>\n",
       "      <td>0.494664</td>\n",
       "      <td>0</td>\n",
       "      <td>none</td>\n",
       "      <td>Teddy</td>\n",
       "    </tr>\n",
       "    <tr>\n",
       "      <th>4</th>\n",
       "      <td>0.192235</td>\n",
       "      <td>-0.534088</td>\n",
       "      <td>0.759080</td>\n",
       "      <td>0.240920</td>\n",
       "      <td>0</td>\n",
       "      <td>none</td>\n",
       "      <td>Teddy</td>\n",
       "    </tr>\n",
       "    <tr>\n",
       "      <th>...</th>\n",
       "      <td>...</td>\n",
       "      <td>...</td>\n",
       "      <td>...</td>\n",
       "      <td>...</td>\n",
       "      <td>...</td>\n",
       "      <td>...</td>\n",
       "      <td>...</td>\n",
       "    </tr>\n",
       "    <tr>\n",
       "      <th>342</th>\n",
       "      <td>231.558273</td>\n",
       "      <td>-1.886450</td>\n",
       "      <td>0.180126</td>\n",
       "      <td>0.819874</td>\n",
       "      <td>1</td>\n",
       "      <td>no_obs</td>\n",
       "      <td>Glikman</td>\n",
       "    </tr>\n",
       "    <tr>\n",
       "      <th>343</th>\n",
       "      <td>232.727631</td>\n",
       "      <td>0.980603</td>\n",
       "      <td>0.037304</td>\n",
       "      <td>0.962696</td>\n",
       "      <td>1</td>\n",
       "      <td>no_obs</td>\n",
       "      <td>Glikman</td>\n",
       "    </tr>\n",
       "    <tr>\n",
       "      <th>344</th>\n",
       "      <td>234.152176</td>\n",
       "      <td>6.422978</td>\n",
       "      <td>0.223686</td>\n",
       "      <td>0.776314</td>\n",
       "      <td>1</td>\n",
       "      <td>?</td>\n",
       "      <td>Glikman</td>\n",
       "    </tr>\n",
       "    <tr>\n",
       "      <th>345</th>\n",
       "      <td>234.151627</td>\n",
       "      <td>8.965731</td>\n",
       "      <td>0.248093</td>\n",
       "      <td>0.751907</td>\n",
       "      <td>1</td>\n",
       "      <td>no_obs</td>\n",
       "      <td>Glikman</td>\n",
       "    </tr>\n",
       "    <tr>\n",
       "      <th>346</th>\n",
       "      <td>234.923233</td>\n",
       "      <td>-1.353831</td>\n",
       "      <td>0.162422</td>\n",
       "      <td>0.837578</td>\n",
       "      <td>1</td>\n",
       "      <td>no_obs</td>\n",
       "      <td>Glikman</td>\n",
       "    </tr>\n",
       "  </tbody>\n",
       "</table>\n",
       "<p>347 rows × 7 columns</p>\n",
       "</div>"
      ],
      "text/plain": [
       "             RA       DEC  P of a non-quasar  P of a quasar  Prediction  \\\n",
       "0      0.062537 -0.578794           0.536828       0.463172           0   \n",
       "1      0.069474  0.089717           0.609944       0.390056           0   \n",
       "2      0.134173  0.695095           0.496965       0.503035           0   \n",
       "3      0.148627  0.954599           0.505336       0.494664           0   \n",
       "4      0.192235 -0.534088           0.759080       0.240920           0   \n",
       "..          ...       ...                ...            ...         ...   \n",
       "342  231.558273 -1.886450           0.180126       0.819874           1   \n",
       "343  232.727631  0.980603           0.037304       0.962696           1   \n",
       "344  234.152176  6.422978           0.223686       0.776314           1   \n",
       "345  234.151627  8.965731           0.248093       0.751907           1   \n",
       "346  234.923233 -1.353831           0.162422       0.837578           1   \n",
       "\n",
       "    ? or no_obs     data  \n",
       "0          none    Teddy  \n",
       "1             ?    Teddy  \n",
       "2          none    Teddy  \n",
       "3          none    Teddy  \n",
       "4          none    Teddy  \n",
       "..          ...      ...  \n",
       "342      no_obs  Glikman  \n",
       "343      no_obs  Glikman  \n",
       "344           ?  Glikman  \n",
       "345      no_obs  Glikman  \n",
       "346      no_obs  Glikman  \n",
       "\n",
       "[347 rows x 7 columns]"
      ]
     },
     "execution_count": 92,
     "metadata": {},
     "output_type": "execute_result"
    }
   ],
   "source": [
    "result"
   ]
  },
  {
   "cell_type": "code",
   "execution_count": 93,
   "id": "0fdd3a24-892c-4adc-8d57-77079d6c4b25",
   "metadata": {},
   "outputs": [],
   "source": [
    "result.to_csv('result/result_v1.csv')"
   ]
  },
  {
   "cell_type": "code",
   "execution_count": 94,
   "id": "b1160c70-7e79-4d4e-8bca-e5c1caec9e6d",
   "metadata": {},
   "outputs": [
    {
     "data": {
      "text/html": [
       "<div>\n",
       "<style scoped>\n",
       "    .dataframe tbody tr th:only-of-type {\n",
       "        vertical-align: middle;\n",
       "    }\n",
       "\n",
       "    .dataframe tbody tr th {\n",
       "        vertical-align: top;\n",
       "    }\n",
       "\n",
       "    .dataframe thead th {\n",
       "        text-align: right;\n",
       "    }\n",
       "</style>\n",
       "<table border=\"1\" class=\"dataframe\">\n",
       "  <thead>\n",
       "    <tr style=\"text-align: right;\">\n",
       "      <th></th>\n",
       "      <th>class_cleaned</th>\n",
       "      <th>Prediction</th>\n",
       "    </tr>\n",
       "  </thead>\n",
       "  <tbody>\n",
       "    <tr>\n",
       "      <th>0</th>\n",
       "      <td>1</td>\n",
       "      <td>186</td>\n",
       "    </tr>\n",
       "    <tr>\n",
       "      <th>1</th>\n",
       "      <td>0</td>\n",
       "      <td>161</td>\n",
       "    </tr>\n",
       "  </tbody>\n",
       "</table>\n",
       "</div>"
      ],
      "text/plain": [
       "   class_cleaned  Prediction\n",
       "0              1         186\n",
       "1              0         161"
      ]
     },
     "execution_count": 94,
     "metadata": {},
     "output_type": "execute_result"
    }
   ],
   "source": [
    "count_class = pd.DataFrame(result['Prediction'].value_counts()).reset_index()\n",
    "count_class.rename(columns = {'index' : 'class_cleaned','class_cleaned':'occ'},inplace = True)\n",
    "count_class"
   ]
  },
  {
   "cell_type": "code",
   "execution_count": null,
   "id": "9820a630-e085-43ec-b95e-553cd3ff224a",
   "metadata": {},
   "outputs": [],
   "source": []
  }
 ],
 "metadata": {
  "kernelspec": {
   "display_name": "Python 3 (ipykernel)",
   "language": "python",
   "name": "python3"
  },
  "language_info": {
   "codemirror_mode": {
    "name": "ipython",
    "version": 3
   },
   "file_extension": ".py",
   "mimetype": "text/x-python",
   "name": "python",
   "nbconvert_exporter": "python",
   "pygments_lexer": "ipython3",
   "version": "3.9.12"
  }
 },
 "nbformat": 4,
 "nbformat_minor": 5
}
