{
 "cells": [
  {
   "cell_type": "code",
   "execution_count": 80,
   "id": "09751dd4-e71a-4fc8-aeb7-f3eedcf0a895",
   "metadata": {},
   "outputs": [],
   "source": [
    "import pandas as pd\n",
    "import numpy as np"
   ]
  },
  {
   "cell_type": "code",
   "execution_count": 81,
   "id": "d488c741-b5be-48f0-a2e0-f0c9ec8e3853",
   "metadata": {},
   "outputs": [],
   "source": [
    "df = pd.read_csv('../data/train_qso.csv')"
   ]
  },
  {
   "cell_type": "code",
   "execution_count": 82,
   "id": "5bf1c63a-ab23-4410-ac99-a4a2374f6906",
   "metadata": {},
   "outputs": [],
   "source": [
    "data = df[['ug', 'ur', 'ui', 'uz', 'uj', 'uk', 'uw1', 'uw2', 'gr',\n",
    "       'gi', 'gz', 'gk', 'gw1', 'gw2', 'ri', 'rz', 'rw1', 'rw2', 'iz', 'ij',\n",
    "       'ik', 'iw1', 'iw2', 'zj', 'zk', 'zw1', 'zw2', 'jw1', 'jw2', 'kw1',\n",
    "       'kw2', 'w1w2','class_bin']]"
   ]
  },
  {
   "cell_type": "code",
   "execution_count": 83,
   "id": "539236ba-6b19-407f-addf-852ccdc5d7e8",
   "metadata": {},
   "outputs": [],
   "source": [
    "def clean_dataset(df):\n",
    "    assert isinstance(df, pd.DataFrame), \"df needs to be a pd.DataFrame\"\n",
    "    df.dropna(inplace=True)\n",
    "    indices_to_keep = ~df.isin([np.nan, np.inf, -np.inf]).any(1)\n",
    "    return df[indices_to_keep].astype(np.float64)"
   ]
  },
  {
   "cell_type": "code",
   "execution_count": 84,
   "id": "c01dd8d0-f6b4-4c94-bce3-8f6e10702ed0",
   "metadata": {},
   "outputs": [
    {
     "name": "stderr",
     "output_type": "stream",
     "text": [
      "/astro/linux/64/modulos/current/lib/python3.9/site-packages/pandas/util/_decorators.py:311: SettingWithCopyWarning: \n",
      "A value is trying to be set on a copy of a slice from a DataFrame\n",
      "\n",
      "See the caveats in the documentation: https://pandas.pydata.org/pandas-docs/stable/user_guide/indexing.html#returning-a-view-versus-a-copy\n",
      "  return func(*args, **kwargs)\n"
     ]
    },
    {
     "data": {
      "text/html": [
       "<div>\n",
       "<style scoped>\n",
       "    .dataframe tbody tr th:only-of-type {\n",
       "        vertical-align: middle;\n",
       "    }\n",
       "\n",
       "    .dataframe tbody tr th {\n",
       "        vertical-align: top;\n",
       "    }\n",
       "\n",
       "    .dataframe thead th {\n",
       "        text-align: right;\n",
       "    }\n",
       "</style>\n",
       "<table border=\"1\" class=\"dataframe\">\n",
       "  <thead>\n",
       "    <tr style=\"text-align: right;\">\n",
       "      <th></th>\n",
       "      <th>ug</th>\n",
       "      <th>ur</th>\n",
       "      <th>ui</th>\n",
       "      <th>uz</th>\n",
       "      <th>uj</th>\n",
       "      <th>uk</th>\n",
       "      <th>uw1</th>\n",
       "      <th>uw2</th>\n",
       "      <th>gr</th>\n",
       "      <th>gi</th>\n",
       "      <th>...</th>\n",
       "      <th>zj</th>\n",
       "      <th>zk</th>\n",
       "      <th>zw1</th>\n",
       "      <th>zw2</th>\n",
       "      <th>jw1</th>\n",
       "      <th>jw2</th>\n",
       "      <th>kw1</th>\n",
       "      <th>kw2</th>\n",
       "      <th>w1w2</th>\n",
       "      <th>class_bin</th>\n",
       "    </tr>\n",
       "  </thead>\n",
       "  <tbody>\n",
       "    <tr>\n",
       "      <th>0</th>\n",
       "      <td>0.99140</td>\n",
       "      <td>2.67090</td>\n",
       "      <td>3.936</td>\n",
       "      <td>4.606</td>\n",
       "      <td>4.640063</td>\n",
       "      <td>5.577868</td>\n",
       "      <td>6.331862</td>\n",
       "      <td>6.792161</td>\n",
       "      <td>1.67950</td>\n",
       "      <td>2.94460</td>\n",
       "      <td>...</td>\n",
       "      <td>0.034063</td>\n",
       "      <td>0.971868</td>\n",
       "      <td>1.725862</td>\n",
       "      <td>2.186161</td>\n",
       "      <td>1.691799</td>\n",
       "      <td>2.152098</td>\n",
       "      <td>0.753994</td>\n",
       "      <td>1.214293</td>\n",
       "      <td>0.460299</td>\n",
       "      <td>0.0</td>\n",
       "    </tr>\n",
       "    <tr>\n",
       "      <th>1</th>\n",
       "      <td>1.66960</td>\n",
       "      <td>2.79980</td>\n",
       "      <td>3.946</td>\n",
       "      <td>4.653</td>\n",
       "      <td>4.774833</td>\n",
       "      <td>5.712456</td>\n",
       "      <td>6.839255</td>\n",
       "      <td>7.140017</td>\n",
       "      <td>1.13020</td>\n",
       "      <td>2.27640</td>\n",
       "      <td>...</td>\n",
       "      <td>0.121833</td>\n",
       "      <td>1.059456</td>\n",
       "      <td>2.186255</td>\n",
       "      <td>2.487017</td>\n",
       "      <td>2.064422</td>\n",
       "      <td>2.365184</td>\n",
       "      <td>1.126799</td>\n",
       "      <td>1.427561</td>\n",
       "      <td>0.300762</td>\n",
       "      <td>1.0</td>\n",
       "    </tr>\n",
       "    <tr>\n",
       "      <th>2</th>\n",
       "      <td>-0.06360</td>\n",
       "      <td>1.46670</td>\n",
       "      <td>2.528</td>\n",
       "      <td>2.951</td>\n",
       "      <td>3.489250</td>\n",
       "      <td>4.446374</td>\n",
       "      <td>3.788207</td>\n",
       "      <td>3.747212</td>\n",
       "      <td>1.53030</td>\n",
       "      <td>2.59160</td>\n",
       "      <td>...</td>\n",
       "      <td>0.538250</td>\n",
       "      <td>1.495374</td>\n",
       "      <td>0.837207</td>\n",
       "      <td>0.796212</td>\n",
       "      <td>0.298957</td>\n",
       "      <td>0.257962</td>\n",
       "      <td>-0.658167</td>\n",
       "      <td>-0.699162</td>\n",
       "      <td>-0.040995</td>\n",
       "      <td>0.0</td>\n",
       "    </tr>\n",
       "    <tr>\n",
       "      <th>3</th>\n",
       "      <td>0.12510</td>\n",
       "      <td>1.78990</td>\n",
       "      <td>2.512</td>\n",
       "      <td>2.802</td>\n",
       "      <td>3.657627</td>\n",
       "      <td>4.726333</td>\n",
       "      <td>4.291627</td>\n",
       "      <td>4.354540</td>\n",
       "      <td>1.66480</td>\n",
       "      <td>2.38690</td>\n",
       "      <td>...</td>\n",
       "      <td>0.855627</td>\n",
       "      <td>1.924333</td>\n",
       "      <td>1.489627</td>\n",
       "      <td>1.552540</td>\n",
       "      <td>0.634000</td>\n",
       "      <td>0.696913</td>\n",
       "      <td>-0.434706</td>\n",
       "      <td>-0.371793</td>\n",
       "      <td>0.062913</td>\n",
       "      <td>0.0</td>\n",
       "    </tr>\n",
       "    <tr>\n",
       "      <th>4</th>\n",
       "      <td>0.04280</td>\n",
       "      <td>1.46910</td>\n",
       "      <td>2.165</td>\n",
       "      <td>2.487</td>\n",
       "      <td>3.120206</td>\n",
       "      <td>4.259295</td>\n",
       "      <td>4.177098</td>\n",
       "      <td>4.230727</td>\n",
       "      <td>1.42630</td>\n",
       "      <td>2.12220</td>\n",
       "      <td>...</td>\n",
       "      <td>0.633206</td>\n",
       "      <td>1.772295</td>\n",
       "      <td>1.690098</td>\n",
       "      <td>1.743727</td>\n",
       "      <td>1.056892</td>\n",
       "      <td>1.110521</td>\n",
       "      <td>-0.082197</td>\n",
       "      <td>-0.028568</td>\n",
       "      <td>0.053629</td>\n",
       "      <td>1.0</td>\n",
       "    </tr>\n",
       "    <tr>\n",
       "      <th>...</th>\n",
       "      <td>...</td>\n",
       "      <td>...</td>\n",
       "      <td>...</td>\n",
       "      <td>...</td>\n",
       "      <td>...</td>\n",
       "      <td>...</td>\n",
       "      <td>...</td>\n",
       "      <td>...</td>\n",
       "      <td>...</td>\n",
       "      <td>...</td>\n",
       "      <td>...</td>\n",
       "      <td>...</td>\n",
       "      <td>...</td>\n",
       "      <td>...</td>\n",
       "      <td>...</td>\n",
       "      <td>...</td>\n",
       "      <td>...</td>\n",
       "      <td>...</td>\n",
       "      <td>...</td>\n",
       "      <td>...</td>\n",
       "      <td>...</td>\n",
       "    </tr>\n",
       "    <tr>\n",
       "      <th>155</th>\n",
       "      <td>1.48411</td>\n",
       "      <td>2.41343</td>\n",
       "      <td>3.284</td>\n",
       "      <td>4.003</td>\n",
       "      <td>5.694000</td>\n",
       "      <td>7.833000</td>\n",
       "      <td>9.332000</td>\n",
       "      <td>10.145000</td>\n",
       "      <td>0.92932</td>\n",
       "      <td>1.79989</td>\n",
       "      <td>...</td>\n",
       "      <td>1.691000</td>\n",
       "      <td>3.830000</td>\n",
       "      <td>5.329000</td>\n",
       "      <td>6.142000</td>\n",
       "      <td>3.638000</td>\n",
       "      <td>4.451000</td>\n",
       "      <td>1.499000</td>\n",
       "      <td>2.312000</td>\n",
       "      <td>0.813000</td>\n",
       "      <td>0.0</td>\n",
       "    </tr>\n",
       "    <tr>\n",
       "      <th>157</th>\n",
       "      <td>2.07422</td>\n",
       "      <td>3.08638</td>\n",
       "      <td>4.045</td>\n",
       "      <td>4.639</td>\n",
       "      <td>5.761000</td>\n",
       "      <td>8.752000</td>\n",
       "      <td>10.840000</td>\n",
       "      <td>12.246000</td>\n",
       "      <td>1.01216</td>\n",
       "      <td>1.97078</td>\n",
       "      <td>...</td>\n",
       "      <td>1.122000</td>\n",
       "      <td>4.113000</td>\n",
       "      <td>6.201000</td>\n",
       "      <td>7.607000</td>\n",
       "      <td>5.079000</td>\n",
       "      <td>6.485000</td>\n",
       "      <td>2.088000</td>\n",
       "      <td>3.494000</td>\n",
       "      <td>1.406000</td>\n",
       "      <td>1.0</td>\n",
       "    </tr>\n",
       "    <tr>\n",
       "      <th>158</th>\n",
       "      <td>0.47728</td>\n",
       "      <td>2.10427</td>\n",
       "      <td>3.300</td>\n",
       "      <td>4.114</td>\n",
       "      <td>5.619000</td>\n",
       "      <td>8.081000</td>\n",
       "      <td>10.338000</td>\n",
       "      <td>11.839000</td>\n",
       "      <td>1.62699</td>\n",
       "      <td>2.82272</td>\n",
       "      <td>...</td>\n",
       "      <td>1.505000</td>\n",
       "      <td>3.967000</td>\n",
       "      <td>6.224000</td>\n",
       "      <td>7.725000</td>\n",
       "      <td>4.719000</td>\n",
       "      <td>6.220000</td>\n",
       "      <td>2.257000</td>\n",
       "      <td>3.758000</td>\n",
       "      <td>1.501000</td>\n",
       "      <td>1.0</td>\n",
       "    </tr>\n",
       "    <tr>\n",
       "      <th>159</th>\n",
       "      <td>4.35600</td>\n",
       "      <td>5.53300</td>\n",
       "      <td>6.476</td>\n",
       "      <td>7.210</td>\n",
       "      <td>8.013000</td>\n",
       "      <td>9.936000</td>\n",
       "      <td>11.036000</td>\n",
       "      <td>11.599000</td>\n",
       "      <td>1.17700</td>\n",
       "      <td>2.12000</td>\n",
       "      <td>...</td>\n",
       "      <td>0.803000</td>\n",
       "      <td>2.726000</td>\n",
       "      <td>3.826000</td>\n",
       "      <td>4.389000</td>\n",
       "      <td>3.023000</td>\n",
       "      <td>3.586000</td>\n",
       "      <td>1.100000</td>\n",
       "      <td>1.663000</td>\n",
       "      <td>0.563000</td>\n",
       "      <td>0.0</td>\n",
       "    </tr>\n",
       "    <tr>\n",
       "      <th>160</th>\n",
       "      <td>1.72393</td>\n",
       "      <td>2.93530</td>\n",
       "      <td>4.160</td>\n",
       "      <td>4.752</td>\n",
       "      <td>6.499000</td>\n",
       "      <td>8.294000</td>\n",
       "      <td>9.754000</td>\n",
       "      <td>10.649000</td>\n",
       "      <td>1.21137</td>\n",
       "      <td>2.43607</td>\n",
       "      <td>...</td>\n",
       "      <td>1.747000</td>\n",
       "      <td>3.542000</td>\n",
       "      <td>5.002000</td>\n",
       "      <td>5.897000</td>\n",
       "      <td>3.255000</td>\n",
       "      <td>4.150000</td>\n",
       "      <td>1.460000</td>\n",
       "      <td>2.355000</td>\n",
       "      <td>0.895000</td>\n",
       "      <td>0.0</td>\n",
       "    </tr>\n",
       "  </tbody>\n",
       "</table>\n",
       "<p>157 rows × 33 columns</p>\n",
       "</div>"
      ],
      "text/plain": [
       "          ug       ur     ui     uz        uj        uk        uw1        uw2  \\\n",
       "0    0.99140  2.67090  3.936  4.606  4.640063  5.577868   6.331862   6.792161   \n",
       "1    1.66960  2.79980  3.946  4.653  4.774833  5.712456   6.839255   7.140017   \n",
       "2   -0.06360  1.46670  2.528  2.951  3.489250  4.446374   3.788207   3.747212   \n",
       "3    0.12510  1.78990  2.512  2.802  3.657627  4.726333   4.291627   4.354540   \n",
       "4    0.04280  1.46910  2.165  2.487  3.120206  4.259295   4.177098   4.230727   \n",
       "..       ...      ...    ...    ...       ...       ...        ...        ...   \n",
       "155  1.48411  2.41343  3.284  4.003  5.694000  7.833000   9.332000  10.145000   \n",
       "157  2.07422  3.08638  4.045  4.639  5.761000  8.752000  10.840000  12.246000   \n",
       "158  0.47728  2.10427  3.300  4.114  5.619000  8.081000  10.338000  11.839000   \n",
       "159  4.35600  5.53300  6.476  7.210  8.013000  9.936000  11.036000  11.599000   \n",
       "160  1.72393  2.93530  4.160  4.752  6.499000  8.294000   9.754000  10.649000   \n",
       "\n",
       "          gr       gi  ...        zj        zk       zw1       zw2       jw1  \\\n",
       "0    1.67950  2.94460  ...  0.034063  0.971868  1.725862  2.186161  1.691799   \n",
       "1    1.13020  2.27640  ...  0.121833  1.059456  2.186255  2.487017  2.064422   \n",
       "2    1.53030  2.59160  ...  0.538250  1.495374  0.837207  0.796212  0.298957   \n",
       "3    1.66480  2.38690  ...  0.855627  1.924333  1.489627  1.552540  0.634000   \n",
       "4    1.42630  2.12220  ...  0.633206  1.772295  1.690098  1.743727  1.056892   \n",
       "..       ...      ...  ...       ...       ...       ...       ...       ...   \n",
       "155  0.92932  1.79989  ...  1.691000  3.830000  5.329000  6.142000  3.638000   \n",
       "157  1.01216  1.97078  ...  1.122000  4.113000  6.201000  7.607000  5.079000   \n",
       "158  1.62699  2.82272  ...  1.505000  3.967000  6.224000  7.725000  4.719000   \n",
       "159  1.17700  2.12000  ...  0.803000  2.726000  3.826000  4.389000  3.023000   \n",
       "160  1.21137  2.43607  ...  1.747000  3.542000  5.002000  5.897000  3.255000   \n",
       "\n",
       "          jw2       kw1       kw2      w1w2  class_bin  \n",
       "0    2.152098  0.753994  1.214293  0.460299        0.0  \n",
       "1    2.365184  1.126799  1.427561  0.300762        1.0  \n",
       "2    0.257962 -0.658167 -0.699162 -0.040995        0.0  \n",
       "3    0.696913 -0.434706 -0.371793  0.062913        0.0  \n",
       "4    1.110521 -0.082197 -0.028568  0.053629        1.0  \n",
       "..        ...       ...       ...       ...        ...  \n",
       "155  4.451000  1.499000  2.312000  0.813000        0.0  \n",
       "157  6.485000  2.088000  3.494000  1.406000        1.0  \n",
       "158  6.220000  2.257000  3.758000  1.501000        1.0  \n",
       "159  3.586000  1.100000  1.663000  0.563000        0.0  \n",
       "160  4.150000  1.460000  2.355000  0.895000        0.0  \n",
       "\n",
       "[157 rows x 33 columns]"
      ]
     },
     "execution_count": 84,
     "metadata": {},
     "output_type": "execute_result"
    }
   ],
   "source": [
    "clean_dataset(data)"
   ]
  },
  {
   "cell_type": "code",
   "execution_count": 85,
   "id": "ea9083ac-306a-440b-9cc3-7a9791dce320",
   "metadata": {},
   "outputs": [
    {
     "data": {
      "text/plain": [
       "False"
      ]
     },
     "execution_count": 85,
     "metadata": {},
     "output_type": "execute_result"
    }
   ],
   "source": [
    "np.any(np.isnan(data))"
   ]
  },
  {
   "cell_type": "code",
   "execution_count": 93,
   "id": "8f7816e5-a70b-4abd-a36c-a5b6bbeb6f4a",
   "metadata": {},
   "outputs": [],
   "source": [
    "data.to_csv('../data/train_qso_final.csv')"
   ]
  },
  {
   "cell_type": "markdown",
   "id": "2dfdcdbd-c1e4-4617-883e-3f13c374f087",
   "metadata": {},
   "source": [
    "## Train Test Split"
   ]
  },
  {
   "cell_type": "code",
   "execution_count": 86,
   "id": "5c74c62a-c4d3-470b-90fd-3a1817068964",
   "metadata": {},
   "outputs": [],
   "source": [
    "X = data[['ug', 'ur', 'ui', 'uz', 'uj', 'uk', 'uw1', 'uw2', 'gr',\n",
    "       'gi', 'gz', 'gk', 'gw1', 'gw2', 'ri', 'rz', 'rw1', 'rw2', 'iz', 'ij',\n",
    "       'ik', 'iw1', 'iw2', 'zj', 'zk', 'zw1', 'zw2', 'jw1', 'jw2', 'kw1',\n",
    "       'kw2', 'w1w2']]\n",
    "\n",
    "y = data['class_bin']"
   ]
  },
  {
   "cell_type": "code",
   "execution_count": 87,
   "id": "181b4125-474f-4bdd-a5f7-cb35fb2d73c1",
   "metadata": {},
   "outputs": [],
   "source": [
    "from sklearn.model_selection import train_test_split\n",
    "X_train,X_test,y_train,y_test = train_test_split(X,y,test_size = 0.2, random_state = 1)"
   ]
  },
  {
   "cell_type": "code",
   "execution_count": 88,
   "id": "da78e995-2836-4828-8f96-72976454ab50",
   "metadata": {},
   "outputs": [
    {
     "data": {
      "text/plain": [
       "0.0"
      ]
     },
     "execution_count": 88,
     "metadata": {},
     "output_type": "execute_result"
    }
   ],
   "source": [
    "from sklearn.dummy import DummyRegressor\n",
    "\n",
    "base_line_model = DummyRegressor(strategy = 'mean').fit(X,y)\n",
    "\n",
    "base_line_model.score(X,y)"
   ]
  },
  {
   "cell_type": "markdown",
   "id": "bd6eacb4-b31d-4b4e-a9d0-ca4de2002580",
   "metadata": {},
   "source": [
    "## Model(basic)"
   ]
  },
  {
   "cell_type": "code",
   "execution_count": 89,
   "id": "cef82b13-791d-4b20-aa55-7915592cb527",
   "metadata": {},
   "outputs": [],
   "source": [
    "from sklearn.ensemble import RandomForestClassifier\n",
    "clf = RandomForestClassifier()\n",
    "\n",
    "clf.fit(X_train,y_train)\n",
    "\n",
    "y_pred = clf.predict(X_test)"
   ]
  },
  {
   "cell_type": "code",
   "execution_count": 90,
   "id": "3842a87d-b7d1-4dea-b547-3d9f848f8431",
   "metadata": {},
   "outputs": [
    {
     "name": "stdout",
     "output_type": "stream",
     "text": [
      "Accuracy: 0.75\n"
     ]
    }
   ],
   "source": [
    "from sklearn import metrics\n",
    "print(\"Accuracy:\",metrics.accuracy_score(y_test, y_pred))"
   ]
  },
  {
   "cell_type": "code",
   "execution_count": 104,
   "id": "275f9bb4-c772-4061-8403-a0532574de5a",
   "metadata": {
    "tags": []
   },
   "outputs": [],
   "source": [
    "#generate a no skill prediction\n",
    "ns_prob = [0 for _ in range(len(y_test))]\n",
    "#prodict probability\n",
    "clf_prob = clf.predict_proba(X_test)\n",
    "# keep probabilities for the positive outcome only/\n",
    "clf_prob = clf_prob[:, 1]"
   ]
  },
  {
   "cell_type": "code",
   "execution_count": 107,
   "id": "0410328c-791f-4ad4-994b-c3200dcfffe2",
   "metadata": {},
   "outputs": [
    {
     "name": "stdout",
     "output_type": "stream",
     "text": [
      "No Skill: ROC AUC=0.500\n",
      "Logistic: ROC AUC=0.853\n"
     ]
    }
   ],
   "source": [
    "from sklearn.metrics import roc_curve\n",
    "from sklearn.metrics import roc_auc_score\n",
    "\n",
    "ns_auc = roc_auc_score(y_test, ns_prob)\n",
    "lr_auc = roc_auc_score(y_test, clf_prob)\n",
    "\n",
    "# summarize scores\n",
    "print('No Skill: ROC AUC=%.3f' % (ns_auc))\n",
    "print('Logistic: ROC AUC=%.3f' % (lr_auc))"
   ]
  },
  {
   "cell_type": "code",
   "execution_count": 109,
   "id": "23cdd7aa-a27a-4bdf-a2fa-d92186d2ecea",
   "metadata": {},
   "outputs": [
    {
     "data": {
      "image/png": "[encoded data removed]",
      "text/plain": [
       "<Figure size 432x288 with 1 Axes>"
      ]
     },
     "metadata": {
      "needs_background": "light"
     },
     "output_type": "display_data"
    }
   ],
   "source": [
    "import matplotlib.pyplot as plt\n",
    "# calculate roc curves\n",
    "ns_fpr, ns_tpr, _ = roc_curve(y_test, ns_prob)\n",
    "lr_fpr, lr_tpr, _ = roc_curve(y_test, clf_prob)\n",
    "\n",
    "# plot the roc curve for the model\n",
    "plt.plot(ns_fpr, ns_tpr, linestyle='--', label='No Skill')\n",
    "plt.plot(lr_fpr, lr_tpr, marker='.', label='Logistic')\n",
    "# axis labels\n",
    "plt.xlabel('False Positive Rate')\n",
    "plt.ylabel('True Positive Rate')\n",
    "# show the legend\n",
    "plt.legend()\n",
    "# show the plot\n",
    "plt.show()"
   ]
  },
  {
   "cell_type": "code",
   "execution_count": 91,
   "id": "d50f8a66-2b33-4c55-93be-084fef287529",
   "metadata": {
    "collapsed": true,
    "jupyter": {
     "outputs_hidden": true
    },
    "tags": []
   },
   "outputs": [
    {
     "data": {
      "text/plain": [
       "w1w2    0.048531\n",
       "uz      0.040812\n",
       "zw1     0.039536\n",
       "iw1     0.038138\n",
       "ui      0.037794\n",
       "rw2     0.037441\n",
       "rw1     0.037298\n",
       "zw2     0.037286\n",
       "uj      0.036346\n",
       "zj      0.036157\n",
       "gr      0.035768\n",
       "kw2     0.035102\n",
       "jw2     0.035098\n",
       "ug      0.035025\n",
       "iw2     0.034483\n",
       "ij      0.034408\n",
       "rz      0.034287\n",
       "jw1     0.033429\n",
       "iz      0.032147\n",
       "kw1     0.029958\n",
       "gi      0.027757\n",
       "ri      0.026899\n",
       "uw1     0.026444\n",
       "ur      0.026182\n",
       "uk      0.024379\n",
       "uw2     0.024181\n",
       "zk      0.022538\n",
       "gz      0.020354\n",
       "ik      0.020201\n",
       "gw2     0.018922\n",
       "gk      0.018921\n",
       "gw1     0.014178\n",
       "dtype: float64"
      ]
     },
     "execution_count": 91,
     "metadata": {},
     "output_type": "execute_result"
    }
   ],
   "source": [
    "feature_imp = pd.Series(clf.feature_importances_,index=X.columns).sort_values(ascending=False)\n",
    "feature_imp"
   ]
  },
  {
   "cell_type": "code",
   "execution_count": 92,
   "id": "2fda147e-3fff-4d2f-8c37-28738f01ee68",
   "metadata": {},
   "outputs": [
    {
     "name": "stderr",
     "output_type": "stream",
     "text": [
      "No handles with labels found to put in legend.\n"
     ]
    },
    {
     "data": {
      "image/png": "[encoded data removed]",
      "text/plain": [
       "<Figure size 432x288 with 1 Axes>"
      ]
     },
     "metadata": {
      "needs_background": "light"
     },
     "output_type": "display_data"
    }
   ],
   "source": [
    "import matplotlib.pyplot as plt\n",
    "import seaborn as sns\n",
    "%matplotlib inline\n",
    "# Creating a bar plot\n",
    "sns.barplot(x=feature_imp, y=feature_imp.index)\n",
    "# Add labels to your graph\n",
    "plt.xlabel('Feature Importance Score')\n",
    "plt.ylabel('Features')\n",
    "plt.title(\"Visualizing Important Features\")\n",
    "plt.legend()\n",
    "plt.show()"
   ]
  },
  {
   "cell_type": "markdown",
   "id": "d34e8d7b-0f74-4489-b4bf-e28cafef4fd5",
   "metadata": {},
   "source": [
    "## Model -- Hyper-parameter tuning"
   ]
  }
 ],
 "metadata": {
  "kernelspec": {
   "display_name": "Python 3 (ipykernel)",
   "language": "python",
   "name": "python3"
  },
  "language_info": {
   "codemirror_mode": {
    "name": "ipython",
    "version": 3
   },
   "file_extension": ".py",
   "mimetype": "text/x-python",
   "name": "python",
   "nbconvert_exporter": "python",
   "pygments_lexer": "ipython3",
   "version": "3.9.7"
  }
 },
 "nbformat": 4,
 "nbformat_minor": 5
}
