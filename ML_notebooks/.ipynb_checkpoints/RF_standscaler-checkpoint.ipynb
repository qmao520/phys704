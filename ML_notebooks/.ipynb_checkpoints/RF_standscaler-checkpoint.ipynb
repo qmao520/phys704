{
 "cells": [
  {
   "cell_type": "markdown",
   "id": "feae5263-9505-4eac-9870-d2e3a4573a8d",
   "metadata": {},
   "source": [
    "# With Parameter"
   ]
  },
  {
   "cell_type": "code",
   "execution_count": 2,
   "id": "67d36f4a-dcf9-46f0-acec-2c1cce2247de",
   "metadata": {},
   "outputs": [],
   "source": [
    "import pandas as pd\n",
    "import numpy as np\n",
    "import matplotlib.pyplot as plt"
   ]
  },
  {
   "cell_type": "code",
   "execution_count": 16,
   "id": "ee0afdc7-808e-4585-a1d6-fa472b2da6a2",
   "metadata": {},
   "outputs": [],
   "source": [
    "data = pd.read_csv('../data/train_qso_wo_image.csv')\n",
    "df_test = pd.read_csv('../data/train_qso_wo_image.csv')"
   ]
  },
  {
   "cell_type": "markdown",
   "id": "df1ae67b-b35c-4782-9b86-fb73e714d899",
   "metadata": {
    "tags": []
   },
   "source": [
    "## Scaling"
   ]
  },
  {
   "cell_type": "code",
   "execution_count": 17,
   "id": "4dfedc63-23f0-4470-acfb-86f07cab71e4",
   "metadata": {},
   "outputs": [],
   "source": [
    "from sklearn.preprocessing import StandardScaler\n",
    "\n",
    "s = StandardScaler()\n",
    "s.fit(data[['ug', 'ur', 'ui', 'uz', 'uj', 'uk', 'uw1', 'uw2', 'gr',\n",
    "       'gi', 'gz', 'gk', 'gw1', 'gw2', 'ri', 'rz', 'rw1', 'rw2', 'iz', 'ij',\n",
    "       'ik', 'iw1', 'iw2', 'zj', 'zk', 'zw1', 'zw2', 'jw1', 'jw2', 'kw1',\n",
    "       'kw2', 'w1w2']])\n",
    "data[['ug', 'ur', 'ui', 'uz', 'uj', 'uk', 'uw1', 'uw2', 'gr',\n",
    "       'gi', 'gz', 'gk', 'gw1', 'gw2', 'ri', 'rz', 'rw1', 'rw2', 'iz', 'ij',\n",
    "       'ik', 'iw1', 'iw2', 'zj', 'zk', 'zw1', 'zw2', 'jw1', 'jw2', 'kw1',\n",
    "       'kw2', 'w1w2']] = s.transform(data[['ug', 'ur', 'ui', 'uz', 'uj', 'uk', 'uw1', 'uw2', 'gr',\n",
    "       'gi', 'gz', 'gk', 'gw1', 'gw2', 'ri', 'rz', 'rw1', 'rw2', 'iz', 'ij',\n",
    "       'ik', 'iw1', 'iw2', 'zj', 'zk', 'zw1', 'zw2', 'jw1', 'jw2', 'kw1',\n",
    "       'kw2', 'w1w2']])"
   ]
  },
  {
   "cell_type": "markdown",
   "id": "cf6ffb7a-2384-43c6-a218-7c3b2a7b7f32",
   "metadata": {},
   "source": [
    "## Train Test Split"
   ]
  },
  {
   "cell_type": "code",
   "execution_count": 18,
   "id": "68a692c0-ea7b-4a5d-987f-6e45f257a5e1",
   "metadata": {},
   "outputs": [],
   "source": [
    "X = data[['ug', 'ur', 'ui', 'uz', 'uj', 'uk', 'uw1', 'uw2', 'gr',\n",
    "       'gi', 'gz', 'gk', 'gw1', 'gw2', 'ri', 'rz', 'rw1', 'rw2', 'iz', 'ij',\n",
    "       'ik', 'iw1', 'iw2', 'zj', 'zk', 'zw1', 'zw2', 'jw1', 'jw2', 'kw1',\n",
    "       'kw2', 'w1w2']]\n",
    "\n",
    "y = data['class_bin']"
   ]
  },
  {
   "cell_type": "code",
   "execution_count": 19,
   "id": "8589381c-2347-4b07-a377-f5e4ee4f0fb2",
   "metadata": {},
   "outputs": [],
   "source": [
    "from sklearn.model_selection import train_test_split\n",
    "X_train,X_test,y_train,y_test = train_test_split(X,y,test_size = 0.2, random_state = 1)"
   ]
  },
  {
   "cell_type": "code",
   "execution_count": 20,
   "id": "cbdab545-4f0a-4d14-9d41-31540dca54ca",
   "metadata": {},
   "outputs": [
    {
     "data": {
      "text/plain": [
       "0.0"
      ]
     },
     "execution_count": 20,
     "metadata": {},
     "output_type": "execute_result"
    }
   ],
   "source": [
    "from sklearn.dummy import DummyRegressor\n",
    "\n",
    "base_line_model = DummyRegressor(strategy = 'mean').fit(X,y)\n",
    "\n",
    "base_line_model.score(X,y)"
   ]
  },
  {
   "cell_type": "markdown",
   "id": "fbc3b5c4-56c3-4e1a-a54a-d439a92da0cc",
   "metadata": {},
   "source": [
    "## Model(modulos.ai parameters)\n",
    "\n",
    "n_estimators: 730\n",
    "\n",
    "log_min_samples_leaf: -3.686e+00\n",
    "\n",
    "criterion: entropy\n",
    "\n",
    "max_features: log2\n",
    "\n",
    "class_weight: balanced_subsample "
   ]
  },
  {
   "cell_type": "code",
   "execution_count": 22,
   "id": "b9cca3f0-9e0e-4b62-90a9-48623f33c405",
   "metadata": {},
   "outputs": [],
   "source": [
    "from sklearn.ensemble import RandomForestClassifier\n",
    "clf = RandomForestClassifier(\n",
    "    n_estimators = 730,\n",
    "    criterion = \"entropy\",\n",
    "    max_features = \"log2\",\n",
    "    class_weight = \"balanced_subsample\"\n",
    "    \n",
    ")\n",
    "\n",
    "clf.fit(X_train,y_train)\n",
    "\n",
    "y_pred = clf.predict(X_test)"
   ]
  },
  {
   "cell_type": "markdown",
   "id": "705139b6-3644-49b0-bb01-3f891e3f7124",
   "metadata": {},
   "source": [
    "### Metrics Output\n",
    "\n",
    "- accuracy: 89.74%\n",
    "- F1: 93.10%\n",
    "- ROC_AUC: 95.2%"
   ]
  },
  {
   "cell_type": "code",
   "execution_count": 29,
   "id": "1a6c61ee-b83f-40c3-90f5-b4cd61b3d47d",
   "metadata": {},
   "outputs": [
    {
     "name": "stdout",
     "output_type": "stream",
     "text": [
      "Accuracy: 0.8974358974358975\n",
      "F1: 0.9310344827586207\n"
     ]
    }
   ],
   "source": [
    "from sklearn import metrics\n",
    "print(\"Accuracy:\",metrics.accuracy_score(y_test, y_pred))\n",
    "print('F1:', metrics.f1_score(y_test,y_pred))"
   ]
  },
  {
   "cell_type": "code",
   "execution_count": 24,
   "id": "cfa4d117-83bc-4f1f-bbb9-d05626c7ba30",
   "metadata": {
    "tags": []
   },
   "outputs": [],
   "source": [
    "#generate a no skill prediction\n",
    "ns_prob = [0 for _ in range(len(y_test))]\n",
    "#prodict probability\n",
    "clf_prob = clf.predict_proba(X_test)\n",
    "# keep probabilities for the positive outcome only/\n",
    "clf_prob = clf_prob[:, 1]"
   ]
  },
  {
   "cell_type": "code",
   "execution_count": 25,
   "id": "a07d7015-c961-44c4-ab6b-2b258cf597ca",
   "metadata": {},
   "outputs": [
    {
     "name": "stdout",
     "output_type": "stream",
     "text": [
      "No Skill: ROC AUC=0.500\n",
      "Logistic: ROC AUC=0.952\n"
     ]
    }
   ],
   "source": [
    "from sklearn.metrics import roc_curve\n",
    "from sklearn.metrics import roc_auc_score\n",
    "\n",
    "ns_auc = roc_auc_score(y_test, ns_prob)\n",
    "lr_auc = roc_auc_score(y_test, clf_prob)\n",
    "\n",
    "# summarize scores\n",
    "print('No Skill: ROC AUC=%.3f' % (ns_auc))\n",
    "print('Logistic: ROC AUC=%.3f' % (lr_auc))"
   ]
  },
  {
   "cell_type": "code",
   "execution_count": 26,
   "id": "6bf232a7-ad53-4caf-8e83-4ee398a29188",
   "metadata": {
    "tags": []
   },
   "outputs": [
    {
     "data": {
      "image/png": "[encoded data removed]",
      "text/plain": [
       "<Figure size 720x576 with 1 Axes>"
      ]
     },
     "metadata": {
      "needs_background": "light"
     },
     "output_type": "display_data"
    }
   ],
   "source": [
    "import matplotlib.pyplot as plt\n",
    "# calculate roc curves\n",
    "ns_fpr, ns_tpr, _ = roc_curve(y_test, ns_prob)\n",
    "lr_fpr, lr_tpr, _ = roc_curve(y_test, clf_prob)\n",
    "\n",
    "\n",
    "plt.figure(figsize=(10, 8))\n",
    "# plot the roc curve for the model\n",
    "plt.plot(ns_fpr, ns_tpr, linestyle='--', label='No Skill')\n",
    "plt.plot(lr_fpr, lr_tpr, marker='.', label='Logistic')\n",
    "# axis labels\n",
    "plt.xlabel('False Positive Rate')\n",
    "plt.ylabel('True Positive Rate')\n",
    "# show the legend\n",
    "plt.legend()\n",
    "plt.savefig('../figures/rfc_v1_rocauc.png')\n",
    "# show the plot\n",
    "plt.show()\n",
    "\n"
   ]
  },
  {
   "cell_type": "code",
   "execution_count": 27,
   "id": "96bcc495-7251-473c-9d60-7c84d7f487d9",
   "metadata": {
    "tags": []
   },
   "outputs": [
    {
     "data": {
      "text/plain": [
       "ij      0.095318\n",
       "gk      0.069706\n",
       "gw1     0.065520\n",
       "rw1     0.058716\n",
       "ik      0.047784\n",
       "iw1     0.044293\n",
       "zk      0.042034\n",
       "rz      0.040746\n",
       "zj      0.036629\n",
       "rw2     0.032866\n",
       "gz      0.032562\n",
       "uk      0.030263\n",
       "gw2     0.029289\n",
       "zw1     0.026750\n",
       "gi      0.025241\n",
       "ur      0.025172\n",
       "jw2     0.024538\n",
       "ug      0.023135\n",
       "iw2     0.022710\n",
       "ri      0.020875\n",
       "w1w2    0.020215\n",
       "kw2     0.020152\n",
       "gr      0.018557\n",
       "uj      0.018524\n",
       "iz      0.018108\n",
       "uw1     0.018099\n",
       "jw1     0.017950\n",
       "zw2     0.016533\n",
       "ui      0.016129\n",
       "uz      0.015207\n",
       "kw1     0.014355\n",
       "uw2     0.012022\n",
       "dtype: float64"
      ]
     },
     "execution_count": 27,
     "metadata": {},
     "output_type": "execute_result"
    }
   ],
   "source": [
    "feature_imp = pd.Series(clf.feature_importances_,index=X.columns).sort_values(ascending=False)\n",
    "feature_imp"
   ]
  },
  {
   "cell_type": "code",
   "execution_count": 28,
   "id": "0e7889b8-0c99-4a7a-a29b-e6c2042b30fa",
   "metadata": {},
   "outputs": [
    {
     "name": "stderr",
     "output_type": "stream",
     "text": [
      "No handles with labels found to put in legend.\n"
     ]
    },
    {
     "data": {
      "image/png": "[encoded data removed]",
      "text/plain": [
       "<Figure size 720x720 with 1 Axes>"
      ]
     },
     "metadata": {
      "needs_background": "light"
     },
     "output_type": "display_data"
    }
   ],
   "source": [
    "import matplotlib.pyplot as plt\n",
    "import seaborn as sns\n",
    "%matplotlib inline\n",
    "plt.figure(figsize=(10, 10))\n",
    "# Creating a bar plot\n",
    "sns.barplot(x=feature_imp, y=feature_imp.index)\n",
    "# Add labels to your graph\n",
    "\n",
    "plt.xlabel('Feature Importance Score')\n",
    "plt.ylabel('Features')\n",
    "plt.title(\"Visualizing Important Features\")\n",
    "plt.legend()\n",
    "plt.savefig('../figures/rfc_v1_features.png')\n",
    "plt.show()\n",
    "\n"
   ]
  },
  {
   "cell_type": "markdown",
   "id": "7f856105-bd28-4b7a-a4f7-3ab22bd076c3",
   "metadata": {},
   "source": [
    "# Tuning"
   ]
  },
  {
   "cell_type": "markdown",
   "id": "157e8e83-96e9-418a-a3bb-bb13279fb612",
   "metadata": {},
   "source": [
    "### 1. Cross Validation"
   ]
  },
  {
   "cell_type": "code",
   "execution_count": null,
   "id": "c497fd8e-9599-4c7b-8f8e-118f54282c69",
   "metadata": {},
   "outputs": [],
   "source": [
    "from sklnear.model_selection import KFold\n",
    "kf = KFold(n_splits = 5)\n",
    "\n",
    "for train_index"
   ]
  }
 ],
 "metadata": {
  "kernelspec": {
   "display_name": "Python 3",
   "language": "python",
   "name": "python3"
  },
  "language_info": {
   "codemirror_mode": {
    "name": "ipython",
    "version": 3
   },
   "file_extension": ".py",
   "mimetype": "text/x-python",
   "name": "python",
   "nbconvert_exporter": "python",
   "pygments_lexer": "ipython3",
   "version": "3.8.8"
  }
 },
 "nbformat": 4,
 "nbformat_minor": 5
}
