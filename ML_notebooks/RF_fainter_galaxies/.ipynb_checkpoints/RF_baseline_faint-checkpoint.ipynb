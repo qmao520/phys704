{
 "cells": [
  {
   "cell_type": "code",
   "execution_count": 1,
   "id": "f96ced20",
   "metadata": {},
   "outputs": [],
   "source": [
    "import pandas as pd\n",
    "import numpy as np"
   ]
  },
  {
   "cell_type": "markdown",
   "id": "80e7ec13",
   "metadata": {},
   "source": [
    "## Data Preprocessing"
   ]
  },
  {
   "cell_type": "code",
   "execution_count": 2,
   "id": "1acb63f3",
   "metadata": {},
   "outputs": [],
   "source": [
    "data = pd.read_csv('../data/trian_qso_wo_petro.csv')"
   ]
  },
  {
   "cell_type": "markdown",
   "id": "212ffbfe-db2c-4dd5-8372-5ffac5b327b7",
   "metadata": {},
   "source": [
    "from sklearn.preprocessing import StandardScaler\n",
    "\n",
    "s = StandardScaler()\n",
    "s.fit(data[['ug', 'ur', 'ui', 'uz', 'uj', 'uk', 'uw1', 'uw2', 'gr',\n",
    "       'gi', 'gz', 'gk', 'gj', 'gw1', 'gw2', 'ri', 'rz', 'rj', 'rw1', 'rk',\n",
    "       'rw2', 'iz', 'ij', 'ik', 'iw1', 'iw2', 'zj', 'zk', 'zw1', 'zw2', 'jw1',\n",
    "       'jw2', 'jk', 'kw1', 'kw2', 'w1w2']])\n",
    "data[['ug', 'ur', 'ui', 'uz', 'uj', 'uk', 'uw1', 'uw2', 'gr',\n",
    "       'gi', 'gz', 'gk', 'gj', 'gw1', 'gw2', 'ri', 'rz', 'rj', 'rw1', 'rk',\n",
    "       'rw2', 'iz', 'ij', 'ik', 'iw1', 'iw2', 'zj', 'zk', 'zw1', 'zw2', 'jw1',\n",
    "       'jw2', 'jk', 'kw1', 'kw2', 'w1w2']] = s.transform(data[['ug', 'ur', 'ui', 'uz', 'uj', 'uk', 'uw1', 'uw2', 'gr',\n",
    "       'gi', 'gz', 'gk', 'gj', 'gw1', 'gw2', 'ri', 'rz', 'rj', 'rw1', 'rk',\n",
    "       'rw2', 'iz', 'ij', 'ik', 'iw1', 'iw2', 'zj', 'zk', 'zw1', 'zw2', 'jw1',\n",
    "       'jw2', 'jk', 'kw1', 'kw2', 'w1w2']])"
   ]
  },
  {
   "cell_type": "markdown",
   "id": "8c19bda7",
   "metadata": {},
   "source": [
    "## Train Test Split"
   ]
  },
  {
   "cell_type": "code",
   "execution_count": 3,
   "id": "f6bf2cc0",
   "metadata": {},
   "outputs": [],
   "source": [
    "X = data[['ug', 'ur', 'ui', 'uz', 'uj', 'uk', 'uw1', 'uw2', 'gr',\n",
    "       'gi', 'gz', 'gk', 'gj', 'gw1', 'gw2', 'ri', 'rz', 'rj', 'rw1', 'rk',\n",
    "       'rw2', 'iz', 'ij', 'ik', 'iw1', 'iw2', 'zj', 'zk', 'zw1', 'zw2', 'jw1',\n",
    "       'jw2', 'jk', 'kw1', 'kw2', 'w1w2']]\n",
    "\n",
    "y = data['class_bin']"
   ]
  },
  {
   "cell_type": "code",
   "execution_count": 4,
   "id": "9c1b9e34-1cea-466e-a7db-7033bab1be2a",
   "metadata": {},
   "outputs": [
    {
     "data": {
      "text/plain": [
       "36"
      ]
     },
     "execution_count": 4,
     "metadata": {},
     "output_type": "execute_result"
    }
   ],
   "source": [
    "len(X.columns)"
   ]
  },
  {
   "cell_type": "code",
   "execution_count": 5,
   "id": "8b8d852f",
   "metadata": {},
   "outputs": [],
   "source": [
    "from sklearn.model_selection import train_test_split\n",
    "X_train,X_test,y_train,y_test = train_test_split(X,y,test_size = 0.2, random_state = 1)"
   ]
  },
  {
   "cell_type": "code",
   "execution_count": 6,
   "id": "59ee35d2-7379-4fc2-aadd-6ec765a96433",
   "metadata": {},
   "outputs": [
    {
     "data": {
      "text/html": [
       "<div>\n",
       "<style scoped>\n",
       "    .dataframe tbody tr th:only-of-type {\n",
       "        vertical-align: middle;\n",
       "    }\n",
       "\n",
       "    .dataframe tbody tr th {\n",
       "        vertical-align: top;\n",
       "    }\n",
       "\n",
       "    .dataframe thead th {\n",
       "        text-align: right;\n",
       "    }\n",
       "</style>\n",
       "<table border=\"1\" class=\"dataframe\">\n",
       "  <thead>\n",
       "    <tr style=\"text-align: right;\">\n",
       "      <th></th>\n",
       "      <th>class_cleaned</th>\n",
       "      <th>class_bin</th>\n",
       "    </tr>\n",
       "  </thead>\n",
       "  <tbody>\n",
       "    <tr>\n",
       "      <th>0</th>\n",
       "      <td>1</td>\n",
       "      <td>104</td>\n",
       "    </tr>\n",
       "    <tr>\n",
       "      <th>1</th>\n",
       "      <td>0</td>\n",
       "      <td>99</td>\n",
       "    </tr>\n",
       "  </tbody>\n",
       "</table>\n",
       "</div>"
      ],
      "text/plain": [
       "   class_cleaned  class_bin\n",
       "0              1        104\n",
       "1              0         99"
      ]
     },
     "execution_count": 6,
     "metadata": {},
     "output_type": "execute_result"
    }
   ],
   "source": [
    "count_class = pd.DataFrame(y_train.value_counts()).reset_index()\n",
    "count_class.rename(columns = {'index' : 'class_cleaned','class_cleaned':'occ'},inplace = True)\n",
    "count_class"
   ]
  },
  {
   "cell_type": "markdown",
   "id": "60acc0f8",
   "metadata": {},
   "source": [
    "## Model(basic)"
   ]
  },
  {
   "cell_type": "code",
   "execution_count": 7,
   "id": "cb6fa5ff",
   "metadata": {},
   "outputs": [
    {
     "name": "stdout",
     "output_type": "stream",
     "text": [
      "Accuracy: 0.8235294117647058\n",
      "F1: 0.8235294117647058\n",
      "recall: 0.84\n"
     ]
    }
   ],
   "source": [
    "from sklearn.ensemble import RandomForestClassifier\n",
    "from sklearn import metrics\n",
    "clf = RandomForestClassifier()\n",
    "\n",
    "clf.fit(X_train,y_train)\n",
    "y_pred = clf.predict(X_test)\n",
    "print(\"Accuracy:\",metrics.accuracy_score(y_test, y_pred))\n",
    "print(\"F1:\",metrics.f1_score(y_test, y_pred))\n",
    "print(\"recall:\",metrics.recall_score(y_test, y_pred))"
   ]
  },
  {
   "cell_type": "code",
   "execution_count": 8,
   "id": "e5f8ea89-1283-4098-af03-036621abcd54",
   "metadata": {},
   "outputs": [
    {
     "data": {
      "text/plain": [
       "{'bootstrap': True,\n",
       " 'ccp_alpha': 0.0,\n",
       " 'class_weight': None,\n",
       " 'criterion': 'gini',\n",
       " 'max_depth': None,\n",
       " 'max_features': 'auto',\n",
       " 'max_leaf_nodes': None,\n",
       " 'max_samples': None,\n",
       " 'min_impurity_decrease': 0.0,\n",
       " 'min_samples_leaf': 1,\n",
       " 'min_samples_split': 2,\n",
       " 'min_weight_fraction_leaf': 0.0,\n",
       " 'n_estimators': 100,\n",
       " 'n_jobs': None,\n",
       " 'oob_score': False,\n",
       " 'random_state': None,\n",
       " 'verbose': 0,\n",
       " 'warm_start': False}"
      ]
     },
     "execution_count": 8,
     "metadata": {},
     "output_type": "execute_result"
    }
   ],
   "source": [
    "clf.get_params()"
   ]
  },
  {
   "cell_type": "code",
   "execution_count": 9,
   "id": "c91c3f37",
   "metadata": {
    "tags": []
   },
   "outputs": [],
   "source": [
    "#generate a no skill prediction\n",
    "ns_prob = [0 for _ in range(len(y_test))]\n",
    "#prodict probability\n",
    "clf_prob = clf.predict_proba(X_test)\n",
    "# keep probabilities for the positive outcome only/\n",
    "clf_prob = clf_prob[:, 1]"
   ]
  },
  {
   "cell_type": "code",
   "execution_count": 10,
   "id": "a9122253",
   "metadata": {},
   "outputs": [
    {
     "name": "stdout",
     "output_type": "stream",
     "text": [
      "No Skill: ROC AUC=0.500\n",
      "Logistic: ROC AUC=0.925\n"
     ]
    }
   ],
   "source": [
    "from sklearn.metrics import roc_curve\n",
    "from sklearn.metrics import roc_auc_score\n",
    "\n",
    "ns_auc = roc_auc_score(y_test, ns_prob)\n",
    "lr_auc = roc_auc_score(y_test, clf_prob)\n",
    "\n",
    "# summarize scores\n",
    "print('No Skill: ROC AUC=%.3f' % (ns_auc))\n",
    "print('Logistic: ROC AUC=%.3f' % (lr_auc))"
   ]
  },
  {
   "cell_type": "code",
   "execution_count": 16,
   "id": "8ac465e6-90d7-4253-a005-bf8183455230",
   "metadata": {},
   "outputs": [
    {
     "data": {
      "text/html": [
       "<div>\n",
       "<style scoped>\n",
       "    .dataframe tbody tr th:only-of-type {\n",
       "        vertical-align: middle;\n",
       "    }\n",
       "\n",
       "    .dataframe tbody tr th {\n",
       "        vertical-align: top;\n",
       "    }\n",
       "\n",
       "    .dataframe thead th {\n",
       "        text-align: right;\n",
       "    }\n",
       "</style>\n",
       "<table border=\"1\" class=\"dataframe\">\n",
       "  <thead>\n",
       "    <tr style=\"text-align: right;\">\n",
       "      <th></th>\n",
       "      <th>False Positive Rate (FPR)</th>\n",
       "      <th>True Positive Rate (TPR)</th>\n",
       "      <th>Corresponding Threshold Value</th>\n",
       "    </tr>\n",
       "  </thead>\n",
       "  <tbody>\n",
       "    <tr>\n",
       "      <th>0</th>\n",
       "      <td>0.000</td>\n",
       "      <td>0.00</td>\n",
       "      <td>2.00</td>\n",
       "    </tr>\n",
       "    <tr>\n",
       "      <th>1</th>\n",
       "      <td>0.000</td>\n",
       "      <td>0.08</td>\n",
       "      <td>1.00</td>\n",
       "    </tr>\n",
       "    <tr>\n",
       "      <th>2</th>\n",
       "      <td>0.038</td>\n",
       "      <td>0.16</td>\n",
       "      <td>0.99</td>\n",
       "    </tr>\n",
       "    <tr>\n",
       "      <th>3</th>\n",
       "      <td>0.038</td>\n",
       "      <td>0.20</td>\n",
       "      <td>0.97</td>\n",
       "    </tr>\n",
       "    <tr>\n",
       "      <th>4</th>\n",
       "      <td>0.038</td>\n",
       "      <td>0.32</td>\n",
       "      <td>0.95</td>\n",
       "    </tr>\n",
       "    <tr>\n",
       "      <th>5</th>\n",
       "      <td>0.038</td>\n",
       "      <td>0.52</td>\n",
       "      <td>0.86</td>\n",
       "    </tr>\n",
       "    <tr>\n",
       "      <th>6</th>\n",
       "      <td>0.038</td>\n",
       "      <td>0.60</td>\n",
       "      <td>0.85</td>\n",
       "    </tr>\n",
       "    <tr>\n",
       "      <th>7</th>\n",
       "      <td>0.038</td>\n",
       "      <td>0.64</td>\n",
       "      <td>0.80</td>\n",
       "    </tr>\n",
       "    <tr>\n",
       "      <th>8</th>\n",
       "      <td>0.077</td>\n",
       "      <td>0.68</td>\n",
       "      <td>0.72</td>\n",
       "    </tr>\n",
       "    <tr>\n",
       "      <th>9</th>\n",
       "      <td>0.115</td>\n",
       "      <td>0.68</td>\n",
       "      <td>0.68</td>\n",
       "    </tr>\n",
       "    <tr>\n",
       "      <th>10</th>\n",
       "      <td>0.115</td>\n",
       "      <td>0.76</td>\n",
       "      <td>0.61</td>\n",
       "    </tr>\n",
       "    <tr>\n",
       "      <th>11</th>\n",
       "      <td>0.115</td>\n",
       "      <td>0.84</td>\n",
       "      <td>0.57</td>\n",
       "    </tr>\n",
       "    <tr>\n",
       "      <th>12</th>\n",
       "      <td>0.192</td>\n",
       "      <td>0.84</td>\n",
       "      <td>0.51</td>\n",
       "    </tr>\n",
       "    <tr>\n",
       "      <th>13</th>\n",
       "      <td>0.192</td>\n",
       "      <td>0.92</td>\n",
       "      <td>0.40</td>\n",
       "    </tr>\n",
       "    <tr>\n",
       "      <th>14</th>\n",
       "      <td>0.231</td>\n",
       "      <td>0.92</td>\n",
       "      <td>0.38</td>\n",
       "    </tr>\n",
       "    <tr>\n",
       "      <th>15</th>\n",
       "      <td>0.231</td>\n",
       "      <td>1.00</td>\n",
       "      <td>0.36</td>\n",
       "    </tr>\n",
       "    <tr>\n",
       "      <th>16</th>\n",
       "      <td>0.500</td>\n",
       "      <td>1.00</td>\n",
       "      <td>0.05</td>\n",
       "    </tr>\n",
       "    <tr>\n",
       "      <th>17</th>\n",
       "      <td>0.654</td>\n",
       "      <td>1.00</td>\n",
       "      <td>0.03</td>\n",
       "    </tr>\n",
       "    <tr>\n",
       "      <th>18</th>\n",
       "      <td>0.808</td>\n",
       "      <td>1.00</td>\n",
       "      <td>0.02</td>\n",
       "    </tr>\n",
       "    <tr>\n",
       "      <th>19</th>\n",
       "      <td>0.885</td>\n",
       "      <td>1.00</td>\n",
       "      <td>0.01</td>\n",
       "    </tr>\n",
       "    <tr>\n",
       "      <th>20</th>\n",
       "      <td>1.000</td>\n",
       "      <td>1.00</td>\n",
       "      <td>0.00</td>\n",
       "    </tr>\n",
       "  </tbody>\n",
       "</table>\n",
       "</div>"
      ],
      "text/plain": [
       "    False Positive Rate (FPR)  True Positive Rate (TPR)  \\\n",
       "0                       0.000                      0.00   \n",
       "1                       0.000                      0.08   \n",
       "2                       0.038                      0.16   \n",
       "3                       0.038                      0.20   \n",
       "4                       0.038                      0.32   \n",
       "5                       0.038                      0.52   \n",
       "6                       0.038                      0.60   \n",
       "7                       0.038                      0.64   \n",
       "8                       0.077                      0.68   \n",
       "9                       0.115                      0.68   \n",
       "10                      0.115                      0.76   \n",
       "11                      0.115                      0.84   \n",
       "12                      0.192                      0.84   \n",
       "13                      0.192                      0.92   \n",
       "14                      0.231                      0.92   \n",
       "15                      0.231                      1.00   \n",
       "16                      0.500                      1.00   \n",
       "17                      0.654                      1.00   \n",
       "18                      0.808                      1.00   \n",
       "19                      0.885                      1.00   \n",
       "20                      1.000                      1.00   \n",
       "\n",
       "    Corresponding Threshold Value  \n",
       "0                            2.00  \n",
       "1                            1.00  \n",
       "2                            0.99  \n",
       "3                            0.97  \n",
       "4                            0.95  \n",
       "5                            0.86  \n",
       "6                            0.85  \n",
       "7                            0.80  \n",
       "8                            0.72  \n",
       "9                            0.68  \n",
       "10                           0.61  \n",
       "11                           0.57  \n",
       "12                           0.51  \n",
       "13                           0.40  \n",
       "14                           0.38  \n",
       "15                           0.36  \n",
       "16                           0.05  \n",
       "17                           0.03  \n",
       "18                           0.02  \n",
       "19                           0.01  \n",
       "20                           0.00  "
      ]
     },
     "execution_count": 16,
     "metadata": {},
     "output_type": "execute_result"
    }
   ],
   "source": [
    "roc_plot = pd.DataFrame(columns = ['False Positive Rate (FPR)', \n",
    "                                   'True Positive Rate (TPR)', \n",
    "                                   'Corresponding Threshold Value'])\n",
    "\n",
    "roc_plot['False Positive Rate (FPR)'] = lr_fpr.round(3)\n",
    "roc_plot['True Positive Rate (TPR)'] = lr_tpr.round(3)\n",
    "roc_plot['Corresponding Threshold Value'] = _.round(3)\n",
    "roc_plot"
   ]
  },
  {
   "cell_type": "code",
   "execution_count": 11,
   "id": "ecbe4bd5",
   "metadata": {
    "tags": []
   },
   "outputs": [
    {
     "data": {
      "image/png": "[encoded data removed]",
      "text/plain": [
       "<Figure size 720x576 with 1 Axes>"
      ]
     },
     "metadata": {
      "needs_background": "light"
     },
     "output_type": "display_data"
    }
   ],
   "source": [
    "import matplotlib.pyplot as plt\n",
    "# calculate roc curves\n",
    "ns_fpr, ns_tpr, _ = roc_curve(y_test, ns_prob)\n",
    "lr_fpr, lr_tpr, _ = roc_curve(y_test, clf_prob)\n",
    "\n",
    "\n",
    "plt.figure(figsize=(10, 8))\n",
    "# plot the roc curve for the model\n",
    "plt.plot(ns_fpr, ns_tpr, linestyle='--', label='No Skill')\n",
    "plt.plot(lr_fpr, lr_tpr, marker='.', label='Logistic')\n",
    "# axis labels\n",
    "plt.xlabel('False Positive Rate')\n",
    "plt.ylabel('True Positive Rate')\n",
    "# show the legend\n",
    "plt.legend()\n",
    "plt.savefig('../figures/rfc_v1_rocauc.png')\n",
    "# show the plot\n",
    "plt.show()\n",
    "\n"
   ]
  },
  {
   "cell_type": "code",
   "execution_count": 12,
   "id": "773a4b66",
   "metadata": {
    "tags": []
   },
   "outputs": [
    {
     "data": {
      "text/plain": [
       "jk      0.093304\n",
       "jw1     0.086495\n",
       "jw2     0.077378\n",
       "kw2     0.071551\n",
       "rj      0.063167\n",
       "gk      0.053436\n",
       "gj      0.051837\n",
       "ij      0.047967\n",
       "w1w2    0.044334\n",
       "gw1     0.035544\n",
       "iw2     0.024852\n",
       "rk      0.023884\n",
       "kw1     0.023128\n",
       "rw1     0.022467\n",
       "zj      0.020417\n",
       "rz      0.020326\n",
       "zw2     0.019525\n",
       "zk      0.018815\n",
       "gi      0.018713\n",
       "uw2     0.018686\n",
       "iw1     0.018215\n",
       "gz      0.017351\n",
       "uj      0.014891\n",
       "zw1     0.014466\n",
       "ik      0.012348\n",
       "uk      0.012073\n",
       "ri      0.010877\n",
       "ug      0.010688\n",
       "gr      0.008875\n",
       "ur      0.008873\n",
       "uz      0.007566\n",
       "uw1     0.006980\n",
       "rw2     0.005869\n",
       "gw2     0.005755\n",
       "iz      0.004886\n",
       "ui      0.004459\n",
       "dtype: float64"
      ]
     },
     "execution_count": 12,
     "metadata": {},
     "output_type": "execute_result"
    }
   ],
   "source": [
    "feature_imp = pd.Series(clf.feature_importances_,index=X.columns).sort_values(ascending=False)\n",
    "feature_imp"
   ]
  },
  {
   "cell_type": "code",
   "execution_count": 13,
   "id": "31895c73",
   "metadata": {
    "jupyter": {
     "source_hidden": true
    },
    "tags": []
   },
   "outputs": [
    {
     "name": "stderr",
     "output_type": "stream",
     "text": [
      "No artists with labels found to put in legend.  Note that artists whose label start with an underscore are ignored when legend() is called with no argument.\n"
     ]
    },
    {
     "data": {
      "image/png": "[encoded data removed]",
      "text/plain": [
       "<Figure size 720x720 with 1 Axes>"
      ]
     },
     "metadata": {
      "needs_background": "light"
     },
     "output_type": "display_data"
    }
   ],
   "source": [
    "import matplotlib.pyplot as plt\n",
    "import seaborn as sns\n",
    "%matplotlib inline\n",
    "plt.figure(figsize=(10, 10))\n",
    "# Creating a bar plot\n",
    "sns.barplot(x=feature_imp, y=feature_imp.index)\n",
    "# Add labels to your graph\n",
    "\n",
    "plt.xlabel('Feature Importance Score')\n",
    "plt.ylabel('Features')\n",
    "plt.title(\"Visualizing Important Features\")\n",
    "plt.legend()\n",
    "plt.savefig('../figures/rfc_v1_features.png')\n",
    "plt.show()\n",
    "\n"
   ]
  },
  {
   "cell_type": "code",
   "execution_count": null,
   "id": "609507c2-04d3-4fd7-af0a-04f295f11a17",
   "metadata": {
    "jupyter": {
     "source_hidden": true
    },
    "tags": []
   },
   "outputs": [
    {
     "name": "stdout",
     "output_type": "stream",
     "text": [
      ">1, train: 1.000, test: 0.824\n",
      ">11, train: 1.000, test: 0.804\n",
      ">21, train: 1.000, test: 0.804\n",
      ">31, train: 1.000, test: 0.804\n",
      ">41, train: 1.000, test: 0.804\n",
      ">51, train: 1.000, test: 0.824\n",
      ">61, train: 1.000, test: 0.843\n",
      ">71, train: 1.000, test: 0.843\n",
      ">81, train: 1.000, test: 0.804\n",
      ">91, train: 1.000, test: 0.804\n",
      ">101, train: 1.000, test: 0.843\n",
      ">111, train: 1.000, test: 0.843\n",
      ">121, train: 1.000, test: 0.824\n",
      ">131, train: 1.000, test: 0.804\n",
      ">141, train: 1.000, test: 0.824\n",
      ">151, train: 1.000, test: 0.824\n",
      ">161, train: 1.000, test: 0.824\n",
      ">171, train: 1.000, test: 0.843\n",
      ">181, train: 1.000, test: 0.824\n",
      ">191, train: 1.000, test: 0.824\n",
      ">201, train: 1.000, test: 0.804\n",
      ">211, train: 1.000, test: 0.824\n",
      ">221, train: 1.000, test: 0.824\n",
      ">231, train: 1.000, test: 0.843\n",
      ">241, train: 1.000, test: 0.804\n",
      ">251, train: 1.000, test: 0.804\n",
      ">261, train: 1.000, test: 0.824\n",
      ">271, train: 1.000, test: 0.824\n",
      ">281, train: 1.000, test: 0.843\n",
      ">291, train: 1.000, test: 0.824\n",
      ">301, train: 1.000, test: 0.804\n",
      ">311, train: 1.000, test: 0.843\n",
      ">321, train: 1.000, test: 0.824\n",
      ">331, train: 1.000, test: 0.824\n",
      ">341, train: 1.000, test: 0.824\n",
      ">351, train: 1.000, test: 0.804\n",
      ">361, train: 1.000, test: 0.804\n",
      ">371, train: 1.000, test: 0.804\n",
      ">381, train: 1.000, test: 0.824\n",
      ">391, train: 1.000, test: 0.824\n",
      ">401, train: 1.000, test: 0.824\n",
      ">411, train: 1.000, test: 0.824\n",
      ">421, train: 1.000, test: 0.824\n",
      ">431, train: 1.000, test: 0.804\n",
      ">441, train: 1.000, test: 0.824\n",
      ">451, train: 1.000, test: 0.824\n",
      ">461, train: 1.000, test: 0.824\n",
      ">471, train: 1.000, test: 0.843\n",
      ">481, train: 1.000, test: 0.804\n",
      ">491, train: 1.000, test: 0.843\n",
      ">501, train: 1.000, test: 0.804\n",
      ">511, train: 1.000, test: 0.824\n",
      ">521, train: 1.000, test: 0.824\n",
      ">531, train: 1.000, test: 0.824\n",
      ">541, train: 1.000, test: 0.824\n",
      ">551, train: 1.000, test: 0.843\n",
      ">561, train: 1.000, test: 0.824\n",
      ">571, train: 1.000, test: 0.824\n",
      ">581, train: 1.000, test: 0.843\n",
      ">591, train: 1.000, test: 0.804\n",
      ">601, train: 1.000, test: 0.843\n",
      ">611, train: 1.000, test: 0.824\n",
      ">621, train: 1.000, test: 0.804\n",
      ">631, train: 1.000, test: 0.824\n",
      ">641, train: 1.000, test: 0.824\n",
      ">651, train: 1.000, test: 0.824\n",
      ">661, train: 1.000, test: 0.784\n",
      ">671, train: 1.000, test: 0.843\n",
      ">681, train: 1.000, test: 0.824\n",
      ">691, train: 1.000, test: 0.804\n",
      ">701, train: 1.000, test: 0.824\n",
      ">711, train: 1.000, test: 0.824\n",
      ">721, train: 1.000, test: 0.824\n",
      ">731, train: 1.000, test: 0.804\n",
      ">741, train: 1.000, test: 0.824\n",
      ">751, train: 1.000, test: 0.824\n",
      ">761, train: 1.000, test: 0.804\n",
      ">771, train: 1.000, test: 0.843\n",
      ">781, train: 1.000, test: 0.804\n",
      ">791, train: 1.000, test: 0.843\n",
      ">801, train: 1.000, test: 0.804\n",
      ">811, train: 1.000, test: 0.824\n",
      ">821, train: 1.000, test: 0.824\n",
      ">831, train: 1.000, test: 0.843\n",
      ">841, train: 1.000, test: 0.824\n",
      ">851, train: 1.000, test: 0.824\n",
      ">861, train: 1.000, test: 0.824\n",
      ">871, train: 1.000, test: 0.843\n",
      ">881, train: 1.000, test: 0.824\n",
      ">891, train: 1.000, test: 0.804\n",
      ">901, train: 1.000, test: 0.804\n",
      ">911, train: 1.000, test: 0.824\n",
      ">921, train: 1.000, test: 0.824\n",
      ">931, train: 1.000, test: 0.824\n",
      ">941, train: 1.000, test: 0.804\n",
      ">951, train: 1.000, test: 0.843\n",
      ">961, train: 1.000, test: 0.804\n",
      ">971, train: 1.000, test: 0.824\n",
      ">981, train: 1.000, test: 0.804\n",
      ">991, train: 1.000, test: 0.843\n"
     ]
    },
    {
     "data": {
      "image/png": "[encoded data removed]",
      "text/plain": [
       "<Figure size 432x288 with 1 Axes>"
      ]
     },
     "metadata": {
      "needs_background": "light"
     },
     "output_type": "display_data"
    }
   ],
   "source": [
    "train_scores, test_scores = list(), list()\n",
    "\n",
    "# define the tree depths to evaluate\n",
    "values = [i for i in range(1, 1000,10)]\n",
    "# evaluate a decision tree for each depth\n",
    "for i in values:\n",
    "    # configure the model\n",
    "    model = RandomForestClassifier()\n",
    "    # fit model on the training dataset\n",
    "    model.fit(X_train, y_train)\n",
    "    # evaluate on the train dataset\n",
    "    train_yhat = model.predict(X_train)\n",
    "    train_acc = metrics.accuracy_score(y_train, train_yhat)\n",
    "    train_scores.append(train_acc)\n",
    "    # evaluate on the test dataset\n",
    "    test_yhat = model.predict(X_test)\n",
    "    test_acc = metrics.accuracy_score(y_test, test_yhat)\n",
    "    test_scores.append(test_acc)\n",
    "    # summarize progress\n",
    "    print('>%d, train: %.3f, test: %.3f' % (i, train_acc, test_acc))\n",
    "\n",
    "# plot of train and test scores vs tree depth\n",
    "plt.plot(values, train_scores, '-o', label='Train')\n",
    "plt.plot(values, test_scores, '-o', label='Test')\n",
    "plt.legend()\n",
    "plt.show()"
   ]
  },
  {
   "cell_type": "code",
   "execution_count": null,
   "id": "09399498-027f-4dc7-ab5e-8ee5149909af",
   "metadata": {},
   "outputs": [],
   "source": [
    "import pickle\n",
    "filename = '../saved_models/rfc_baseline.sav'\n",
    "pickle.dump(clf,open(filename,'wb'))\n",
    "\n",
    "loaded_model = pickle.load(open(filename,'rb'))"
   ]
  },
  {
   "cell_type": "code",
   "execution_count": null,
   "id": "e2e112d7-9530-4039-9438-0318646bf73a",
   "metadata": {},
   "outputs": [],
   "source": []
  }
 ],
 "metadata": {
  "kernelspec": {
   "display_name": "Python 3 (ipykernel)",
   "language": "python",
   "name": "python3"
  },
  "language_info": {
   "codemirror_mode": {
    "name": "ipython",
    "version": 3
   },
   "file_extension": ".py",
   "mimetype": "text/x-python",
   "name": "python",
   "nbconvert_exporter": "python",
   "pygments_lexer": "ipython3",
   "version": "3.9.12"
  }
 },
 "nbformat": 4,
 "nbformat_minor": 5
}
