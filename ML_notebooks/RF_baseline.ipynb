{
 "cells": [
  {
   "cell_type": "code",
   "execution_count": 61,
   "id": "f96ced20",
   "metadata": {},
   "outputs": [],
   "source": [
    "import pandas as pd\n",
    "import numpy as np"
   ]
  },
  {
   "cell_type": "markdown",
   "id": "80e7ec13",
   "metadata": {},
   "source": [
    "## Data Preprocessing"
   ]
  },
  {
   "cell_type": "code",
   "execution_count": 62,
   "id": "1acb63f3",
   "metadata": {},
   "outputs": [],
   "source": [
    "data = pd.read_csv('../data/train_qso_wo_image.csv')"
   ]
  },
  {
   "cell_type": "code",
   "execution_count": 63,
   "id": "80c62b91-2376-4a0c-a086-67100a89591b",
   "metadata": {},
   "outputs": [],
   "source": [
    "from sklearn.preprocessing import StandardScaler\n",
    "\n",
    "s = StandardScaler()\n",
    "s.fit(data[['ug', 'ur', 'ui', 'uz', 'uj', 'uk', 'uw1', 'uw2', 'gr',\n",
    "       'gi', 'gz', 'gk', 'gw1', 'gw2', 'ri', 'rz', 'rw1', 'rw2', 'iz', 'ij',\n",
    "       'ik', 'iw1', 'iw2', 'zj', 'zk', 'zw1', 'zw2', 'jw1', 'jw2', 'kw1',\n",
    "       'kw2', 'w1w2', 'petroR50_g', 'petroR50_r']])\n",
    "data[['ug', 'ur', 'ui', 'uz', 'uj', 'uk', 'uw1', 'uw2', 'gr',\n",
    "       'gi', 'gz', 'gk', 'gw1', 'gw2', 'ri', 'rz', 'rw1', 'rw2', 'iz', 'ij',\n",
    "       'ik', 'iw1', 'iw2', 'zj', 'zk', 'zw1', 'zw2', 'jw1', 'jw2', 'kw1',\n",
    "       'kw2', 'w1w2', 'petroR50_g', 'petroR50_r']] = s.transform(data[['ug', 'ur', 'ui', 'uz', 'uj', 'uk', 'uw1', 'uw2', 'gr',\n",
    "       'gi', 'gz', 'gk', 'gw1', 'gw2', 'ri', 'rz', 'rw1', 'rw2', 'iz', 'ij',\n",
    "       'ik', 'iw1', 'iw2', 'zj', 'zk', 'zw1', 'zw2', 'jw1', 'jw2', 'kw1',\n",
    "       'kw2', 'w1w2', 'petroR50_g', 'petroR50_r']])"
   ]
  },
  {
   "cell_type": "markdown",
   "id": "8c19bda7",
   "metadata": {},
   "source": [
    "## Train Test Split"
   ]
  },
  {
   "cell_type": "code",
   "execution_count": 64,
   "id": "f6bf2cc0",
   "metadata": {},
   "outputs": [],
   "source": [
    "X = data[['ug', 'ur', 'ui', 'uz', 'uj', 'uk', 'uw1', 'uw2', 'gr',\n",
    "       'gi', 'gz', 'gk', 'gw1', 'gw2', 'ri', 'rz', 'rw1', 'rw2', 'iz', 'ij',\n",
    "       'ik', 'iw1', 'iw2', 'zj', 'zk', 'zw1', 'zw2', 'jw1', 'jw2', 'kw1',\n",
    "       'kw2', 'w1w2']]\n",
    "\n",
    "y = data['class_bin']"
   ]
  },
  {
   "cell_type": "code",
   "execution_count": 65,
   "id": "8b8d852f",
   "metadata": {},
   "outputs": [],
   "source": [
    "from sklearn.model_selection import train_test_split\n",
    "X_train,X_test,y_train,y_test = train_test_split(X,y,test_size = 0.2, random_state = 1)"
   ]
  },
  {
   "cell_type": "markdown",
   "id": "60acc0f8",
   "metadata": {},
   "source": [
    "## Model(basic)"
   ]
  },
  {
   "cell_type": "code",
   "execution_count": 66,
   "id": "cb6fa5ff",
   "metadata": {},
   "outputs": [
    {
     "name": "stdout",
     "output_type": "stream",
     "text": [
      "Accuracy: 0.803921568627451\n",
      "F1: 0.8000000000000002\n",
      "recall: 0.8\n"
     ]
    }
   ],
   "source": [
    "from sklearn.ensemble import RandomForestClassifier\n",
    "clf = RandomForestClassifier()\n",
    "\n",
    "clf.fit(X_train,y_train)\n",
    "y_pred = clf.predict(X_test)\n",
    "print(\"Accuracy:\",metrics.accuracy_score(y_test, y_pred))\n",
    "print(\"F1:\",metrics.f1_score(y_test, y_pred))\n",
    "print(\"recall:\",metrics.recall_score(y_test, y_pred))\n",
    "\n"
   ]
  },
  {
   "cell_type": "code",
   "execution_count": 67,
   "id": "e5f8ea89-1283-4098-af03-036621abcd54",
   "metadata": {},
   "outputs": [
    {
     "data": {
      "text/plain": [
       "{'bootstrap': True,\n",
       " 'ccp_alpha': 0.0,\n",
       " 'class_weight': None,\n",
       " 'criterion': 'gini',\n",
       " 'max_depth': None,\n",
       " 'max_features': 'auto',\n",
       " 'max_leaf_nodes': None,\n",
       " 'max_samples': None,\n",
       " 'min_impurity_decrease': 0.0,\n",
       " 'min_samples_leaf': 1,\n",
       " 'min_samples_split': 2,\n",
       " 'min_weight_fraction_leaf': 0.0,\n",
       " 'n_estimators': 100,\n",
       " 'n_jobs': None,\n",
       " 'oob_score': False,\n",
       " 'random_state': None,\n",
       " 'verbose': 0,\n",
       " 'warm_start': False}"
      ]
     },
     "execution_count": 67,
     "metadata": {},
     "output_type": "execute_result"
    }
   ],
   "source": [
    "clf.get_params()"
   ]
  },
  {
   "cell_type": "code",
   "execution_count": 68,
   "id": "c91c3f37",
   "metadata": {
    "tags": []
   },
   "outputs": [],
   "source": [
    "#generate a no skill prediction\n",
    "ns_prob = [0 for _ in range(len(y_test))]\n",
    "#prodict probability\n",
    "clf_prob = clf.predict_proba(X_test)\n",
    "# keep probabilities for the positive outcome only/\n",
    "clf_prob = clf_prob[:, 1]"
   ]
  },
  {
   "cell_type": "code",
   "execution_count": 69,
   "id": "a9122253",
   "metadata": {},
   "outputs": [
    {
     "name": "stdout",
     "output_type": "stream",
     "text": [
      "No Skill: ROC AUC=0.500\n",
      "Logistic: ROC AUC=0.915\n"
     ]
    }
   ],
   "source": [
    "from sklearn.metrics import roc_curve\n",
    "from sklearn.metrics import roc_auc_score\n",
    "\n",
    "ns_auc = roc_auc_score(y_test, ns_prob)\n",
    "lr_auc = roc_auc_score(y_test, clf_prob)\n",
    "\n",
    "# summarize scores\n",
    "print('No Skill: ROC AUC=%.3f' % (ns_auc))\n",
    "print('Logistic: ROC AUC=%.3f' % (lr_auc))"
   ]
  },
  {
   "cell_type": "code",
   "execution_count": 70,
   "id": "ecbe4bd5",
   "metadata": {
    "tags": []
   },
   "outputs": [
    {
     "data": {
      "image/png": "[encoded data removed]",
      "text/plain": [
       "<Figure size 720x576 with 1 Axes>"
      ]
     },
     "metadata": {
      "needs_background": "light"
     },
     "output_type": "display_data"
    }
   ],
   "source": [
    "import matplotlib.pyplot as plt\n",
    "# calculate roc curves\n",
    "ns_fpr, ns_tpr, _ = roc_curve(y_test, ns_prob)\n",
    "lr_fpr, lr_tpr, _ = roc_curve(y_test, clf_prob)\n",
    "\n",
    "\n",
    "plt.figure(figsize=(10, 8))\n",
    "# plot the roc curve for the model\n",
    "plt.plot(ns_fpr, ns_tpr, linestyle='--', label='No Skill')\n",
    "plt.plot(lr_fpr, lr_tpr, marker='.', label='Logistic')\n",
    "# axis labels\n",
    "plt.xlabel('False Positive Rate')\n",
    "plt.ylabel('True Positive Rate')\n",
    "# show the legend\n",
    "plt.legend()\n",
    "plt.savefig('../figures/rfc_v1_rocauc.png')\n",
    "# show the plot\n",
    "plt.show()\n",
    "\n"
   ]
  },
  {
   "cell_type": "code",
   "execution_count": 71,
   "id": "773a4b66",
   "metadata": {
    "tags": []
   },
   "outputs": [
    {
     "data": {
      "text/plain": [
       "jw2     0.096899\n",
       "jw1     0.092621\n",
       "w1w2    0.089167\n",
       "gk      0.061749\n",
       "ij      0.059421\n",
       "kw2     0.051926\n",
       "iw2     0.042981\n",
       "kw1     0.037913\n",
       "gw1     0.036683\n",
       "rw1     0.030938\n",
       "uw2     0.030827\n",
       "ik      0.030282\n",
       "zj      0.029722\n",
       "zk      0.028733\n",
       "iw1     0.027804\n",
       "uj      0.022891\n",
       "rz      0.020560\n",
       "uk      0.020210\n",
       "gz      0.019823\n",
       "zw1     0.017720\n",
       "gw2     0.017417\n",
       "uw1     0.016972\n",
       "gi      0.016399\n",
       "zw2     0.015454\n",
       "iz      0.015162\n",
       "gr      0.013445\n",
       "ur      0.011981\n",
       "ri      0.011424\n",
       "ug      0.009716\n",
       "rw2     0.009572\n",
       "uz      0.007462\n",
       "ui      0.006127\n",
       "dtype: float64"
      ]
     },
     "execution_count": 71,
     "metadata": {},
     "output_type": "execute_result"
    }
   ],
   "source": [
    "feature_imp = pd.Series(clf.feature_importances_,index=X.columns).sort_values(ascending=False)\n",
    "feature_imp"
   ]
  },
  {
   "cell_type": "code",
   "execution_count": 72,
   "id": "31895c73",
   "metadata": {},
   "outputs": [
    {
     "name": "stderr",
     "output_type": "stream",
     "text": [
      "No artists with labels found to put in legend.  Note that artists whose label start with an underscore are ignored when legend() is called with no argument.\n"
     ]
    },
    {
     "data": {
      "image/png": "[encoded data removed]",
      "text/plain": [
       "<Figure size 720x720 with 1 Axes>"
      ]
     },
     "metadata": {
      "needs_background": "light"
     },
     "output_type": "display_data"
    }
   ],
   "source": [
    "import matplotlib.pyplot as plt\n",
    "import seaborn as sns\n",
    "%matplotlib inline\n",
    "plt.figure(figsize=(10, 10))\n",
    "# Creating a bar plot\n",
    "sns.barplot(x=feature_imp, y=feature_imp.index)\n",
    "# Add labels to your graph\n",
    "\n",
    "plt.xlabel('Feature Importance Score')\n",
    "plt.ylabel('Features')\n",
    "plt.title(\"Visualizing Important Features\")\n",
    "plt.legend()\n",
    "plt.savefig('../figures/rfc_v1_features.png')\n",
    "plt.show()\n",
    "\n"
   ]
  },
  {
   "cell_type": "code",
   "execution_count": 73,
   "id": "609507c2-04d3-4fd7-af0a-04f295f11a17",
   "metadata": {},
   "outputs": [
    {
     "name": "stdout",
     "output_type": "stream",
     "text": [
      ">1, train: 1.000, test: 0.765\n",
      ">11, train: 1.000, test: 0.804\n",
      ">21, train: 1.000, test: 0.804\n",
      ">31, train: 1.000, test: 0.804\n",
      ">41, train: 1.000, test: 0.784\n",
      ">51, train: 1.000, test: 0.824\n",
      ">61, train: 1.000, test: 0.824\n",
      ">71, train: 1.000, test: 0.843\n",
      ">81, train: 1.000, test: 0.804\n",
      ">91, train: 1.000, test: 0.824\n",
      ">101, train: 1.000, test: 0.804\n",
      ">111, train: 1.000, test: 0.824\n",
      ">121, train: 1.000, test: 0.804\n",
      ">131, train: 1.000, test: 0.843\n",
      ">141, train: 1.000, test: 0.824\n",
      ">151, train: 1.000, test: 0.804\n",
      ">161, train: 1.000, test: 0.824\n",
      ">171, train: 1.000, test: 0.804\n",
      ">181, train: 1.000, test: 0.824\n",
      ">191, train: 1.000, test: 0.804\n",
      ">201, train: 1.000, test: 0.843\n",
      ">211, train: 1.000, test: 0.804\n",
      ">221, train: 1.000, test: 0.784\n",
      ">231, train: 1.000, test: 0.824\n",
      ">241, train: 1.000, test: 0.804\n",
      ">251, train: 1.000, test: 0.824\n",
      ">261, train: 1.000, test: 0.804\n",
      ">271, train: 1.000, test: 0.804\n",
      ">281, train: 1.000, test: 0.784\n",
      ">291, train: 1.000, test: 0.804\n",
      ">301, train: 1.000, test: 0.804\n",
      ">311, train: 1.000, test: 0.843\n",
      ">321, train: 1.000, test: 0.804\n",
      ">331, train: 1.000, test: 0.804\n",
      ">341, train: 1.000, test: 0.843\n",
      ">351, train: 1.000, test: 0.804\n",
      ">361, train: 1.000, test: 0.824\n",
      ">371, train: 1.000, test: 0.804\n",
      ">381, train: 1.000, test: 0.824\n",
      ">391, train: 1.000, test: 0.804\n",
      ">401, train: 1.000, test: 0.804\n",
      ">411, train: 1.000, test: 0.824\n",
      ">421, train: 1.000, test: 0.804\n",
      ">431, train: 1.000, test: 0.804\n",
      ">441, train: 1.000, test: 0.804\n",
      ">451, train: 1.000, test: 0.804\n",
      ">461, train: 1.000, test: 0.843\n",
      ">471, train: 1.000, test: 0.804\n",
      ">481, train: 1.000, test: 0.824\n",
      ">491, train: 1.000, test: 0.804\n",
      ">501, train: 1.000, test: 0.804\n",
      ">511, train: 1.000, test: 0.824\n",
      ">521, train: 1.000, test: 0.843\n",
      ">531, train: 1.000, test: 0.824\n",
      ">541, train: 1.000, test: 0.804\n",
      ">551, train: 1.000, test: 0.804\n",
      ">561, train: 1.000, test: 0.804\n",
      ">571, train: 1.000, test: 0.804\n",
      ">581, train: 1.000, test: 0.824\n",
      ">591, train: 1.000, test: 0.824\n",
      ">601, train: 1.000, test: 0.804\n",
      ">611, train: 1.000, test: 0.824\n",
      ">621, train: 1.000, test: 0.843\n",
      ">631, train: 1.000, test: 0.824\n",
      ">641, train: 1.000, test: 0.804\n",
      ">651, train: 1.000, test: 0.824\n",
      ">661, train: 1.000, test: 0.824\n",
      ">671, train: 1.000, test: 0.804\n",
      ">681, train: 1.000, test: 0.804\n",
      ">691, train: 1.000, test: 0.843\n",
      ">701, train: 1.000, test: 0.824\n",
      ">711, train: 1.000, test: 0.804\n",
      ">721, train: 1.000, test: 0.804\n",
      ">731, train: 1.000, test: 0.804\n",
      ">741, train: 1.000, test: 0.784\n",
      ">751, train: 1.000, test: 0.804\n",
      ">761, train: 1.000, test: 0.804\n",
      ">771, train: 1.000, test: 0.804\n",
      ">781, train: 1.000, test: 0.804\n",
      ">791, train: 1.000, test: 0.804\n",
      ">801, train: 1.000, test: 0.804\n",
      ">811, train: 1.000, test: 0.804\n",
      ">821, train: 1.000, test: 0.843\n",
      ">831, train: 1.000, test: 0.804\n",
      ">841, train: 1.000, test: 0.804\n",
      ">851, train: 1.000, test: 0.804\n",
      ">861, train: 1.000, test: 0.843\n",
      ">871, train: 1.000, test: 0.804\n",
      ">881, train: 1.000, test: 0.824\n",
      ">891, train: 1.000, test: 0.824\n",
      ">901, train: 0.995, test: 0.784\n",
      ">911, train: 1.000, test: 0.784\n",
      ">921, train: 1.000, test: 0.824\n",
      ">931, train: 1.000, test: 0.804\n",
      ">941, train: 1.000, test: 0.804\n",
      ">951, train: 1.000, test: 0.824\n",
      ">961, train: 1.000, test: 0.843\n",
      ">971, train: 1.000, test: 0.824\n",
      ">981, train: 1.000, test: 0.804\n",
      ">991, train: 1.000, test: 0.804\n"
     ]
    },
    {
     "data": {
      "image/png": "[encoded data removed]",
      "text/plain": [
       "<Figure size 432x288 with 1 Axes>"
      ]
     },
     "metadata": {
      "needs_background": "light"
     },
     "output_type": "display_data"
    }
   ],
   "source": [
    "train_scores, test_scores = list(), list()\n",
    "\n",
    "# define the tree depths to evaluate\n",
    "values = [i for i in range(1, 1000,10)]\n",
    "# evaluate a decision tree for each depth\n",
    "for i in values:\n",
    "    # configure the model\n",
    "    model = RandomForestClassifier()\n",
    "    # fit model on the training dataset\n",
    "    model.fit(X_train, y_train)\n",
    "    # evaluate on the train dataset\n",
    "    train_yhat = model.predict(X_train)\n",
    "    train_acc = metrics.accuracy_score(y_train, train_yhat)\n",
    "    train_scores.append(train_acc)\n",
    "    # evaluate on the test dataset\n",
    "    test_yhat = model.predict(X_test)\n",
    "    test_acc = metrics.accuracy_score(y_test, test_yhat)\n",
    "    test_scores.append(test_acc)\n",
    "    # summarize progress\n",
    "    print('>%d, train: %.3f, test: %.3f' % (i, train_acc, test_acc))\n",
    "\n",
    "# plot of train and test scores vs tree depth\n",
    "plt.plot(values, train_scores, '-o', label='Train')\n",
    "plt.plot(values, test_scores, '-o', label='Test')\n",
    "plt.legend()\n",
    "plt.show()"
   ]
  },
  {
   "cell_type": "code",
   "execution_count": null,
   "id": "09399498-027f-4dc7-ab5e-8ee5149909af",
   "metadata": {},
   "outputs": [],
   "source": []
  }
 ],
 "metadata": {
  "kernelspec": {
   "display_name": "Python 3 (ipykernel)",
   "language": "python",
   "name": "python3"
  },
  "language_info": {
   "codemirror_mode": {
    "name": "ipython",
    "version": 3
   },
   "file_extension": ".py",
   "mimetype": "text/x-python",
   "name": "python",
   "nbconvert_exporter": "python",
   "pygments_lexer": "ipython3",
   "version": "3.9.12"
  }
 },
 "nbformat": 4,
 "nbformat_minor": 5
}
