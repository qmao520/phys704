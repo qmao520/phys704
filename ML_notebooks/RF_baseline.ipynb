{
 "cells": [
  {
   "cell_type": "code",
   "execution_count": 4,
   "id": "f96ced20",
   "metadata": {},
   "outputs": [],
   "source": [
    "import pandas as pd\n",
    "import numpy as np"
   ]
  },
  {
   "cell_type": "markdown",
   "id": "80e7ec13",
   "metadata": {},
   "source": [
    "## Data Preprocessing"
   ]
  },
  {
   "cell_type": "code",
   "execution_count": 5,
   "id": "1acb63f3",
   "metadata": {},
   "outputs": [],
   "source": [
    "df = pd.read_csv('../data/train_qso.csv')"
   ]
  },
  {
   "cell_type": "code",
   "execution_count": 6,
   "id": "2257f56f",
   "metadata": {},
   "outputs": [],
   "source": [
    "data = df[['ug', 'ur', 'ui', 'uz', 'uj', 'uk', 'uw1', 'uw2', 'gr',\n",
    "       'gi', 'gz', 'gk', 'gw1', 'gw2', 'ri', 'rz', 'rw1', 'rw2', 'iz', 'ij',\n",
    "       'ik', 'iw1', 'iw2', 'zj', 'zk', 'zw1', 'zw2', 'jw1', 'jw2', 'kw1',\n",
    "       'kw2', 'w1w2','class_bin']]"
   ]
  },
  {
   "cell_type": "code",
   "execution_count": 7,
   "id": "1d5ab660",
   "metadata": {},
   "outputs": [],
   "source": [
    "def clean_dataset(df):\n",
    "    assert isinstance(df, pd.DataFrame), \"df needs to be a pd.DataFrame\"\n",
    "    df.dropna(inplace=True)\n",
    "    indices_to_keep = ~df.isin([np.nan, np.inf, -np.inf]).any(1)\n",
    "    return df[indices_to_keep].astype(np.float64)"
   ]
  },
  {
   "cell_type": "code",
   "execution_count": 8,
   "id": "6775a5f0",
   "metadata": {},
   "outputs": [
    {
     "name": "stderr",
     "output_type": "stream",
     "text": [
      "/Users/maoshirley/.pyenv/versions/3.7.7/envs/lewagon/lib/python3.7/site-packages/ipykernel_launcher.py:3: SettingWithCopyWarning: \n",
      "A value is trying to be set on a copy of a slice from a DataFrame\n",
      "\n",
      "See the caveats in the documentation: https://pandas.pydata.org/pandas-docs/stable/user_guide/indexing.html#returning-a-view-versus-a-copy\n",
      "  This is separate from the ipykernel package so we can avoid doing imports until\n"
     ]
    },
    {
     "data": {
      "text/html": [
       "<div>\n",
       "<style scoped>\n",
       "    .dataframe tbody tr th:only-of-type {\n",
       "        vertical-align: middle;\n",
       "    }\n",
       "\n",
       "    .dataframe tbody tr th {\n",
       "        vertical-align: top;\n",
       "    }\n",
       "\n",
       "    .dataframe thead th {\n",
       "        text-align: right;\n",
       "    }\n",
       "</style>\n",
       "<table border=\"1\" class=\"dataframe\">\n",
       "  <thead>\n",
       "    <tr style=\"text-align: right;\">\n",
       "      <th></th>\n",
       "      <th>ug</th>\n",
       "      <th>ur</th>\n",
       "      <th>ui</th>\n",
       "      <th>uz</th>\n",
       "      <th>uj</th>\n",
       "      <th>uk</th>\n",
       "      <th>uw1</th>\n",
       "      <th>uw2</th>\n",
       "      <th>gr</th>\n",
       "      <th>gi</th>\n",
       "      <th>...</th>\n",
       "      <th>zj</th>\n",
       "      <th>zk</th>\n",
       "      <th>zw1</th>\n",
       "      <th>zw2</th>\n",
       "      <th>jw1</th>\n",
       "      <th>jw2</th>\n",
       "      <th>kw1</th>\n",
       "      <th>kw2</th>\n",
       "      <th>w1w2</th>\n",
       "      <th>class_bin</th>\n",
       "    </tr>\n",
       "  </thead>\n",
       "  <tbody>\n",
       "    <tr>\n",
       "      <th>0</th>\n",
       "      <td>0.9914</td>\n",
       "      <td>2.6709</td>\n",
       "      <td>3.936</td>\n",
       "      <td>4.606</td>\n",
       "      <td>4.640063</td>\n",
       "      <td>5.577868</td>\n",
       "      <td>6.331862</td>\n",
       "      <td>6.792161</td>\n",
       "      <td>1.6795</td>\n",
       "      <td>2.9446</td>\n",
       "      <td>...</td>\n",
       "      <td>0.034063</td>\n",
       "      <td>0.971868</td>\n",
       "      <td>1.725862</td>\n",
       "      <td>2.186161</td>\n",
       "      <td>1.691799</td>\n",
       "      <td>2.152098</td>\n",
       "      <td>0.753994</td>\n",
       "      <td>1.214293</td>\n",
       "      <td>0.460299</td>\n",
       "      <td>0.0</td>\n",
       "    </tr>\n",
       "    <tr>\n",
       "      <th>1</th>\n",
       "      <td>1.6696</td>\n",
       "      <td>2.7998</td>\n",
       "      <td>3.946</td>\n",
       "      <td>4.653</td>\n",
       "      <td>4.774833</td>\n",
       "      <td>5.712456</td>\n",
       "      <td>6.839255</td>\n",
       "      <td>7.140017</td>\n",
       "      <td>1.1302</td>\n",
       "      <td>2.2764</td>\n",
       "      <td>...</td>\n",
       "      <td>0.121833</td>\n",
       "      <td>1.059456</td>\n",
       "      <td>2.186255</td>\n",
       "      <td>2.487017</td>\n",
       "      <td>2.064422</td>\n",
       "      <td>2.365184</td>\n",
       "      <td>1.126799</td>\n",
       "      <td>1.427561</td>\n",
       "      <td>0.300762</td>\n",
       "      <td>1.0</td>\n",
       "    </tr>\n",
       "    <tr>\n",
       "      <th>2</th>\n",
       "      <td>-0.0636</td>\n",
       "      <td>1.4667</td>\n",
       "      <td>2.528</td>\n",
       "      <td>2.951</td>\n",
       "      <td>3.489250</td>\n",
       "      <td>4.446374</td>\n",
       "      <td>3.788207</td>\n",
       "      <td>3.747212</td>\n",
       "      <td>1.5303</td>\n",
       "      <td>2.5916</td>\n",
       "      <td>...</td>\n",
       "      <td>0.538250</td>\n",
       "      <td>1.495374</td>\n",
       "      <td>0.837207</td>\n",
       "      <td>0.796212</td>\n",
       "      <td>0.298957</td>\n",
       "      <td>0.257962</td>\n",
       "      <td>-0.658167</td>\n",
       "      <td>-0.699162</td>\n",
       "      <td>-0.040995</td>\n",
       "      <td>0.0</td>\n",
       "    </tr>\n",
       "    <tr>\n",
       "      <th>3</th>\n",
       "      <td>0.1251</td>\n",
       "      <td>1.7899</td>\n",
       "      <td>2.512</td>\n",
       "      <td>2.802</td>\n",
       "      <td>3.657627</td>\n",
       "      <td>4.726333</td>\n",
       "      <td>4.291627</td>\n",
       "      <td>4.354540</td>\n",
       "      <td>1.6648</td>\n",
       "      <td>2.3869</td>\n",
       "      <td>...</td>\n",
       "      <td>0.855627</td>\n",
       "      <td>1.924333</td>\n",
       "      <td>1.489627</td>\n",
       "      <td>1.552540</td>\n",
       "      <td>0.634000</td>\n",
       "      <td>0.696913</td>\n",
       "      <td>-0.434706</td>\n",
       "      <td>-0.371793</td>\n",
       "      <td>0.062913</td>\n",
       "      <td>0.0</td>\n",
       "    </tr>\n",
       "    <tr>\n",
       "      <th>4</th>\n",
       "      <td>0.0428</td>\n",
       "      <td>1.4691</td>\n",
       "      <td>2.165</td>\n",
       "      <td>2.487</td>\n",
       "      <td>3.120206</td>\n",
       "      <td>4.259295</td>\n",
       "      <td>4.177098</td>\n",
       "      <td>4.230727</td>\n",
       "      <td>1.4263</td>\n",
       "      <td>2.1222</td>\n",
       "      <td>...</td>\n",
       "      <td>0.633206</td>\n",
       "      <td>1.772295</td>\n",
       "      <td>1.690098</td>\n",
       "      <td>1.743727</td>\n",
       "      <td>1.056892</td>\n",
       "      <td>1.110521</td>\n",
       "      <td>-0.082197</td>\n",
       "      <td>-0.028568</td>\n",
       "      <td>0.053629</td>\n",
       "      <td>1.0</td>\n",
       "    </tr>\n",
       "    <tr>\n",
       "      <th>...</th>\n",
       "      <td>...</td>\n",
       "      <td>...</td>\n",
       "      <td>...</td>\n",
       "      <td>...</td>\n",
       "      <td>...</td>\n",
       "      <td>...</td>\n",
       "      <td>...</td>\n",
       "      <td>...</td>\n",
       "      <td>...</td>\n",
       "      <td>...</td>\n",
       "      <td>...</td>\n",
       "      <td>...</td>\n",
       "      <td>...</td>\n",
       "      <td>...</td>\n",
       "      <td>...</td>\n",
       "      <td>...</td>\n",
       "      <td>...</td>\n",
       "      <td>...</td>\n",
       "      <td>...</td>\n",
       "      <td>...</td>\n",
       "      <td>...</td>\n",
       "    </tr>\n",
       "    <tr>\n",
       "      <th>219</th>\n",
       "      <td>1.6430</td>\n",
       "      <td>2.9450</td>\n",
       "      <td>3.463</td>\n",
       "      <td>4.035</td>\n",
       "      <td>5.497000</td>\n",
       "      <td>7.778000</td>\n",
       "      <td>9.640000</td>\n",
       "      <td>10.702000</td>\n",
       "      <td>1.3020</td>\n",
       "      <td>1.8200</td>\n",
       "      <td>...</td>\n",
       "      <td>1.462000</td>\n",
       "      <td>3.743000</td>\n",
       "      <td>5.605000</td>\n",
       "      <td>6.667000</td>\n",
       "      <td>4.143000</td>\n",
       "      <td>5.205000</td>\n",
       "      <td>1.862000</td>\n",
       "      <td>2.924000</td>\n",
       "      <td>1.062000</td>\n",
       "      <td>1.0</td>\n",
       "    </tr>\n",
       "    <tr>\n",
       "      <th>220</th>\n",
       "      <td>0.8740</td>\n",
       "      <td>1.8690</td>\n",
       "      <td>2.274</td>\n",
       "      <td>2.861</td>\n",
       "      <td>4.048000</td>\n",
       "      <td>5.926000</td>\n",
       "      <td>7.477000</td>\n",
       "      <td>8.375000</td>\n",
       "      <td>0.9950</td>\n",
       "      <td>1.4000</td>\n",
       "      <td>...</td>\n",
       "      <td>1.187000</td>\n",
       "      <td>3.065000</td>\n",
       "      <td>4.616000</td>\n",
       "      <td>5.514000</td>\n",
       "      <td>3.429000</td>\n",
       "      <td>4.327000</td>\n",
       "      <td>1.551000</td>\n",
       "      <td>2.449000</td>\n",
       "      <td>0.898000</td>\n",
       "      <td>1.0</td>\n",
       "    </tr>\n",
       "    <tr>\n",
       "      <th>221</th>\n",
       "      <td>1.0170</td>\n",
       "      <td>1.9930</td>\n",
       "      <td>2.127</td>\n",
       "      <td>2.776</td>\n",
       "      <td>4.071000</td>\n",
       "      <td>6.322000</td>\n",
       "      <td>7.949000</td>\n",
       "      <td>9.162000</td>\n",
       "      <td>0.9760</td>\n",
       "      <td>1.1100</td>\n",
       "      <td>...</td>\n",
       "      <td>1.295000</td>\n",
       "      <td>3.546000</td>\n",
       "      <td>5.173000</td>\n",
       "      <td>6.386000</td>\n",
       "      <td>3.878000</td>\n",
       "      <td>5.091000</td>\n",
       "      <td>1.627000</td>\n",
       "      <td>2.840000</td>\n",
       "      <td>1.213000</td>\n",
       "      <td>1.0</td>\n",
       "    </tr>\n",
       "    <tr>\n",
       "      <th>222</th>\n",
       "      <td>1.7170</td>\n",
       "      <td>3.1220</td>\n",
       "      <td>3.678</td>\n",
       "      <td>4.289</td>\n",
       "      <td>5.478000</td>\n",
       "      <td>7.913000</td>\n",
       "      <td>9.298000</td>\n",
       "      <td>10.443000</td>\n",
       "      <td>1.4050</td>\n",
       "      <td>1.9610</td>\n",
       "      <td>...</td>\n",
       "      <td>1.189000</td>\n",
       "      <td>3.624000</td>\n",
       "      <td>5.009000</td>\n",
       "      <td>6.154000</td>\n",
       "      <td>3.820000</td>\n",
       "      <td>4.965000</td>\n",
       "      <td>1.385000</td>\n",
       "      <td>2.530000</td>\n",
       "      <td>1.145000</td>\n",
       "      <td>1.0</td>\n",
       "    </tr>\n",
       "    <tr>\n",
       "      <th>223</th>\n",
       "      <td>1.6050</td>\n",
       "      <td>2.8990</td>\n",
       "      <td>3.583</td>\n",
       "      <td>3.850</td>\n",
       "      <td>5.238000</td>\n",
       "      <td>7.419000</td>\n",
       "      <td>8.885000</td>\n",
       "      <td>9.901000</td>\n",
       "      <td>1.2940</td>\n",
       "      <td>1.9780</td>\n",
       "      <td>...</td>\n",
       "      <td>1.388000</td>\n",
       "      <td>3.569000</td>\n",
       "      <td>5.035000</td>\n",
       "      <td>6.051000</td>\n",
       "      <td>3.647000</td>\n",
       "      <td>4.663000</td>\n",
       "      <td>1.466000</td>\n",
       "      <td>2.482000</td>\n",
       "      <td>1.016000</td>\n",
       "      <td>1.0</td>\n",
       "    </tr>\n",
       "  </tbody>\n",
       "</table>\n",
       "<p>220 rows × 33 columns</p>\n",
       "</div>"
      ],
      "text/plain": [
       "         ug      ur     ui     uz        uj        uk       uw1        uw2  \\\n",
       "0    0.9914  2.6709  3.936  4.606  4.640063  5.577868  6.331862   6.792161   \n",
       "1    1.6696  2.7998  3.946  4.653  4.774833  5.712456  6.839255   7.140017   \n",
       "2   -0.0636  1.4667  2.528  2.951  3.489250  4.446374  3.788207   3.747212   \n",
       "3    0.1251  1.7899  2.512  2.802  3.657627  4.726333  4.291627   4.354540   \n",
       "4    0.0428  1.4691  2.165  2.487  3.120206  4.259295  4.177098   4.230727   \n",
       "..      ...     ...    ...    ...       ...       ...       ...        ...   \n",
       "219  1.6430  2.9450  3.463  4.035  5.497000  7.778000  9.640000  10.702000   \n",
       "220  0.8740  1.8690  2.274  2.861  4.048000  5.926000  7.477000   8.375000   \n",
       "221  1.0170  1.9930  2.127  2.776  4.071000  6.322000  7.949000   9.162000   \n",
       "222  1.7170  3.1220  3.678  4.289  5.478000  7.913000  9.298000  10.443000   \n",
       "223  1.6050  2.8990  3.583  3.850  5.238000  7.419000  8.885000   9.901000   \n",
       "\n",
       "         gr      gi  ...        zj        zk       zw1       zw2       jw1  \\\n",
       "0    1.6795  2.9446  ...  0.034063  0.971868  1.725862  2.186161  1.691799   \n",
       "1    1.1302  2.2764  ...  0.121833  1.059456  2.186255  2.487017  2.064422   \n",
       "2    1.5303  2.5916  ...  0.538250  1.495374  0.837207  0.796212  0.298957   \n",
       "3    1.6648  2.3869  ...  0.855627  1.924333  1.489627  1.552540  0.634000   \n",
       "4    1.4263  2.1222  ...  0.633206  1.772295  1.690098  1.743727  1.056892   \n",
       "..      ...     ...  ...       ...       ...       ...       ...       ...   \n",
       "219  1.3020  1.8200  ...  1.462000  3.743000  5.605000  6.667000  4.143000   \n",
       "220  0.9950  1.4000  ...  1.187000  3.065000  4.616000  5.514000  3.429000   \n",
       "221  0.9760  1.1100  ...  1.295000  3.546000  5.173000  6.386000  3.878000   \n",
       "222  1.4050  1.9610  ...  1.189000  3.624000  5.009000  6.154000  3.820000   \n",
       "223  1.2940  1.9780  ...  1.388000  3.569000  5.035000  6.051000  3.647000   \n",
       "\n",
       "          jw2       kw1       kw2      w1w2  class_bin  \n",
       "0    2.152098  0.753994  1.214293  0.460299        0.0  \n",
       "1    2.365184  1.126799  1.427561  0.300762        1.0  \n",
       "2    0.257962 -0.658167 -0.699162 -0.040995        0.0  \n",
       "3    0.696913 -0.434706 -0.371793  0.062913        0.0  \n",
       "4    1.110521 -0.082197 -0.028568  0.053629        1.0  \n",
       "..        ...       ...       ...       ...        ...  \n",
       "219  5.205000  1.862000  2.924000  1.062000        1.0  \n",
       "220  4.327000  1.551000  2.449000  0.898000        1.0  \n",
       "221  5.091000  1.627000  2.840000  1.213000        1.0  \n",
       "222  4.965000  1.385000  2.530000  1.145000        1.0  \n",
       "223  4.663000  1.466000  2.482000  1.016000        1.0  \n",
       "\n",
       "[220 rows x 33 columns]"
      ]
     },
     "execution_count": 8,
     "metadata": {},
     "output_type": "execute_result"
    }
   ],
   "source": [
    "clean_dataset(data)"
   ]
  },
  {
   "cell_type": "code",
   "execution_count": 9,
   "id": "d240fff5",
   "metadata": {},
   "outputs": [
    {
     "data": {
      "text/plain": [
       "False"
      ]
     },
     "execution_count": 9,
     "metadata": {},
     "output_type": "execute_result"
    }
   ],
   "source": [
    "np.any(np.isnan(data))"
   ]
  },
  {
   "cell_type": "code",
   "execution_count": 10,
   "id": "113e4b7c",
   "metadata": {},
   "outputs": [],
   "source": [
    "data.to_csv('../data/train_qso_final.csv')"
   ]
  },
  {
   "cell_type": "markdown",
   "id": "8c19bda7",
   "metadata": {},
   "source": [
    "## Train Test Split"
   ]
  },
  {
   "cell_type": "code",
   "execution_count": 11,
   "id": "f6bf2cc0",
   "metadata": {},
   "outputs": [],
   "source": [
    "X = data[['ug', 'ur', 'ui', 'uz', 'uj', 'uk', 'uw1', 'uw2', 'gr',\n",
    "       'gi', 'gz', 'gk', 'gw1', 'gw2', 'ri', 'rz', 'rw1', 'rw2', 'iz', 'ij',\n",
    "       'ik', 'iw1', 'iw2', 'zj', 'zk', 'zw1', 'zw2', 'jw1', 'jw2', 'kw1',\n",
    "       'kw2', 'w1w2']]\n",
    "\n",
    "y = data['class_bin']"
   ]
  },
  {
   "cell_type": "code",
   "execution_count": 12,
   "id": "8b8d852f",
   "metadata": {},
   "outputs": [],
   "source": [
    "from sklearn.model_selection import train_test_split\n",
    "X_train,X_test,y_train,y_test = train_test_split(X,y,test_size = 0.2, random_state = 1)"
   ]
  },
  {
   "cell_type": "code",
   "execution_count": 13,
   "id": "0ffe63e0",
   "metadata": {},
   "outputs": [
    {
     "data": {
      "text/plain": [
       "0.0"
      ]
     },
     "execution_count": 13,
     "metadata": {},
     "output_type": "execute_result"
    }
   ],
   "source": [
    "from sklearn.dummy import DummyRegressor\n",
    "\n",
    "base_line_model = DummyRegressor(strategy = 'mean').fit(X,y)\n",
    "\n",
    "base_line_model.score(X,y)"
   ]
  },
  {
   "cell_type": "markdown",
   "id": "60acc0f8",
   "metadata": {},
   "source": [
    "## Model(basic)"
   ]
  },
  {
   "cell_type": "code",
   "execution_count": 14,
   "id": "cb6fa5ff",
   "metadata": {},
   "outputs": [],
   "source": [
    "from sklearn.ensemble import RandomForestClassifier\n",
    "clf = RandomForestClassifier()\n",
    "\n",
    "clf.fit(X_train,y_train)\n",
    "\n",
    "y_pred = clf.predict(X_test)"
   ]
  },
  {
   "cell_type": "code",
   "execution_count": 15,
   "id": "35242c26",
   "metadata": {},
   "outputs": [
    {
     "name": "stdout",
     "output_type": "stream",
     "text": [
      "Accuracy: 0.7045454545454546\n"
     ]
    }
   ],
   "source": [
    "from sklearn import metrics\n",
    "print(\"Accuracy:\",metrics.accuracy_score(y_test, y_pred))"
   ]
  },
  {
   "cell_type": "code",
   "execution_count": 16,
   "id": "c91c3f37",
   "metadata": {
    "tags": []
   },
   "outputs": [],
   "source": [
    "#generate a no skill prediction\n",
    "ns_prob = [0 for _ in range(len(y_test))]\n",
    "#prodict probability\n",
    "clf_prob = clf.predict_proba(X_test)\n",
    "# keep probabilities for the positive outcome only/\n",
    "clf_prob = clf_prob[:, 1]"
   ]
  },
  {
   "cell_type": "code",
   "execution_count": 17,
   "id": "a9122253",
   "metadata": {},
   "outputs": [
    {
     "name": "stdout",
     "output_type": "stream",
     "text": [
      "No Skill: ROC AUC=0.500\n",
      "Logistic: ROC AUC=0.760\n"
     ]
    }
   ],
   "source": [
    "from sklearn.metrics import roc_curve\n",
    "from sklearn.metrics import roc_auc_score\n",
    "\n",
    "ns_auc = roc_auc_score(y_test, ns_prob)\n",
    "lr_auc = roc_auc_score(y_test, clf_prob)\n",
    "\n",
    "# summarize scores\n",
    "print('No Skill: ROC AUC=%.3f' % (ns_auc))\n",
    "print('Logistic: ROC AUC=%.3f' % (lr_auc))"
   ]
  },
  {
   "cell_type": "code",
   "execution_count": 18,
   "id": "ecbe4bd5",
   "metadata": {
    "tags": []
   },
   "outputs": [
    {
     "data": {
      "image/png": "[encoded data removed]",
      "text/plain": [
       "<Figure size 720x576 with 1 Axes>"
      ]
     },
     "metadata": {
      "needs_background": "light"
     },
     "output_type": "display_data"
    }
   ],
   "source": [
    "import matplotlib.pyplot as plt\n",
    "# calculate roc curves\n",
    "ns_fpr, ns_tpr, _ = roc_curve(y_test, ns_prob)\n",
    "lr_fpr, lr_tpr, _ = roc_curve(y_test, clf_prob)\n",
    "\n",
    "\n",
    "plt.figure(figsize=(10, 8))\n",
    "# plot the roc curve for the model\n",
    "plt.plot(ns_fpr, ns_tpr, linestyle='--', label='No Skill')\n",
    "plt.plot(lr_fpr, lr_tpr, marker='.', label='Logistic')\n",
    "# axis labels\n",
    "plt.xlabel('False Positive Rate')\n",
    "plt.ylabel('True Positive Rate')\n",
    "# show the legend\n",
    "plt.legend()\n",
    "plt.savefig('../figures/rfc_v1_rocauc.png')\n",
    "# show the plot\n",
    "plt.show()\n",
    "\n"
   ]
  },
  {
   "cell_type": "code",
   "execution_count": 19,
   "id": "773a4b66",
   "metadata": {
    "tags": []
   },
   "outputs": [
    {
     "data": {
      "text/plain": [
       "w1w2    0.065872\n",
       "ij      0.050767\n",
       "zw2     0.045895\n",
       "rw1     0.042362\n",
       "rw2     0.041030\n",
       "gi      0.038804\n",
       "zw1     0.038548\n",
       "jw1     0.037877\n",
       "zj      0.036880\n",
       "uj      0.034298\n",
       "iw2     0.032379\n",
       "ui      0.031742\n",
       "gz      0.031552\n",
       "jw2     0.030957\n",
       "uw1     0.028638\n",
       "kw2     0.028197\n",
       "uk      0.027758\n",
       "uz      0.027662\n",
       "ug      0.027575\n",
       "gw1     0.027488\n",
       "kw1     0.027330\n",
       "iz      0.026334\n",
       "gr      0.025793\n",
       "ri      0.025634\n",
       "ik      0.025080\n",
       "rz      0.025020\n",
       "iw1     0.023302\n",
       "ur      0.022991\n",
       "zk      0.021433\n",
       "gw2     0.017870\n",
       "uw2     0.017182\n",
       "gk      0.015749\n",
       "dtype: float64"
      ]
     },
     "execution_count": 19,
     "metadata": {},
     "output_type": "execute_result"
    }
   ],
   "source": [
    "feature_imp = pd.Series(clf.feature_importances_,index=X.columns).sort_values(ascending=False)\n",
    "feature_imp"
   ]
  },
  {
   "cell_type": "code",
   "execution_count": 20,
   "id": "31895c73",
   "metadata": {},
   "outputs": [
    {
     "name": "stderr",
     "output_type": "stream",
     "text": [
      "No handles with labels found to put in legend.\n"
     ]
    },
    {
     "data": {
      "image/png": "[encoded data removed]",
      "text/plain": [
       "<Figure size 720x720 with 1 Axes>"
      ]
     },
     "metadata": {
      "needs_background": "light"
     },
     "output_type": "display_data"
    }
   ],
   "source": [
    "import matplotlib.pyplot as plt\n",
    "import seaborn as sns\n",
    "%matplotlib inline\n",
    "plt.figure(figsize=(10, 10))\n",
    "# Creating a bar plot\n",
    "sns.barplot(x=feature_imp, y=feature_imp.index)\n",
    "# Add labels to your graph\n",
    "\n",
    "plt.xlabel('Feature Importance Score')\n",
    "plt.ylabel('Features')\n",
    "plt.title(\"Visualizing Important Features\")\n",
    "plt.legend()\n",
    "plt.savefig('../figures/rfc_v1_features.png')\n",
    "plt.show()\n",
    "\n"
   ]
  }
 ],
 "metadata": {
  "kernelspec": {
   "display_name": "Python 3",
   "language": "python",
   "name": "python3"
  },
  "language_info": {
   "codemirror_mode": {
    "name": "ipython",
    "version": 3
   },
   "file_extension": ".py",
   "mimetype": "text/x-python",
   "name": "python",
   "nbconvert_exporter": "python",
   "pygments_lexer": "ipython3",
   "version": "3.8.8"
  }
 },
 "nbformat": 4,
 "nbformat_minor": 5
}
