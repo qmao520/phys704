{
 "cells": [
  {
   "cell_type": "markdown",
   "id": "99b21e50",
   "metadata": {},
   "source": [
    "# With Parameter"
   ]
  },
  {
   "cell_type": "code",
   "execution_count": 1,
   "id": "83367e14",
   "metadata": {},
   "outputs": [],
   "source": [
    "import pandas as pd\n",
    "import numpy as np\n",
    "import matplotlib.pyplot as plt\n",
    "import seaborn as sns"
   ]
  },
  {
   "cell_type": "code",
   "execution_count": 2,
   "id": "f613cfc3",
   "metadata": {},
   "outputs": [],
   "source": [
    "data = pd.read_csv('../data/train_qso_wo_image.csv')\n",
    "df_test = pd.read_csv('../data/train_qso_wo_image.csv')"
   ]
  },
  {
   "cell_type": "code",
   "execution_count": 3,
   "id": "86ef145a-6e8c-42c2-8889-ed6a9a28dbc9",
   "metadata": {},
   "outputs": [
    {
     "data": {
      "text/plain": [
       "Index(['Unnamed: 0', 'ug', 'ur', 'ui', 'uz', 'uj', 'uk', 'uw1', 'uw2', 'gr',\n",
       "       'gi', 'gz', 'gk', 'gw1', 'gw2', 'ri', 'rz', 'rw1', 'rw2', 'iz', 'ij',\n",
       "       'ik', 'iw1', 'iw2', 'zj', 'zk', 'zw1', 'zw2', 'jw1', 'jw2', 'kw1',\n",
       "       'kw2', 'w1w2', 'class_bin', 'RA', 'DEC', 'index', 'Unnamed: 0.1',\n",
       "       'petroR50_g', 'petroR50_r'],\n",
       "      dtype='object')"
      ]
     },
     "execution_count": 3,
     "metadata": {},
     "output_type": "execute_result"
    }
   ],
   "source": [
    "data.columns"
   ]
  },
  {
   "cell_type": "markdown",
   "id": "f0bece51",
   "metadata": {
    "tags": []
   },
   "source": [
    "## Scaling"
   ]
  },
  {
   "cell_type": "code",
   "execution_count": 4,
   "id": "177bb4f6",
   "metadata": {},
   "outputs": [],
   "source": [
    "from sklearn.preprocessing import StandardScaler\n",
    "\n",
    "s = StandardScaler()\n",
    "s.fit(data[['ug', 'ur', 'ui', 'uz', 'uj', 'uk', 'uw1', 'uw2', 'gr',\n",
    "       'gi', 'gz', 'gk', 'gw1', 'gw2', 'ri', 'rz', 'rw1', 'rw2', 'iz', 'ij',\n",
    "       'ik', 'iw1', 'iw2', 'zj', 'zk', 'zw1', 'zw2', 'jw1', 'jw2', 'kw1',\n",
    "       'kw2', 'w1w2', 'petroR50_g', 'petroR50_r']])\n",
    "data[['ug', 'ur', 'ui', 'uz', 'uj', 'uk', 'uw1', 'uw2', 'gr',\n",
    "       'gi', 'gz', 'gk', 'gw1', 'gw2', 'ri', 'rz', 'rw1', 'rw2', 'iz', 'ij',\n",
    "       'ik', 'iw1', 'iw2', 'zj', 'zk', 'zw1', 'zw2', 'jw1', 'jw2', 'kw1',\n",
    "       'kw2', 'w1w2', 'petroR50_g', 'petroR50_r']] = s.transform(data[['ug', 'ur', 'ui', 'uz', 'uj', 'uk', 'uw1', 'uw2', 'gr',\n",
    "       'gi', 'gz', 'gk', 'gw1', 'gw2', 'ri', 'rz', 'rw1', 'rw2', 'iz', 'ij',\n",
    "       'ik', 'iw1', 'iw2', 'zj', 'zk', 'zw1', 'zw2', 'jw1', 'jw2', 'kw1',\n",
    "       'kw2', 'w1w2', 'petroR50_g', 'petroR50_r']])"
   ]
  },
  {
   "cell_type": "markdown",
   "id": "7b68d94d",
   "metadata": {},
   "source": [
    "## Train Test Split"
   ]
  },
  {
   "cell_type": "code",
   "execution_count": 5,
   "id": "d59fb830",
   "metadata": {},
   "outputs": [],
   "source": [
    "X = data[['ug', 'ur', 'ui', 'uz', 'uj', 'uk', 'uw1', 'uw2', 'gr',\n",
    "       'gi', 'gz', 'gk', 'gw1', 'gw2', 'ri', 'rz', 'rw1', 'rw2', 'iz', 'ij',\n",
    "       'ik', 'iw1', 'iw2', 'zj', 'zk', 'zw1', 'zw2', 'jw1', 'jw2', 'kw1',\n",
    "       'kw2', 'w1w2', 'petroR50_g', 'petroR50_r']]\n",
    "\n",
    "y = data['class_bin']"
   ]
  },
  {
   "cell_type": "code",
   "execution_count": 6,
   "id": "c187b68a",
   "metadata": {},
   "outputs": [],
   "source": [
    "from sklearn.model_selection import train_test_split\n",
    "X_train,X_test,y_train,y_test = train_test_split(X,y,test_size = 0.3, random_state = 1)"
   ]
  },
  {
   "cell_type": "code",
   "execution_count": 7,
   "id": "4257e3ba",
   "metadata": {},
   "outputs": [
    {
     "data": {
      "text/plain": [
       "0.0"
      ]
     },
     "execution_count": 7,
     "metadata": {},
     "output_type": "execute_result"
    }
   ],
   "source": [
    "from sklearn.dummy import DummyRegressor\n",
    "\n",
    "base_line_model = DummyRegressor(strategy = 'mean').fit(X,y)\n",
    "\n",
    "base_line_model.score(X,y)"
   ]
  },
  {
   "cell_type": "markdown",
   "id": "02ec9265",
   "metadata": {},
   "source": [
    "## Model(modulos.ai parameters)\n",
    "\n",
    "n_estimators: 730\n",
    "\n",
    "log_min_samples_leaf: -3.686e+00\n",
    "\n",
    "criterion: entropy\n",
    "\n",
    "max_features: log2\n",
    "\n",
    "class_weight: balanced_subsample "
   ]
  },
  {
   "cell_type": "code",
   "execution_count": 8,
   "id": "9cfe215d",
   "metadata": {},
   "outputs": [],
   "source": [
    "from sklearn.ensemble import RandomForestClassifier\n",
    "clf = RandomForestClassifier(\n",
    "    n_estimators = 730,\n",
    "    criterion = \"entropy\",\n",
    "    max_features = \"sqrt\",\n",
    "    class_weight = \"balanced_subsample\"\n",
    "    \n",
    ")\n",
    "\n",
    "clf.fit(X_train,y_train)\n",
    "\n",
    "y_pred = clf.predict(X_test)"
   ]
  },
  {
   "cell_type": "markdown",
   "id": "8fd4618b",
   "metadata": {},
   "source": [
    "### Metrics Output\n",
    "\n",
    "- accuracy: 89.83%\n",
    "- F1: 93.18%\n",
    "- ROC_AUC: 95.2%"
   ]
  },
  {
   "cell_type": "code",
   "execution_count": 9,
   "id": "f0df670d",
   "metadata": {},
   "outputs": [
    {
     "name": "stdout",
     "output_type": "stream",
     "text": [
      "Accuracy: 0.8983050847457628\n",
      "F1: 0.9318181818181819\n"
     ]
    }
   ],
   "source": [
    "from sklearn import metrics\n",
    "print(\"Accuracy:\",metrics.accuracy_score(y_test, y_pred))\n",
    "print('F1:', metrics.f1_score(y_test,y_pred))"
   ]
  },
  {
   "cell_type": "code",
   "execution_count": 10,
   "id": "0a59a424",
   "metadata": {},
   "outputs": [
    {
     "data": {
      "text/plain": [
       "array([[12,  4],\n",
       "       [ 2, 41]])"
      ]
     },
     "execution_count": 10,
     "metadata": {},
     "output_type": "execute_result"
    }
   ],
   "source": [
    "from sklearn.metrics import confusion_matrix\n",
    "cf_matrix = confusion_matrix(y_test, y_pred)\n",
    "cf_matrix"
   ]
  },
  {
   "cell_type": "code",
   "execution_count": 11,
   "id": "26704ea9",
   "metadata": {},
   "outputs": [
    {
     "data": {
      "image/png": "[encoded data removed]",
      "text/plain": [
       "<Figure size 432x288 with 2 Axes>"
      ]
     },
     "metadata": {
      "needs_background": "light"
     },
     "output_type": "display_data"
    }
   ],
   "source": [
    "group_names = ['True Neg','False Pos','False Neg','True Pos']\n",
    "group_counts = [\"{0:0.0f}\".format(value) for value in\n",
    "                cf_matrix.flatten()]\n",
    "group_percentages = [\"{0:.2%}\".format(value) for value in\n",
    "                     cf_matrix.flatten()/np.sum(cf_matrix)]\n",
    "\n",
    "labels = [f\"{v1}\\n{v2}\\n{v3}\" for v1, v2, v3 in\n",
    "          zip(group_names,group_counts,group_percentages)]\n",
    "\n",
    "labels = np.asarray(labels).reshape(2,2)\n",
    "\n",
    "sns.heatmap(cf_matrix, annot=labels, fmt='', cmap='Greens')\n",
    "\n",
    "plt.savefig('../figures/rfc_p_cf_matrix')"
   ]
  },
  {
   "cell_type": "code",
   "execution_count": 12,
   "id": "59098638",
   "metadata": {
    "tags": []
   },
   "outputs": [],
   "source": [
    "#generate a no skill prediction\n",
    "ns_prob = [0 for _ in range(len(y_test))]\n",
    "#prodict probability\n",
    "clf_prob = clf.predict_proba(X_test)\n",
    "# keep probabilities for the positive outcome only/\n",
    "clf_prob = clf_prob[:, 1]"
   ]
  },
  {
   "cell_type": "code",
   "execution_count": 13,
   "id": "50b99414",
   "metadata": {},
   "outputs": [
    {
     "name": "stdout",
     "output_type": "stream",
     "text": [
      "No Skill: ROC AUC=0.500\n",
      "Logistic: ROC AUC=0.952\n"
     ]
    }
   ],
   "source": [
    "from sklearn.metrics import roc_curve\n",
    "from sklearn.metrics import roc_auc_score\n",
    "\n",
    "ns_auc = roc_auc_score(y_test, ns_prob)\n",
    "lr_auc = roc_auc_score(y_test, clf_prob)\n",
    "\n",
    "# summarize scores\n",
    "print('No Skill: ROC AUC=%.3f' % (ns_auc))\n",
    "print('Logistic: ROC AUC=%.3f' % (lr_auc))"
   ]
  },
  {
   "cell_type": "code",
   "execution_count": 14,
   "id": "4cd23fdb",
   "metadata": {
    "tags": []
   },
   "outputs": [
    {
     "data": {
      "image/png": "[encoded data removed]",
      "text/plain": [
       "<Figure size 720x576 with 1 Axes>"
      ]
     },
     "metadata": {
      "needs_background": "light"
     },
     "output_type": "display_data"
    }
   ],
   "source": [
    "import matplotlib.pyplot as plt\n",
    "# calculate roc curves\n",
    "ns_fpr, ns_tpr, _ = roc_curve(y_test, ns_prob)\n",
    "lr_fpr, lr_tpr, _ = roc_curve(y_test, clf_prob)\n",
    "\n",
    "\n",
    "plt.figure(figsize=(10, 8))\n",
    "# plot the roc curve for the model\n",
    "plt.plot(ns_fpr, ns_tpr, linestyle='--', label='No Skill')\n",
    "plt.plot(lr_fpr, lr_tpr, marker='.', label='Logistic')\n",
    "# axis labels\n",
    "plt.xlabel('False Positive Rate')\n",
    "plt.ylabel('True Positive Rate')\n",
    "# show the legend\n",
    "plt.legend()\n",
    "plt.savefig('../figures/rfc_v1_rocauc.png')\n",
    "# show the plot\n",
    "plt.show()\n",
    "\n"
   ]
  },
  {
   "cell_type": "code",
   "execution_count": 15,
   "id": "8a042793",
   "metadata": {
    "tags": []
   },
   "outputs": [
    {
     "data": {
      "text/plain": [
       "ij            0.082052\n",
       "gk            0.081709\n",
       "gw1           0.062220\n",
       "rw1           0.049771\n",
       "ik            0.043875\n",
       "zj            0.038659\n",
       "iw1           0.037545\n",
       "zk            0.037434\n",
       "gz            0.036385\n",
       "rz            0.032736\n",
       "uk            0.029782\n",
       "gi            0.029690\n",
       "petroR50_r    0.028355\n",
       "rw2           0.028325\n",
       "uw1           0.026748\n",
       "iw2           0.025856\n",
       "jw2           0.025382\n",
       "gw2           0.023702\n",
       "ur            0.023417\n",
       "uj            0.023013\n",
       "ug            0.021836\n",
       "zw1           0.020774\n",
       "ri            0.020281\n",
       "gr            0.019672\n",
       "zw2           0.019194\n",
       "jw1           0.018730\n",
       "w1w2          0.018085\n",
       "kw2           0.017926\n",
       "uz            0.016610\n",
       "iz            0.013901\n",
       "ui            0.012408\n",
       "petroR50_g    0.012217\n",
       "kw1           0.011329\n",
       "uw2           0.010378\n",
       "dtype: float64"
      ]
     },
     "execution_count": 15,
     "metadata": {},
     "output_type": "execute_result"
    }
   ],
   "source": [
    "feature_imp = pd.Series(clf.feature_importances_,index=X.columns).sort_values(ascending=False)\n",
    "feature_imp"
   ]
  },
  {
   "cell_type": "code",
   "execution_count": 16,
   "id": "9d6101f9",
   "metadata": {},
   "outputs": [
    {
     "name": "stderr",
     "output_type": "stream",
     "text": [
      "No handles with labels found to put in legend.\n"
     ]
    },
    {
     "data": {
      "image/png": "[encoded data removed]",
      "text/plain": [
       "<Figure size 720x720 with 1 Axes>"
      ]
     },
     "metadata": {
      "needs_background": "light"
     },
     "output_type": "display_data"
    }
   ],
   "source": [
    "import matplotlib.pyplot as plt\n",
    "import seaborn as sns\n",
    "%matplotlib inline\n",
    "plt.figure(figsize=(10, 10))\n",
    "# Creating a bar plot\n",
    "sns.barplot(x=feature_imp, y=feature_imp.index)\n",
    "# Add labels to your graph\n",
    "\n",
    "plt.xlabel('Feature Importance Score')\n",
    "plt.ylabel('Features')\n",
    "plt.title(\"Visualizing Important Features\")\n",
    "plt.legend()\n",
    "plt.savefig('../figures/rfc_v1_features.png')\n",
    "plt.show()\n",
    "\n"
   ]
  },
  {
   "cell_type": "markdown",
   "id": "d7fdd503",
   "metadata": {},
   "source": [
    "# Discussion"
   ]
  },
  {
   "cell_type": "code",
   "execution_count": 21,
   "id": "bcefda31",
   "metadata": {},
   "outputs": [],
   "source": [
    "df = pd.read_csv('../data/train_qso.csv')"
   ]
  },
  {
   "cell_type": "code",
   "execution_count": 22,
   "id": "6b3abb3b",
   "metadata": {},
   "outputs": [
    {
     "data": {
      "text/plain": [
       "<AxesSubplot:xlabel='ij', ylabel='Count'>"
      ]
     },
     "execution_count": 22,
     "metadata": {},
     "output_type": "execute_result"
    },
    {
     "data": {
      "image/png": "[encoded data removed]",
      "text/plain": [
       "<Figure size 720x432 with 1 Axes>"
      ]
     },
     "metadata": {
      "needs_background": "light"
     },
     "output_type": "display_data"
    }
   ],
   "source": [
    "fig, ax = plt.subplots(figsize=(10, 6))\n",
    "sns.histplot(data = df,x=\"ij\", hue=\"class_bin\")"
   ]
  },
  {
   "cell_type": "code",
   "execution_count": 19,
   "id": "4dd34094",
   "metadata": {},
   "outputs": [
    {
     "data": {
      "text/plain": [
       "<AxesSubplot:xlabel='gk', ylabel='Count'>"
      ]
     },
     "execution_count": 19,
     "metadata": {},
     "output_type": "execute_result"
    },
    {
     "data": {
      "image/png": "[encoded data removed]",
      "text/plain": [
       "<Figure size 720x432 with 1 Axes>"
      ]
     },
     "metadata": {
      "needs_background": "light"
     },
     "output_type": "display_data"
    }
   ],
   "source": [
    "fig, ax = plt.subplots(figsize=(10, 6))\n",
    "sns.histplot(data = df,x=\"gk\", hue=\"class_bin\")"
   ]
  },
  {
   "cell_type": "code",
   "execution_count": 20,
   "id": "a685b13b",
   "metadata": {},
   "outputs": [
    {
     "data": {
      "text/plain": [
       "<AxesSubplot:xlabel='gw1', ylabel='Count'>"
      ]
     },
     "execution_count": 20,
     "metadata": {},
     "output_type": "execute_result"
    },
    {
     "data": {
      "image/png": "[encoded data removed]",
      "text/plain": [
       "<Figure size 720x432 with 1 Axes>"
      ]
     },
     "metadata": {
      "needs_background": "light"
     },
     "output_type": "display_data"
    }
   ],
   "source": [
    "fig, ax = plt.subplots(figsize=(10, 6))\n",
    "sns.histplot(data = df,x=\"gw1\", hue=\"class_bin\")"
   ]
  },
  {
   "cell_type": "markdown",
   "id": "8c3a4b47",
   "metadata": {},
   "source": []
  },
  {
   "cell_type": "code",
   "execution_count": null,
   "id": "11e0f8f9",
   "metadata": {},
   "outputs": [],
   "source": []
  }
 ],
 "metadata": {
  "kernelspec": {
   "display_name": "Python 3",
   "language": "python",
   "name": "python3"
  },
  "language_info": {
   "codemirror_mode": {
    "name": "ipython",
    "version": 3
   },
   "file_extension": ".py",
   "mimetype": "text/x-python",
   "name": "python",
   "nbconvert_exporter": "python",
   "pygments_lexer": "ipython3",
   "version": "3.8.8"
  }
 },
 "nbformat": 4,
 "nbformat_minor": 5
}
