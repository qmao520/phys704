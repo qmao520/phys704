{
 "cells": [
  {
   "cell_type": "code",
   "execution_count": 7,
   "metadata": {},
   "outputs": [],
   "source": [
    "import pandas as pd\n",
    "import numpy as np"
   ]
  },
  {
   "cell_type": "markdown",
   "metadata": {
    "tags": []
   },
   "source": [
    "## Concat"
   ]
  },
  {
   "cell_type": "code",
   "execution_count": 8,
   "metadata": {},
   "outputs": [],
   "source": [
    "first = pd.read_csv('../data/combined/FIRST_WISE_SDSS_DR12.csv')\n",
    "spies = pd.read_csv('../data/combined/SpIES_WISE_SDSS_DR12.csv')"
   ]
  },
  {
   "cell_type": "code",
   "execution_count": 9,
   "metadata": {},
   "outputs": [],
   "source": [
    "first['data'] = 'FIRST'\n",
    "spies['data'] = 'SpIES'"
   ]
  },
  {
   "cell_type": "code",
   "execution_count": 10,
   "metadata": {},
   "outputs": [],
   "source": [
    "first_c = first.drop(columns = ['errHalfMaj',\n",
    "       'errHalfMin', 'errPosAng','errHalfMaj_x', 'errHalfMin_x', 'errPosAng_x',\n",
    "                      'e_umag','e_gmag','e_rmag','e_imag','e_zmag','e_zsp', 'e_zph',\n",
    "                     'e_pmRA','e_pmDE','RAdeg', 'DEdeg'])\n",
    "\n",
    "spies_c = spies.drop(columns = ['ra_x',\n",
    "       'dec_x', 'errHalfMaj', 'errHalfMin', 'errPosAng','e_W1mag', 'e_W2mag',\n",
    "       'e_W3mag', 'e_W4mag', 'e_Jmag', 'e_Hmag', 'e_Kmag','RAdeg', 'DEdeg',\n",
    "       'errHalfMaj_x', 'errHalfMin_x', 'errPosAng_x', 'e_umag','e_gmag','e_rmag','e_imag','e_zmag','e_zsp', 'e_zph',\n",
    "                     'e_pmRA','e_pmDE'])"
   ]
  },
  {
   "cell_type": "code",
   "execution_count": 11,
   "metadata": {},
   "outputs": [],
   "source": [
    "first_c.rename(columns ={'ra_u':'RA','dec_u':'DEC','Jmag':'J_mag','Kmag':'K_mag','Class':'class',''},inplace = True)"
   ]
  },
  {
   "cell_type": "code",
   "execution_count": 12,
   "metadata": {},
   "outputs": [],
   "source": [
    "spies_c.rename(columns = {'G_MAG_AB':'G_mag','R_MAG_AB':'R_mag', 'Y_MAG_AB':'Y_mag', 'J_MAG_AB':'J_mag',\n",
    "       'H_MAG_AB':'H_mag', 'K_MAG_AB':'K_mag'},inplace = True)"
   ]
  },
  {
   "cell_type": "code",
   "execution_count": 13,
   "metadata": {},
   "outputs": [],
   "source": [
    "f_s = pd.concat([spies_c,first_c])"
   ]
  },
  {
   "cell_type": "code",
   "execution_count": 14,
   "metadata": {},
   "outputs": [],
   "source": [
    "f_s_c = f_s.drop(columns = ['Y_mag','H_mag','ch1_mag','ch2_mag','Jmag', 'Hmag', 'Kmag','ext_flg','r_2mass',\n",
    "                   'zsp', 'f_zsp', 'zph', 'avg_zph','pmRA', 'pmDE', 'angDist_x','fpeak_u','fint_u','rmag','gmag'])"
   ]
  },
  {
   "cell_type": "code",
   "execution_count": 15,
   "metadata": {},
   "outputs": [],
   "source": [
    "pd.set_option('display.float_format', lambda x: '%.5f' % x)"
   ]
  },
  {
   "cell_type": "code",
   "execution_count": 40,
   "metadata": {},
   "outputs": [
    {
     "data": {
      "text/plain": [
       "Index(['counter', 'RA', 'DEC', 'G_mag', 'R_mag', 'J_mag', 'K_mag', 'gj', 'rj',\n",
       "       'jk', 'rk', 'Fpk', 'Hpk', 'redshift', 'specObjID', 'class', 'JNAME',\n",
       "       'W1mag', 'W2mag', 'W3mag', 'W4mag', 'cntr', 'cc_flags', 'var_flg',\n",
       "       'ph_qual', 'angDist', 'objID', 'mode', 'q_mode', 'class_x', 'SDSS12',\n",
       "       'm_SDSS12', 'flags', 'ObsDate', 'Q', 'U_mag', 'I_mag', 'Z_mag',\n",
       "       'SpObjID', 'spType', 'spCl', 'subClass', 'data', 'designation',\n",
       "       'spectrum', 'gr', 'gk', 'gu', 'gi', 'gz', 'jr', 'ju', 'ji', 'jz', 'ru',\n",
       "       'ri', 'rz', 'ku', 'ki', 'kz', 'ui', 'uz', 'iz', 'w1w2', 'class_cleaned',\n",
       "       'class_cat', 'class_bom', 'class_bin'],\n",
       "      dtype='object')"
      ]
     },
     "execution_count": 40,
     "metadata": {},
     "output_type": "execute_result"
    }
   ],
   "source": [
    "f_s_c.columns"
   ]
  },
  {
   "cell_type": "code",
   "execution_count": 17,
   "metadata": {},
   "outputs": [],
   "source": [
    "f_s_c.rename(columns = {'umag':'U_mag','imag':'I_mag','zmag':'Z_mag'},inplace = True)"
   ]
  },
  {
   "cell_type": "markdown",
   "metadata": {},
   "source": [
    "## Feature generate: Colors"
   ]
  },
  {
   "cell_type": "code",
   "execution_count": 18,
   "metadata": {},
   "outputs": [],
   "source": [
    "f_s_c['gj'] = f_s_c['G_mag'] - f_s_c['J_mag']\n",
    "f_s_c['gr'] = f_s_c['G_mag'] - f_s_c['R_mag']\n",
    "f_s_c['gk'] = f_s_c['G_mag'] - f_s_c['K_mag']\n",
    "f_s_c['gu'] = f_s_c['G_mag'] - f_s_c['U_mag']\n",
    "f_s_c['gi'] = f_s_c['G_mag'] - f_s_c['I_mag']\n",
    "f_s_c['gz'] = f_s_c['G_mag'] - f_s_c['Z_mag']\n",
    "\n",
    "f_s_c['jr'] = f_s_c['J_mag'] - f_s_c['R_mag']\n",
    "f_s_c['jk'] = f_s_c['J_mag'] - f_s_c['K_mag']\n",
    "f_s_c['ju'] = f_s_c['J_mag'] - f_s_c['U_mag']\n",
    "f_s_c['ji'] = f_s_c['J_mag'] - f_s_c['I_mag']\n",
    "f_s_c['jz'] = f_s_c['J_mag'] - f_s_c['Z_mag']\n",
    "\n",
    "f_s_c['rk'] = f_s_c['R_mag'] - f_s_c['K_mag']\n",
    "f_s_c['ru'] = f_s_c['R_mag'] - f_s_c['U_mag']\n",
    "f_s_c['ri'] = f_s_c['R_mag'] - f_s_c['I_mag']\n",
    "f_s_c['rz'] = f_s_c['R_mag'] - f_s_c['Z_mag']\n",
    "\n",
    "f_s_c['ku'] = f_s_c['K_mag'] - f_s_c['U_mag']\n",
    "f_s_c['ki'] = f_s_c['K_mag'] - f_s_c['I_mag']\n",
    "f_s_c['kz'] = f_s_c['K_mag'] - f_s_c['Z_mag']\n",
    "\n",
    "f_s_c['ui'] = f_s_c['U_mag'] - f_s_c['I_mag']\n",
    "f_s_c['uz'] = f_s_c['U_mag'] - f_s_c['Z_mag']\n",
    "\n",
    "f_s_c['iz'] = f_s_c['I_mag'] - f_s_c['Z_mag']\n",
    "\n",
    "f_s_c['w1w2'] = f_s_c['W1mag'] - f_s_c['W2mag']\n",
    "\n"
   ]
  },
  {
   "cell_type": "markdown",
   "metadata": {
    "tags": []
   },
   "source": [
    "## Clean Class\n",
    "- remove class ?\n",
    "- categorize everything into objects"
   ]
  },
  {
   "cell_type": "code",
   "execution_count": 31,
   "metadata": {},
   "outputs": [],
   "source": [
    "class_cat= []\n",
    "for i in f_s_c['class']:\n",
    "    if i == 'QSO' or i == 'QSO?' or i == 'QSO??':\n",
    "        class_cat.append('QSO')\n",
    "    elif i =='?' or i =='??':\n",
    "        class_cat.append('?')\n",
    "    elif i =='none' or i =='no_obs':\n",
    "        class_cat.append('none')\n",
    "    else:\n",
    "        class_cat.append('objects')\n",
    "        \n",
    "f_s_c['class_cat'] = class_cat"
   ]
  },
  {
   "cell_type": "code",
   "execution_count": 34,
   "metadata": {},
   "outputs": [],
   "source": [
    "class_bin= []\n",
    "for i in f_s_c['class']:\n",
    "    if i == 'QSO' or i == 'QSO?' or i == 'QSO??':\n",
    "        class_bin.append('QSO')\n",
    "    elif i =='?' or i =='??':\n",
    "        class_bin.append('?')\n",
    "    else:\n",
    "        class_bin.append('non-quasars')\n",
    "        \n",
    "f_s_c['class_bin'] = class_bin"
   ]
  },
  {
   "cell_type": "code",
   "execution_count": 38,
   "metadata": {},
   "outputs": [
    {
     "data": {
      "text/plain": [
       "array(['non-quasars', '?', 'QSO'], dtype=object)"
      ]
     },
     "execution_count": 38,
     "metadata": {},
     "output_type": "execute_result"
    }
   ],
   "source": [
    "f_s_c['class_bin'].unique()"
   ]
  },
  {
   "cell_type": "code",
   "execution_count": 39,
   "metadata": {},
   "outputs": [],
   "source": [
    "feature_cleaned = f_s_c[['data','RA', 'DEC', 'G_mag', 'R_mag', 'J_mag', 'K_mag','redshift','class','U_mag', 'I_mag', 'Z_mag','gr', 'gk', 'gu', 'gi', 'gz', 'jr', 'ju', 'ji', 'jz', 'ru',\n",
    "       'ri', 'rz', 'ku', 'ki', 'kz', 'ui', 'uz', 'iz', 'w1w2',\n",
    "       'class_cat','class_bin']]"
   ]
  },
  {
   "cell_type": "code",
   "execution_count": 25,
   "metadata": {},
   "outputs": [],
   "source": [
    "feature_cleaned.reset_index(inplace = True)"
   ]
  },
  {
   "cell_type": "markdown",
   "metadata": {
    "tags": []
   },
   "source": [
    "## Missing Values"
   ]
  },
  {
   "cell_type": "markdown",
   "metadata": {},
   "source": [
    "feature_cleaned"
   ]
  },
  {
   "cell_type": "code",
   "execution_count": 24,
   "metadata": {},
   "outputs": [],
   "source": [
    "# f_s_c.to_csv('data/features.csv')\n",
    "# feature_cleaned.to_csv('data/feature_v1.csv')"
   ]
  }
 ],
 "metadata": {
  "kernelspec": {
   "display_name": "Python 3 (ipykernel)",
   "language": "python",
   "name": "python3"
  },
  "language_info": {
   "codemirror_mode": {
    "name": "ipython",
    "version": 3
   },
   "file_extension": ".py",
   "mimetype": "text/x-python",
   "name": "python",
   "nbconvert_exporter": "python",
   "pygments_lexer": "ipython3",
   "version": "3.9.7"
  }
 },
 "nbformat": 4,
 "nbformat_minor": 4
}
