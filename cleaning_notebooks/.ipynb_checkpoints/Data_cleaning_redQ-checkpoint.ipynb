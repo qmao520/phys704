{
 "cells": [
  {
   "cell_type": "code",
   "execution_count": 1,
   "metadata": {},
   "outputs": [],
   "source": [
    "import pandas as pd\n",
    "import numpy as np"
   ]
  },
  {
   "cell_type": "code",
   "execution_count": 6,
   "metadata": {},
   "outputs": [],
   "source": [
    "df = pd.read_csv('../data/raw/W2M-red_quasars.csv')"
   ]
  },
  {
   "cell_type": "code",
   "execution_count": 7,
   "metadata": {},
   "outputs": [
    {
     "data": {
      "text/plain": [
       "Index(['ra', 'dec', 'umag', 'e_umag', 'gmag', 'e_gmag', 'rmag', 'e_rmag',\n",
       "       'imag', 'e_imag', 'zmag', 'e_zmag', 'j_m_2mass', 'j_msig_2mass',\n",
       "       'h_m_2mass', 'h_msig_2mass', 'k_m_2mass', 'k_msig_2mass', 'w1mpro',\n",
       "       'w1sigmpro', 'w2mpro', 'w2sigmpro', 'w3mpro', 'w3sigmpro', 'w4mpro',\n",
       "       'w4sigmpro', 'zsp', 'spCl'],\n",
       "      dtype='object')"
      ]
     },
     "execution_count": 7,
     "metadata": {},
     "output_type": "execute_result"
    }
   ],
   "source": [
    "df.columns"
   ]
  },
  {
   "cell_type": "code",
   "execution_count": 17,
   "metadata": {},
   "outputs": [],
   "source": [
    "df.rename(columns = {'umag':'U_mag','gmag':'G_mag','rmag':'R_mag','imag':'I_mag','zmag':'Z_mag','j_m_2mass':'J_mag','k_m_2mass':'K_mag','w1mpro':'W1mag',\n",
    "                     'w2mpro':'W2mag','spCl':'class_cleaned','zsp':'redshift','ra':'RA', 'dec':'DEC'},inplace = True)"
   ]
  },
  {
   "cell_type": "code",
   "execution_count": 18,
   "metadata": {},
   "outputs": [],
   "source": [
    "df['data'] = 'red_QSO'"
   ]
  },
  {
   "cell_type": "code",
   "execution_count": 19,
   "metadata": {},
   "outputs": [
    {
     "data": {
      "text/plain": [
       "Index(['RA', 'DEC', 'U_mag', 'e_umag', 'G_mag', 'e_gmag', 'R_mag', 'e_rmag',\n",
       "       'I_mag', 'e_imag', 'Z_mag', 'e_zmag', 'J_mag', 'j_msig_2mass',\n",
       "       'h_m_2mass', 'h_msig_2mass', 'K_mag', 'k_msig_2mass', 'W1mag',\n",
       "       'w1sigmpro', 'W2mag', 'w2sigmpro', 'w3mpro', 'w3sigmpro', 'w4mpro',\n",
       "       'w4sigmpro', 'redshift', 'class_cleaned', 'data'],\n",
       "      dtype='object')"
      ]
     },
     "execution_count": 19,
     "metadata": {},
     "output_type": "execute_result"
    }
   ],
   "source": [
    "df.columns"
   ]
  },
  {
   "cell_type": "code",
   "execution_count": 20,
   "metadata": {},
   "outputs": [],
   "source": [
    "red_qso = df[['data','RA', 'DEC', 'U_mag','G_mag','R_mag',\n",
    "       'I_mag','Z_mag','J_mag','K_mag','W1mag',\n",
    "       'W2mag','redshift', 'class_cleaned']]"
   ]
  },
  {
   "cell_type": "code",
   "execution_count": 21,
   "metadata": {},
   "outputs": [],
   "source": [
    "red_qso.to_csv('../data/red_qso.csv')"
   ]
  },
  {
   "cell_type": "code",
   "execution_count": null,
   "metadata": {},
   "outputs": [],
   "source": []
  }
 ],
 "metadata": {
  "kernelspec": {
   "display_name": "Python 3",
   "language": "python",
   "name": "python3"
  },
  "language_info": {
   "codemirror_mode": {
    "name": "ipython",
    "version": 3
   },
   "file_extension": ".py",
   "mimetype": "text/x-python",
   "name": "python",
   "nbconvert_exporter": "python",
   "pygments_lexer": "ipython3",
   "version": "3.7.7"
  }
 },
 "nbformat": 4,
 "nbformat_minor": 4
}
