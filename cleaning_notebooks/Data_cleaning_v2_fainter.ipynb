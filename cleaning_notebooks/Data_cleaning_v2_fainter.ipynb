{
 "cells": [
  {
   "cell_type": "code",
   "execution_count": 340,
   "metadata": {},
   "outputs": [],
   "source": [
    "import pandas as pd\n",
    "import numpy as np"
   ]
  },
  {
   "cell_type": "markdown",
   "metadata": {},
   "source": [
    "## Data Clean and Concat"
   ]
  },
  {
   "cell_type": "code",
   "execution_count": 341,
   "metadata": {},
   "outputs": [],
   "source": [
    "first = pd.read_csv('../../data/combined/FIRST_WISE_SDSS_DR12.csv')\n",
    "spies = pd.read_csv('../../data/raw/SpIES_WISE_SDSS_DR12_corrected.csv')\n",
    "red_q = pd.read_csv('../../data/processed/red_qso.csv')\n",
    "galaxy_supp = pd.read_csv('../../data/processed/faint_galaxy_set2.csv')"
   ]
  },
  {
   "cell_type": "code",
   "execution_count": 342,
   "metadata": {},
   "outputs": [],
   "source": [
    "first['data'] = 'FIRST'\n",
    "spies['data'] = 'SpIES'\n",
    "#galaxy['data'] = 'GALAXY'\n",
    "galaxy_supp['data'] = 'faint_GALAXY'"
   ]
  },
  {
   "cell_type": "code",
   "execution_count": 343,
   "metadata": {},
   "outputs": [],
   "source": [
    "first_c = first.drop(columns = ['errHalfMaj',\n",
    "       'errHalfMin', 'errPosAng','errHalfMaj_x', 'errHalfMin_x', 'errPosAng_x',\n",
    "                      'e_umag','e_gmag','e_rmag','e_imag','e_zmag','e_zsp', 'e_zph',\n",
    "                     'e_pmRA','e_pmDE','RAdeg', 'DEdeg'])\n",
    "\n",
    "spies_c = spies.drop(columns = ['ra_x',\n",
    "       'dec_x', 'errHalfMaj', 'errHalfMin', 'errPosAng','e_W1mag', 'e_W2mag',\n",
    "       'e_W3mag', 'e_W4mag', 'e_Jmag', 'e_Hmag', 'e_Kmag','RAdeg', 'DEdeg',\n",
    "       'errHalfMaj_x', 'errHalfMin_x', 'errPosAng_x', 'e_umag','e_gmag','e_rmag','e_imag','e_zmag','e_zsp', 'e_zph',\n",
    "                     'e_pmRA','e_pmDE','W1mag', 'W2mag'])"
   ]
  },
  {
   "cell_type": "code",
   "execution_count": 344,
   "metadata": {},
   "outputs": [],
   "source": [
    "first_c.rename(columns ={'ra_u':'RA','dec_u':'DEC','Jmag':'J_mag','Kmag':'K_mag','Class':'class'},inplace = True)"
   ]
  },
  {
   "cell_type": "code",
   "execution_count": 345,
   "metadata": {},
   "outputs": [],
   "source": [
    "spies_c.rename(columns = {'G_MAG_AB':'G_mag','R_MAG_AB':'R_mag', 'Y_MAG_AB':'Y_mag', 'J_MAG_AB':'J_mag',\n",
    "       'H_MAG_AB':'H_mag', 'K_MAG_AB':'K_mag','ch1_mag':'W1mag','ch2_mag':'W2mag'},inplace = True)"
   ]
  },
  {
   "cell_type": "code",
   "execution_count": 346,
   "metadata": {},
   "outputs": [],
   "source": [
    "#galaxy.rename(columns = {'December': 'DEC'},inplace = True)"
   ]
  },
  {
   "cell_type": "code",
   "execution_count": 347,
   "metadata": {},
   "outputs": [],
   "source": [
    "f_s = pd.concat([spies_c,first_c])"
   ]
  },
  {
   "cell_type": "code",
   "execution_count": 348,
   "metadata": {},
   "outputs": [],
   "source": [
    "f_s_c = f_s.drop(columns = ['Y_mag','H_mag','Jmag', 'Hmag', 'Kmag','ext_flg','r_2mass',\n",
    "                   'zsp', 'f_zsp', 'zph', 'avg_zph','pmRA', 'pmDE', 'angDist_x','fpeak_u','fint_u','rmag','gmag'])"
   ]
  },
  {
   "cell_type": "code",
   "execution_count": 349,
   "metadata": {},
   "outputs": [],
   "source": [
    "pd.set_option('display.float_format', lambda x: '%.5f' % x)"
   ]
  },
  {
   "cell_type": "code",
   "execution_count": 350,
   "metadata": {},
   "outputs": [],
   "source": [
    "f_s_c.rename(columns = {'umag':'U_mag','imag':'I_mag','zmag':'Z_mag'},inplace = True)"
   ]
  },
  {
   "cell_type": "code",
   "execution_count": 351,
   "metadata": {},
   "outputs": [],
   "source": [
    "f_s_c = pd.concat([f_s_c,red_q])"
   ]
  },
  {
   "cell_type": "code",
   "execution_count": 352,
   "metadata": {},
   "outputs": [],
   "source": [
    "#galaxy.drop(columns ='H_mag',inplace = True)"
   ]
  },
  {
   "cell_type": "code",
   "execution_count": 353,
   "metadata": {},
   "outputs": [],
   "source": [
    "#f_s_c = pd.concat([f_s_c,galaxy])"
   ]
  },
  {
   "cell_type": "code",
   "execution_count": 354,
   "metadata": {},
   "outputs": [],
   "source": [
    "f_s_c = pd.concat([f_s_c,galaxy_supp])"
   ]
  },
  {
   "cell_type": "code",
   "execution_count": 355,
   "metadata": {},
   "outputs": [
    {
     "data": {
      "text/plain": [
       "150"
      ]
     },
     "execution_count": 355,
     "metadata": {},
     "output_type": "execute_result"
    }
   ],
   "source": [
    "len(galaxy_supp)"
   ]
  },
  {
   "cell_type": "code",
   "execution_count": 356,
   "metadata": {},
   "outputs": [],
   "source": [
    "f_s_c = f_s_c[['counter', 'RA', 'DEC', 'U_mag','G_mag', 'R_mag', 'I_mag', 'Z_mag','J_mag', 'K_mag', 'W1mag', 'W2mag','gj', 'rj',\n",
    "       'jk', 'rk', 'Fpk', 'Hpk', 'redshift', 'specObjID', 'class', 'JNAME',\n",
    "       'W3mag', 'W4mag', 'cntr', 'cc_flags', 'var_flg',\n",
    "       'ph_qual', 'angDist', 'objID', 'mode', 'q_mode', 'class_x', 'SDSS12',\n",
    "       'm_SDSS12', 'flags', 'ObsDate', 'Q',  \n",
    "       'SpObjID', 'spType', 'spCl', 'subClass', 'data', 'designation',\n",
    "       'spectrum']]"
   ]
  },
  {
   "cell_type": "markdown",
   "metadata": {},
   "source": [
    "## Color Features\n",
    "\n",
    "u,g,r,i,z,j,k, w1,w2"
   ]
  },
  {
   "cell_type": "code",
   "execution_count": 357,
   "metadata": {},
   "outputs": [],
   "source": [
    "f_s_c['ug'] = f_s_c['U_mag'] - f_s_c['G_mag']\n",
    "f_s_c['ur'] = f_s_c['U_mag'] - f_s_c['R_mag']\n",
    "f_s_c['ui'] = f_s_c['U_mag'] - f_s_c['I_mag']\n",
    "f_s_c['uz'] = f_s_c['U_mag'] - f_s_c['Z_mag']\n",
    "f_s_c['uj'] = f_s_c['U_mag'] - f_s_c['J_mag']\n",
    "f_s_c['uk'] = f_s_c['U_mag'] - f_s_c['K_mag']\n",
    "f_s_c['uw1'] = f_s_c['U_mag'] - f_s_c['W1mag']\n",
    "f_s_c['uw2'] = f_s_c['U_mag'] - f_s_c['W2mag']\n",
    "\n",
    "f_s_c['gr'] = f_s_c['G_mag'] - f_s_c['R_mag']\n",
    "f_s_c['gi'] = f_s_c['G_mag'] - f_s_c['I_mag']\n",
    "f_s_c['gz'] = f_s_c['G_mag'] - f_s_c['Z_mag']\n",
    "f_s_c['gj'] = f_s_c['G_mag'] - f_s_c['J_mag']\n",
    "f_s_c['gk'] = f_s_c['G_mag'] - f_s_c['K_mag']\n",
    "f_s_c['gw1'] = f_s_c['G_mag'] - f_s_c['W1mag']\n",
    "f_s_c['gw2'] = f_s_c['G_mag'] - f_s_c['W2mag']\n",
    "\n",
    "f_s_c['ri'] = f_s_c['R_mag'] - f_s_c['I_mag']\n",
    "f_s_c['rz'] = f_s_c['R_mag'] - f_s_c['Z_mag']\n",
    "f_s_c['rj'] = f_s_c['R_mag'] - f_s_c['J_mag']\n",
    "f_s_c['rk'] = f_s_c['R_mag'] - f_s_c['K_mag']\n",
    "f_s_c['rw1'] = f_s_c['R_mag'] - f_s_c['W1mag']\n",
    "f_s_c['rw2'] = f_s_c['R_mag'] - f_s_c['W2mag']\n",
    "\n",
    "f_s_c['iz'] = f_s_c['I_mag'] - f_s_c['Z_mag']\n",
    "f_s_c['ij'] = f_s_c['I_mag'] - f_s_c['J_mag']\n",
    "f_s_c['ik'] = f_s_c['I_mag'] - f_s_c['K_mag']\n",
    "f_s_c['iw1'] = f_s_c['I_mag'] - f_s_c['W1mag']\n",
    "f_s_c['iw2'] = f_s_c['I_mag'] - f_s_c['W2mag']\n",
    "\n",
    "\n",
    "f_s_c['zj'] = f_s_c['Z_mag'] - f_s_c['J_mag']\n",
    "f_s_c['zk'] = f_s_c['Z_mag'] - f_s_c['K_mag']\n",
    "f_s_c['zw1'] = f_s_c['Z_mag'] - f_s_c['W1mag']\n",
    "f_s_c['zw2'] = f_s_c['Z_mag'] - f_s_c['W2mag']\n",
    "\n",
    "\n",
    "f_s_c['jk'] = f_s_c['J_mag'] - f_s_c['K_mag']\n",
    "f_s_c['jw1'] = f_s_c['J_mag'] - f_s_c['W1mag']\n",
    "f_s_c['jw2'] = f_s_c['J_mag'] - f_s_c['W2mag']\n",
    "\n",
    "f_s_c['kw1'] = f_s_c['K_mag'] - f_s_c['W1mag']\n",
    "f_s_c['kw2'] = f_s_c['K_mag'] - f_s_c['W2mag']\n",
    "\n",
    "\n",
    "f_s_c['w1w2'] = f_s_c['W1mag'] - f_s_c['W2mag']\n",
    "\n"
   ]
  },
  {
   "cell_type": "code",
   "execution_count": 358,
   "metadata": {},
   "outputs": [],
   "source": [
    "class_cleaned = []\n",
    "for i in f_s_c['class']:\n",
    "    if i == 'QSO' or i == 'QSO?' or i == 'QSO??':\n",
    "        class_cleaned.append('QSO')\n",
    "    elif i =='?' or i =='??':\n",
    "        class_cleaned.append('?')\n",
    "    else:\n",
    "        class_cleaned.append(i)\n",
    "        \n",
    "f_s_c['class_cleaned'] = class_cleaned"
   ]
  },
  {
   "cell_type": "code",
   "execution_count": 359,
   "metadata": {},
   "outputs": [],
   "source": [
    "feature_cleaned = f_s_c[['data','RA', 'DEC', 'G_mag', 'R_mag', 'J_mag', 'K_mag','redshift','class','U_mag', 'I_mag', 'Z_mag','ug', 'ur', 'ui', 'uz', 'uj', 'uk', 'uw1', 'uw2', 'gr',\n",
    "       'gi', 'gz', 'gk','gj', 'gw1', 'gw2', 'ri', 'rz', 'rj','rw1', 'rk','rw2', 'iz', 'ij',\n",
    "       'ik', 'iw1', 'iw2', 'zj', 'zk', 'zw1', 'zw2', 'jw1', 'jw2', 'jk','kw1',\n",
    "       'kw2', 'w1w2',\n",
    "       'class_cleaned']]"
   ]
  },
  {
   "cell_type": "code",
   "execution_count": 360,
   "metadata": {},
   "outputs": [],
   "source": [
    "#f_s_c.to_csv('../../data/features.csv')\n",
    "feature_cleaned.to_csv('../../data/feature_cleaned.csv')"
   ]
  },
  {
   "cell_type": "code",
   "execution_count": 361,
   "metadata": {},
   "outputs": [
    {
     "data": {
      "text/plain": [
       "653"
      ]
     },
     "execution_count": 361,
     "metadata": {},
     "output_type": "execute_result"
    }
   ],
   "source": [
    "len(f_s_c)"
   ]
  },
  {
   "cell_type": "markdown",
   "metadata": {},
   "source": [
    "## clean_class\n",
    "- \"none\" and \"no_obs\" means these data points haven't have the spectral data yet"
   ]
  },
  {
   "cell_type": "code",
   "execution_count": 362,
   "metadata": {},
   "outputs": [],
   "source": [
    "df_1 = pd.read_csv('../../data/feature_cleaned.csv')"
   ]
  },
  {
   "cell_type": "code",
   "execution_count": 363,
   "metadata": {},
   "outputs": [],
   "source": [
    "x = df_1[df_1['class_cleaned'] != 'none']\n",
    "y = x[x['class_cleaned'] != 'no_obs']\n",
    "y = y[y['class_cleaned'] != '?']"
   ]
  },
  {
   "cell_type": "code",
   "execution_count": 364,
   "metadata": {},
   "outputs": [],
   "source": [
    "count_class = pd.DataFrame(y['class_cleaned'].value_counts()).reset_index()\n",
    "count_class.rename(columns = {'index' : 'class_cleaned','class_cleaned':'occ'},inplace = True)"
   ]
  },
  {
   "cell_type": "code",
   "execution_count": 365,
   "metadata": {},
   "outputs": [
    {
     "data": {
      "text/html": [
       "<div>\n",
       "<style scoped>\n",
       "    .dataframe tbody tr th:only-of-type {\n",
       "        vertical-align: middle;\n",
       "    }\n",
       "\n",
       "    .dataframe tbody tr th {\n",
       "        vertical-align: top;\n",
       "    }\n",
       "\n",
       "    .dataframe thead th {\n",
       "        text-align: right;\n",
       "    }\n",
       "</style>\n",
       "<table border=\"1\" class=\"dataframe\">\n",
       "  <thead>\n",
       "    <tr style=\"text-align: right;\">\n",
       "      <th></th>\n",
       "      <th>class_cleaned</th>\n",
       "      <th>occ</th>\n",
       "    </tr>\n",
       "  </thead>\n",
       "  <tbody>\n",
       "    <tr>\n",
       "      <th>0</th>\n",
       "      <td>faint_Galaxy</td>\n",
       "      <td>150</td>\n",
       "    </tr>\n",
       "    <tr>\n",
       "      <th>1</th>\n",
       "      <td>QSO</td>\n",
       "      <td>67</td>\n",
       "    </tr>\n",
       "    <tr>\n",
       "      <th>2</th>\n",
       "      <td>redQSO</td>\n",
       "      <td>63</td>\n",
       "    </tr>\n",
       "    <tr>\n",
       "      <th>3</th>\n",
       "      <td>NLAGN</td>\n",
       "      <td>4</td>\n",
       "    </tr>\n",
       "    <tr>\n",
       "      <th>4</th>\n",
       "      <td>AGN</td>\n",
       "      <td>2</td>\n",
       "    </tr>\n",
       "    <tr>\n",
       "      <th>5</th>\n",
       "      <td>QSO/AGN</td>\n",
       "      <td>2</td>\n",
       "    </tr>\n",
       "    <tr>\n",
       "      <th>6</th>\n",
       "      <td>weak-det</td>\n",
       "      <td>2</td>\n",
       "    </tr>\n",
       "    <tr>\n",
       "      <th>7</th>\n",
       "      <td>duplicate</td>\n",
       "      <td>2</td>\n",
       "    </tr>\n",
       "    <tr>\n",
       "      <th>8</th>\n",
       "      <td>NL??</td>\n",
       "      <td>1</td>\n",
       "    </tr>\n",
       "    <tr>\n",
       "      <th>9</th>\n",
       "      <td>star</td>\n",
       "      <td>1</td>\n",
       "    </tr>\n",
       "    <tr>\n",
       "      <th>10</th>\n",
       "      <td>NLAGN?</td>\n",
       "      <td>1</td>\n",
       "    </tr>\n",
       "    <tr>\n",
       "      <th>11</th>\n",
       "      <td>NLAGN?no_obs</td>\n",
       "      <td>1</td>\n",
       "    </tr>\n",
       "    <tr>\n",
       "      <th>12</th>\n",
       "      <td>Starb</td>\n",
       "      <td>1</td>\n",
       "    </tr>\n",
       "  </tbody>\n",
       "</table>\n",
       "</div>"
      ],
      "text/plain": [
       "   class_cleaned  occ\n",
       "0   faint_Galaxy  150\n",
       "1            QSO   67\n",
       "2         redQSO   63\n",
       "3          NLAGN    4\n",
       "4            AGN    2\n",
       "5        QSO/AGN    2\n",
       "6       weak-det    2\n",
       "7      duplicate    2\n",
       "8           NL??    1\n",
       "9           star    1\n",
       "10        NLAGN?    1\n",
       "11  NLAGN?no_obs    1\n",
       "12         Starb    1"
      ]
     },
     "execution_count": 365,
     "metadata": {},
     "output_type": "execute_result"
    }
   ],
   "source": [
    "count_class"
   ]
  },
  {
   "cell_type": "code",
   "execution_count": 366,
   "metadata": {},
   "outputs": [],
   "source": [
    "class_bin = []\n",
    "for i in y['class_cleaned']:\n",
    "    if i == 'QSO' or i == 'redQSO':\n",
    "        class_bin.append(1)\n",
    "    else:\n",
    "        class_bin.append(0)\n",
    "        \n",
    "y['class_bin'] = class_bin"
   ]
  },
  {
   "cell_type": "code",
   "execution_count": 367,
   "metadata": {},
   "outputs": [
    {
     "data": {
      "text/html": [
       "<div>\n",
       "<style scoped>\n",
       "    .dataframe tbody tr th:only-of-type {\n",
       "        vertical-align: middle;\n",
       "    }\n",
       "\n",
       "    .dataframe tbody tr th {\n",
       "        vertical-align: top;\n",
       "    }\n",
       "\n",
       "    .dataframe thead th {\n",
       "        text-align: right;\n",
       "    }\n",
       "</style>\n",
       "<table border=\"1\" class=\"dataframe\">\n",
       "  <thead>\n",
       "    <tr style=\"text-align: right;\">\n",
       "      <th></th>\n",
       "      <th>class_bin</th>\n",
       "      <th>occ</th>\n",
       "    </tr>\n",
       "  </thead>\n",
       "  <tbody>\n",
       "    <tr>\n",
       "      <th>0</th>\n",
       "      <td>0</td>\n",
       "      <td>167</td>\n",
       "    </tr>\n",
       "    <tr>\n",
       "      <th>1</th>\n",
       "      <td>1</td>\n",
       "      <td>130</td>\n",
       "    </tr>\n",
       "  </tbody>\n",
       "</table>\n",
       "</div>"
      ],
      "text/plain": [
       "   class_bin  occ\n",
       "0          0  167\n",
       "1          1  130"
      ]
     },
     "execution_count": 367,
     "metadata": {},
     "output_type": "execute_result"
    }
   ],
   "source": [
    "count_class = pd.DataFrame(y['class_bin'].value_counts()).reset_index()\n",
    "count_class.rename(columns = {'index' : 'class_bin','class_bin':'occ'},inplace = True)\n",
    "count_class"
   ]
  },
  {
   "cell_type": "code",
   "execution_count": 368,
   "metadata": {},
   "outputs": [],
   "source": [
    "final = y.reset_index().drop(columns = ['Unnamed: 0','class','index'])"
   ]
  },
  {
   "cell_type": "code",
   "execution_count": 369,
   "metadata": {},
   "outputs": [],
   "source": [
    "final['index'] = final.index"
   ]
  },
  {
   "cell_type": "code",
   "execution_count": 370,
   "metadata": {},
   "outputs": [
    {
     "data": {
      "text/plain": [
       "297"
      ]
     },
     "execution_count": 370,
     "metadata": {},
     "output_type": "execute_result"
    }
   ],
   "source": [
    "len(final)"
   ]
  },
  {
   "cell_type": "code",
   "execution_count": 371,
   "metadata": {},
   "outputs": [],
   "source": [
    "final.to_csv('../../data/train_qso.csv')"
   ]
  },
  {
   "cell_type": "markdown",
   "metadata": {},
   "source": [
    "# Getting rid of NAN and G and R Mag == 22.2"
   ]
  },
  {
   "cell_type": "code",
   "execution_count": 372,
   "metadata": {},
   "outputs": [],
   "source": [
    "df = pd.read_csv('../../data/train_qso.csv')"
   ]
  },
  {
   "cell_type": "code",
   "execution_count": 373,
   "metadata": {},
   "outputs": [
    {
     "data": {
      "text/plain": [
       "Index(['Unnamed: 0', 'data', 'RA', 'DEC', 'G_mag', 'R_mag', 'J_mag', 'K_mag',\n",
       "       'redshift', 'U_mag', 'I_mag', 'Z_mag', 'ug', 'ur', 'ui', 'uz', 'uj',\n",
       "       'uk', 'uw1', 'uw2', 'gr', 'gi', 'gz', 'gk', 'gj', 'gw1', 'gw2', 'ri',\n",
       "       'rz', 'rj', 'rw1', 'rk', 'rw2', 'iz', 'ij', 'ik', 'iw1', 'iw2', 'zj',\n",
       "       'zk', 'zw1', 'zw2', 'jw1', 'jw2', 'jk', 'kw1', 'kw2', 'w1w2',\n",
       "       'class_cleaned', 'class_bin', 'index'],\n",
       "      dtype='object')"
      ]
     },
     "execution_count": 373,
     "metadata": {},
     "output_type": "execute_result"
    }
   ],
   "source": [
    "df.columns"
   ]
  },
  {
   "cell_type": "code",
   "execution_count": 374,
   "metadata": {},
   "outputs": [],
   "source": [
    "df = df[df['G_mag'] != 22.2]"
   ]
  },
  {
   "cell_type": "code",
   "execution_count": 375,
   "metadata": {},
   "outputs": [],
   "source": [
    "data = df[['index','ug', 'ur', 'ui', 'uz', 'uj',\n",
    "       'uk', 'uw1', 'uw2', 'gr', 'gi', 'gz', 'gk', 'gj', 'gw1', 'gw2', 'ri',\n",
    "       'rz', 'rj', 'rw1', 'rk', 'rw2', 'iz', 'ij', 'ik', 'iw1', 'iw2', 'zj',\n",
    "       'zk', 'zw1', 'zw2', 'jw1', 'jw2', 'jk', 'kw1', 'kw2', 'w1w2','class_bin']]"
   ]
  },
  {
   "cell_type": "markdown",
   "metadata": {
    "tags": []
   },
   "source": [
    "## get rid of the outlier"
   ]
  },
  {
   "cell_type": "code",
   "execution_count": 376,
   "metadata": {},
   "outputs": [],
   "source": [
    "features = ['ur', 'ui', 'uz', 'uj',\n",
    "       'uk', 'uw1', 'uw2', 'gr', 'gi', 'gz', 'gk', 'gj', 'gw1', 'gw2', 'ri',\n",
    "       'rz', 'rj', 'rw1', 'rk', 'rw2', 'iz', 'ij', 'ik', 'iw1', 'iw2', 'zj',\n",
    "       'zk', 'zw1', 'zw2', 'jw1', 'jw2', 'jk', 'kw1', 'kw2', 'w1w2']"
   ]
  },
  {
   "cell_type": "code",
   "execution_count": 377,
   "metadata": {
    "tags": []
   },
   "outputs": [],
   "source": [
    "# for f in features:\n",
    "#     for x in data[f]:\n",
    "#         q75,q25 = np.percentile(data.loc[:,x],[75,25])\n",
    "#         intr_qr = q75-q25\n",
    " \n",
    "#         max = q75+(1.5*intr_qr)\n",
    "#         min = q25-(1.5*intr_qr)\n",
    " \n",
    "#         data.loc[data[x] < min,x] = np.nan\n",
    "#         data.loc[data[x] > max,x] = np.nan"
   ]
  },
  {
   "cell_type": "code",
   "execution_count": 378,
   "metadata": {},
   "outputs": [],
   "source": [
    "def clean_dataset(df):\n",
    "    assert isinstance(df, pd.DataFrame), \"df needs to be a pd.DataFrame\"\n",
    "    df.dropna(inplace=True)\n",
    "    indices_to_keep = ~df.isin([np.nan, np.inf, -np.inf]).any(1)\n",
    "    return df[indices_to_keep].astype(np.float64)"
   ]
  },
  {
   "cell_type": "code",
   "execution_count": 379,
   "metadata": {
    "tags": []
   },
   "outputs": [
    {
     "name": "stderr",
     "output_type": "stream",
     "text": [
      "/var/folders/dq/sc1tlll95vbbtbqb_dbg21km0000gn/T/ipykernel_44469/1442344577.py:3: SettingWithCopyWarning: \n",
      "A value is trying to be set on a copy of a slice from a DataFrame\n",
      "\n",
      "See the caveats in the documentation: https://pandas.pydata.org/pandas-docs/stable/user_guide/indexing.html#returning-a-view-versus-a-copy\n",
      "  df.dropna(inplace=True)\n"
     ]
    },
    {
     "data": {
      "text/html": [
       "<div>\n",
       "<style scoped>\n",
       "    .dataframe tbody tr th:only-of-type {\n",
       "        vertical-align: middle;\n",
       "    }\n",
       "\n",
       "    .dataframe tbody tr th {\n",
       "        vertical-align: top;\n",
       "    }\n",
       "\n",
       "    .dataframe thead th {\n",
       "        text-align: right;\n",
       "    }\n",
       "</style>\n",
       "<table border=\"1\" class=\"dataframe\">\n",
       "  <thead>\n",
       "    <tr style=\"text-align: right;\">\n",
       "      <th></th>\n",
       "      <th>index</th>\n",
       "      <th>ug</th>\n",
       "      <th>ur</th>\n",
       "      <th>ui</th>\n",
       "      <th>uz</th>\n",
       "      <th>uj</th>\n",
       "      <th>uk</th>\n",
       "      <th>uw1</th>\n",
       "      <th>uw2</th>\n",
       "      <th>gr</th>\n",
       "      <th>...</th>\n",
       "      <th>zk</th>\n",
       "      <th>zw1</th>\n",
       "      <th>zw2</th>\n",
       "      <th>jw1</th>\n",
       "      <th>jw2</th>\n",
       "      <th>jk</th>\n",
       "      <th>kw1</th>\n",
       "      <th>kw2</th>\n",
       "      <th>w1w2</th>\n",
       "      <th>class_bin</th>\n",
       "    </tr>\n",
       "  </thead>\n",
       "  <tbody>\n",
       "    <tr>\n",
       "      <th>0</th>\n",
       "      <td>0.00000</td>\n",
       "      <td>1.66960</td>\n",
       "      <td>2.79980</td>\n",
       "      <td>3.94600</td>\n",
       "      <td>4.65300</td>\n",
       "      <td>4.77483</td>\n",
       "      <td>5.71246</td>\n",
       "      <td>6.83926</td>\n",
       "      <td>7.14002</td>\n",
       "      <td>1.13020</td>\n",
       "      <td>...</td>\n",
       "      <td>1.05946</td>\n",
       "      <td>2.18625</td>\n",
       "      <td>2.48702</td>\n",
       "      <td>2.06442</td>\n",
       "      <td>2.36518</td>\n",
       "      <td>0.93762</td>\n",
       "      <td>1.12680</td>\n",
       "      <td>1.42756</td>\n",
       "      <td>0.30076</td>\n",
       "      <td>1.00000</td>\n",
       "    </tr>\n",
       "    <tr>\n",
       "      <th>1</th>\n",
       "      <td>1.00000</td>\n",
       "      <td>0.04280</td>\n",
       "      <td>1.46910</td>\n",
       "      <td>2.16500</td>\n",
       "      <td>2.48700</td>\n",
       "      <td>3.12021</td>\n",
       "      <td>4.25929</td>\n",
       "      <td>4.17710</td>\n",
       "      <td>4.23073</td>\n",
       "      <td>1.42630</td>\n",
       "      <td>...</td>\n",
       "      <td>1.77229</td>\n",
       "      <td>1.69010</td>\n",
       "      <td>1.74373</td>\n",
       "      <td>1.05689</td>\n",
       "      <td>1.11052</td>\n",
       "      <td>1.13909</td>\n",
       "      <td>-0.08220</td>\n",
       "      <td>-0.02857</td>\n",
       "      <td>0.05363</td>\n",
       "      <td>1.00000</td>\n",
       "    </tr>\n",
       "    <tr>\n",
       "      <th>2</th>\n",
       "      <td>2.00000</td>\n",
       "      <td>0.50840</td>\n",
       "      <td>0.94060</td>\n",
       "      <td>2.10600</td>\n",
       "      <td>3.06000</td>\n",
       "      <td>3.93702</td>\n",
       "      <td>5.33672</td>\n",
       "      <td>6.81894</td>\n",
       "      <td>7.41170</td>\n",
       "      <td>0.43220</td>\n",
       "      <td>...</td>\n",
       "      <td>2.27672</td>\n",
       "      <td>3.75894</td>\n",
       "      <td>4.35170</td>\n",
       "      <td>2.88193</td>\n",
       "      <td>3.47468</td>\n",
       "      <td>1.39971</td>\n",
       "      <td>1.48222</td>\n",
       "      <td>2.07498</td>\n",
       "      <td>0.59276</td>\n",
       "      <td>1.00000</td>\n",
       "    </tr>\n",
       "    <tr>\n",
       "      <th>3</th>\n",
       "      <td>3.00000</td>\n",
       "      <td>1.90900</td>\n",
       "      <td>3.50230</td>\n",
       "      <td>4.20800</td>\n",
       "      <td>4.64900</td>\n",
       "      <td>5.29542</td>\n",
       "      <td>6.24571</td>\n",
       "      <td>6.21419</td>\n",
       "      <td>6.14514</td>\n",
       "      <td>1.59330</td>\n",
       "      <td>...</td>\n",
       "      <td>1.59671</td>\n",
       "      <td>1.56519</td>\n",
       "      <td>1.49614</td>\n",
       "      <td>0.91877</td>\n",
       "      <td>0.84972</td>\n",
       "      <td>0.95028</td>\n",
       "      <td>-0.03151</td>\n",
       "      <td>-0.10056</td>\n",
       "      <td>-0.06905</td>\n",
       "      <td>1.00000</td>\n",
       "    </tr>\n",
       "    <tr>\n",
       "      <th>4</th>\n",
       "      <td>4.00000</td>\n",
       "      <td>2.79780</td>\n",
       "      <td>4.19360</td>\n",
       "      <td>5.03800</td>\n",
       "      <td>5.57100</td>\n",
       "      <td>5.85766</td>\n",
       "      <td>6.86251</td>\n",
       "      <td>6.54682</td>\n",
       "      <td>6.47956</td>\n",
       "      <td>1.39580</td>\n",
       "      <td>...</td>\n",
       "      <td>1.29151</td>\n",
       "      <td>0.97582</td>\n",
       "      <td>0.90856</td>\n",
       "      <td>0.68916</td>\n",
       "      <td>0.62190</td>\n",
       "      <td>1.00485</td>\n",
       "      <td>-0.31569</td>\n",
       "      <td>-0.38295</td>\n",
       "      <td>-0.06726</td>\n",
       "      <td>1.00000</td>\n",
       "    </tr>\n",
       "    <tr>\n",
       "      <th>...</th>\n",
       "      <td>...</td>\n",
       "      <td>...</td>\n",
       "      <td>...</td>\n",
       "      <td>...</td>\n",
       "      <td>...</td>\n",
       "      <td>...</td>\n",
       "      <td>...</td>\n",
       "      <td>...</td>\n",
       "      <td>...</td>\n",
       "      <td>...</td>\n",
       "      <td>...</td>\n",
       "      <td>...</td>\n",
       "      <td>...</td>\n",
       "      <td>...</td>\n",
       "      <td>...</td>\n",
       "      <td>...</td>\n",
       "      <td>...</td>\n",
       "      <td>...</td>\n",
       "      <td>...</td>\n",
       "      <td>...</td>\n",
       "      <td>...</td>\n",
       "    </tr>\n",
       "    <tr>\n",
       "      <th>292</th>\n",
       "      <td>292.00000</td>\n",
       "      <td>2.57065</td>\n",
       "      <td>4.07462</td>\n",
       "      <td>5.12090</td>\n",
       "      <td>5.54497</td>\n",
       "      <td>5.39171</td>\n",
       "      <td>6.33320</td>\n",
       "      <td>6.61756</td>\n",
       "      <td>6.35313</td>\n",
       "      <td>1.50397</td>\n",
       "      <td>...</td>\n",
       "      <td>0.78823</td>\n",
       "      <td>1.07260</td>\n",
       "      <td>0.80816</td>\n",
       "      <td>1.22586</td>\n",
       "      <td>0.96142</td>\n",
       "      <td>0.94149</td>\n",
       "      <td>0.28437</td>\n",
       "      <td>0.01993</td>\n",
       "      <td>-0.26444</td>\n",
       "      <td>0.00000</td>\n",
       "    </tr>\n",
       "    <tr>\n",
       "      <th>293</th>\n",
       "      <td>293.00000</td>\n",
       "      <td>0.94780</td>\n",
       "      <td>1.81255</td>\n",
       "      <td>2.13432</td>\n",
       "      <td>2.46084</td>\n",
       "      <td>2.77622</td>\n",
       "      <td>3.21315</td>\n",
       "      <td>2.56349</td>\n",
       "      <td>2.70766</td>\n",
       "      <td>0.86476</td>\n",
       "      <td>...</td>\n",
       "      <td>0.75231</td>\n",
       "      <td>0.10265</td>\n",
       "      <td>0.24683</td>\n",
       "      <td>-0.21273</td>\n",
       "      <td>-0.06855</td>\n",
       "      <td>0.43693</td>\n",
       "      <td>-0.64966</td>\n",
       "      <td>-0.50549</td>\n",
       "      <td>0.14418</td>\n",
       "      <td>0.00000</td>\n",
       "    </tr>\n",
       "    <tr>\n",
       "      <th>294</th>\n",
       "      <td>294.00000</td>\n",
       "      <td>1.62689</td>\n",
       "      <td>2.97017</td>\n",
       "      <td>3.52570</td>\n",
       "      <td>3.89968</td>\n",
       "      <td>4.33136</td>\n",
       "      <td>4.92137</td>\n",
       "      <td>4.27409</td>\n",
       "      <td>4.10337</td>\n",
       "      <td>1.34329</td>\n",
       "      <td>...</td>\n",
       "      <td>1.02170</td>\n",
       "      <td>0.37441</td>\n",
       "      <td>0.20369</td>\n",
       "      <td>-0.05727</td>\n",
       "      <td>-0.22800</td>\n",
       "      <td>0.59001</td>\n",
       "      <td>-0.64728</td>\n",
       "      <td>-0.81801</td>\n",
       "      <td>-0.17073</td>\n",
       "      <td>0.00000</td>\n",
       "    </tr>\n",
       "    <tr>\n",
       "      <th>295</th>\n",
       "      <td>295.00000</td>\n",
       "      <td>0.56575</td>\n",
       "      <td>1.36693</td>\n",
       "      <td>1.76517</td>\n",
       "      <td>1.95779</td>\n",
       "      <td>2.05676</td>\n",
       "      <td>2.76966</td>\n",
       "      <td>2.13701</td>\n",
       "      <td>2.19143</td>\n",
       "      <td>0.80118</td>\n",
       "      <td>...</td>\n",
       "      <td>0.81187</td>\n",
       "      <td>0.17922</td>\n",
       "      <td>0.23364</td>\n",
       "      <td>0.08025</td>\n",
       "      <td>0.13467</td>\n",
       "      <td>0.71290</td>\n",
       "      <td>-0.63265</td>\n",
       "      <td>-0.57823</td>\n",
       "      <td>0.05442</td>\n",
       "      <td>0.00000</td>\n",
       "    </tr>\n",
       "    <tr>\n",
       "      <th>296</th>\n",
       "      <td>296.00000</td>\n",
       "      <td>0.59883</td>\n",
       "      <td>1.46730</td>\n",
       "      <td>1.96256</td>\n",
       "      <td>2.31541</td>\n",
       "      <td>2.38811</td>\n",
       "      <td>2.94441</td>\n",
       "      <td>3.13193</td>\n",
       "      <td>3.02225</td>\n",
       "      <td>0.86847</td>\n",
       "      <td>...</td>\n",
       "      <td>0.62899</td>\n",
       "      <td>0.81652</td>\n",
       "      <td>0.70684</td>\n",
       "      <td>0.74382</td>\n",
       "      <td>0.63414</td>\n",
       "      <td>0.55630</td>\n",
       "      <td>0.18752</td>\n",
       "      <td>0.07784</td>\n",
       "      <td>-0.10968</td>\n",
       "      <td>0.00000</td>\n",
       "    </tr>\n",
       "  </tbody>\n",
       "</table>\n",
       "<p>294 rows × 38 columns</p>\n",
       "</div>"
      ],
      "text/plain": [
       "        index      ug      ur      ui      uz      uj      uk     uw1     uw2  \\\n",
       "0     0.00000 1.66960 2.79980 3.94600 4.65300 4.77483 5.71246 6.83926 7.14002   \n",
       "1     1.00000 0.04280 1.46910 2.16500 2.48700 3.12021 4.25929 4.17710 4.23073   \n",
       "2     2.00000 0.50840 0.94060 2.10600 3.06000 3.93702 5.33672 6.81894 7.41170   \n",
       "3     3.00000 1.90900 3.50230 4.20800 4.64900 5.29542 6.24571 6.21419 6.14514   \n",
       "4     4.00000 2.79780 4.19360 5.03800 5.57100 5.85766 6.86251 6.54682 6.47956   \n",
       "..        ...     ...     ...     ...     ...     ...     ...     ...     ...   \n",
       "292 292.00000 2.57065 4.07462 5.12090 5.54497 5.39171 6.33320 6.61756 6.35313   \n",
       "293 293.00000 0.94780 1.81255 2.13432 2.46084 2.77622 3.21315 2.56349 2.70766   \n",
       "294 294.00000 1.62689 2.97017 3.52570 3.89968 4.33136 4.92137 4.27409 4.10337   \n",
       "295 295.00000 0.56575 1.36693 1.76517 1.95779 2.05676 2.76966 2.13701 2.19143   \n",
       "296 296.00000 0.59883 1.46730 1.96256 2.31541 2.38811 2.94441 3.13193 3.02225   \n",
       "\n",
       "         gr  ...      zk     zw1     zw2      jw1      jw2      jk      kw1  \\\n",
       "0   1.13020  ... 1.05946 2.18625 2.48702  2.06442  2.36518 0.93762  1.12680   \n",
       "1   1.42630  ... 1.77229 1.69010 1.74373  1.05689  1.11052 1.13909 -0.08220   \n",
       "2   0.43220  ... 2.27672 3.75894 4.35170  2.88193  3.47468 1.39971  1.48222   \n",
       "3   1.59330  ... 1.59671 1.56519 1.49614  0.91877  0.84972 0.95028 -0.03151   \n",
       "4   1.39580  ... 1.29151 0.97582 0.90856  0.68916  0.62190 1.00485 -0.31569   \n",
       "..      ...  ...     ...     ...     ...      ...      ...     ...      ...   \n",
       "292 1.50397  ... 0.78823 1.07260 0.80816  1.22586  0.96142 0.94149  0.28437   \n",
       "293 0.86476  ... 0.75231 0.10265 0.24683 -0.21273 -0.06855 0.43693 -0.64966   \n",
       "294 1.34329  ... 1.02170 0.37441 0.20369 -0.05727 -0.22800 0.59001 -0.64728   \n",
       "295 0.80118  ... 0.81187 0.17922 0.23364  0.08025  0.13467 0.71290 -0.63265   \n",
       "296 0.86847  ... 0.62899 0.81652 0.70684  0.74382  0.63414 0.55630  0.18752   \n",
       "\n",
       "         kw2     w1w2  class_bin  \n",
       "0    1.42756  0.30076    1.00000  \n",
       "1   -0.02857  0.05363    1.00000  \n",
       "2    2.07498  0.59276    1.00000  \n",
       "3   -0.10056 -0.06905    1.00000  \n",
       "4   -0.38295 -0.06726    1.00000  \n",
       "..       ...      ...        ...  \n",
       "292  0.01993 -0.26444    0.00000  \n",
       "293 -0.50549  0.14418    0.00000  \n",
       "294 -0.81801 -0.17073    0.00000  \n",
       "295 -0.57823  0.05442    0.00000  \n",
       "296  0.07784 -0.10968    0.00000  \n",
       "\n",
       "[294 rows x 38 columns]"
      ]
     },
     "execution_count": 379,
     "metadata": {},
     "output_type": "execute_result"
    }
   ],
   "source": [
    "clean_dataset(data)"
   ]
  },
  {
   "cell_type": "code",
   "execution_count": 380,
   "metadata": {},
   "outputs": [
    {
     "data": {
      "text/plain": [
       "False"
      ]
     },
     "execution_count": 380,
     "metadata": {},
     "output_type": "execute_result"
    }
   ],
   "source": [
    "np.any(np.isnan(data[['ug', 'ur', 'ui', 'uz', 'uj',\n",
    "       'uk', 'uw1', 'uw2', 'gr', 'gi', 'gz', 'gk', 'gj', 'gw1', 'gw2', 'ri',\n",
    "       'rz', 'rj', 'rw1', 'rk', 'rw2', 'iz', 'ij', 'ik', 'iw1', 'iw2', 'zj',\n",
    "       'zk', 'zw1', 'zw2', 'jw1', 'jw2', 'jk', 'kw1', 'kw2', 'w1w2','class_bin']]))"
   ]
  },
  {
   "cell_type": "code",
   "execution_count": 381,
   "metadata": {},
   "outputs": [],
   "source": [
    "final = data.merge(df[['index','RA','DEC','class_cleaned','data']],on = 'index')"
   ]
  },
  {
   "cell_type": "code",
   "execution_count": 382,
   "metadata": {},
   "outputs": [],
   "source": [
    "final.dropna(inplace = True)"
   ]
  },
  {
   "cell_type": "code",
   "execution_count": 383,
   "metadata": {},
   "outputs": [],
   "source": [
    "final.drop(columns ='index',inplace = True)\n",
    "final['index'] = final.index+1"
   ]
  },
  {
   "cell_type": "code",
   "execution_count": 387,
   "metadata": {},
   "outputs": [
    {
     "data": {
      "text/plain": [
       "Index(['ug', 'ur', 'ui', 'uz', 'uj', 'uk', 'uw1', 'uw2', 'gr', 'gi', 'gz',\n",
       "       'gk', 'gj', 'gw1', 'gw2', 'ri', 'rz', 'rj', 'rw1', 'rk', 'rw2', 'iz',\n",
       "       'ij', 'ik', 'iw1', 'iw2', 'zj', 'zk', 'zw1', 'zw2', 'jw1', 'jw2', 'jk',\n",
       "       'kw1', 'kw2', 'w1w2', 'class_bin', 'RA', 'DEC', 'class_cleaned', 'data',\n",
       "       'index'],\n",
       "      dtype='object')"
      ]
     },
     "execution_count": 387,
     "metadata": {},
     "output_type": "execute_result"
    }
   ],
   "source": [
    "final.columns"
   ]
  },
  {
   "cell_type": "code",
   "execution_count": 388,
   "metadata": {},
   "outputs": [],
   "source": [
    "final.columns = ['u - g', 'u - r', 'u - i', 'u - z', 'u - j', 'u - k',\n",
    "       'u - ch1', 'u - ch2', 'g - r', 'g - i', 'g - z', 'g - k', 'g - j',\n",
    "       'g - ch1', 'g - ch2', 'r - i', 'r - z', 'r - j', 'r - ch1', 'r - k',\n",
    "       'r - ch2', 'i - z', 'i - j', 'i - k', 'i - ch1', 'i - ch2', 'z - j',\n",
    "       'z - k', 'z - ch1', 'z - ch2', 'j - ch1', 'j - ch2', 'j - k', 'k - ch1',\n",
    "       'k - ch2', 'ch1 - ch2', 'class_bin','RA', 'DEC', 'class_cleaned', 'data',\n",
    "       'index']"
   ]
  },
  {
   "cell_type": "code",
   "execution_count": 389,
   "metadata": {},
   "outputs": [],
   "source": [
    "final.to_csv('../../data/trian_qso_wo_petro_v2.csv')"
   ]
  },
  {
   "cell_type": "code",
   "execution_count": 390,
   "metadata": {},
   "outputs": [
    {
     "data": {
      "text/html": [
       "<div>\n",
       "<style scoped>\n",
       "    .dataframe tbody tr th:only-of-type {\n",
       "        vertical-align: middle;\n",
       "    }\n",
       "\n",
       "    .dataframe tbody tr th {\n",
       "        vertical-align: top;\n",
       "    }\n",
       "\n",
       "    .dataframe thead th {\n",
       "        text-align: right;\n",
       "    }\n",
       "</style>\n",
       "<table border=\"1\" class=\"dataframe\">\n",
       "  <thead>\n",
       "    <tr style=\"text-align: right;\">\n",
       "      <th></th>\n",
       "      <th>class_cleaned</th>\n",
       "      <th>data</th>\n",
       "    </tr>\n",
       "  </thead>\n",
       "  <tbody>\n",
       "    <tr>\n",
       "      <th>0</th>\n",
       "      <td>faint_GALAXY</td>\n",
       "      <td>150</td>\n",
       "    </tr>\n",
       "    <tr>\n",
       "      <th>1</th>\n",
       "      <td>red_QSO</td>\n",
       "      <td>63</td>\n",
       "    </tr>\n",
       "    <tr>\n",
       "      <th>2</th>\n",
       "      <td>FIRST</td>\n",
       "      <td>45</td>\n",
       "    </tr>\n",
       "    <tr>\n",
       "      <th>3</th>\n",
       "      <td>SpIES</td>\n",
       "      <td>36</td>\n",
       "    </tr>\n",
       "  </tbody>\n",
       "</table>\n",
       "</div>"
      ],
      "text/plain": [
       "  class_cleaned  data\n",
       "0  faint_GALAXY   150\n",
       "1       red_QSO    63\n",
       "2         FIRST    45\n",
       "3         SpIES    36"
      ]
     },
     "execution_count": 390,
     "metadata": {},
     "output_type": "execute_result"
    }
   ],
   "source": [
    "count_class = pd.DataFrame(final['data'].value_counts()).reset_index()\n",
    "count_class.rename(columns = {'index' : 'class_cleaned','class_cleaned':'occ'},inplace = True)\n",
    "count_class"
   ]
  },
  {
   "cell_type": "markdown",
   "metadata": {},
   "source": [
    "df_petra = pd.read_csv('../data/petra_data.csv')"
   ]
  },
  {
   "cell_type": "markdown",
   "metadata": {},
   "source": [
    "final_with_petra = final.merge(df_petra, left_index = True,right_index=True)"
   ]
  },
  {
   "cell_type": "markdown",
   "metadata": {},
   "source": [
    "final_with_petra = final_with_petra[final_with_petra['petroR50_g'] != -9999.00000]"
   ]
  },
  {
   "cell_type": "markdown",
   "metadata": {},
   "source": [
    "final_with_petra.to_csv('../data/train_qso_wo_image.csv')"
   ]
  },
  {
   "cell_type": "markdown",
   "metadata": {},
   "source": [
    "images_name = ['001_001513.5-003259_K','002_002143.0-000607_K','003_003753.8-005152_K','004_004129.5+000801_K','005_004716.6+002250_K','006_015624.8-001459_K','007_015725.4-005115_K','008_015759.7-004238_K','009_015821.1+002753_K','010_015907.5-000028_K','011_020709.8+010000_K','012_020815.5+002420_K','013_020819.5+005258_K','014_021050.3+000936_K','015_021813.6+001327_K','016_022024.5+002000_K','017_221254.7-004953_K','018_221255.3+000108_K','019_221834.0-003142_K','020_222013.9+001149_K','021_222409.4-001524_K','022_222927.4+001956_K','023_223229.3+005216_K','024_223854.5-004649_K','025_224239.8-003848_K','026_224424.5+003814_K','027_224806.3+003311_K','028_225300.9+000613_K','029_230057.2+000307_K','030_232533.4+005658_K','031_234312.4+000217_K','032_234651.1+005037_K','033_235446.8-004418_K','034_235545.5-001121_K','035_235646.4-005622_K','036_235738.5+004542_K','037_090450.5-014525_K','038_091606.8+071059_K','039_091618.8+005134_K','040_092035.2+062152_K','041_092127.9+023627_K','042_092355.0+023553_K','043_092503.7+035434_K','044_094743.5+030205_K','045_095423.7+083659_K','046_100957.7+073812_K','047_102253.7+051658_K','048_103716.6+021243_K','049_103753.4+023636_K','050_113513.6+053308_K','051_113626.4-005339_K','052_114148.7+135645_K','053_115127.5+144425_K','054_120907.5+145302_K','055_121527.7+071757_K','056_122057.4+094316_K','057_124323.7+102344_K','058_125114.2+071552_K','059_125633.7+040247_K','060_132219.0+094838_K','061_134335.9+085442_K','062_135039.3+130728_K','063_135419.0+001153_K','064_142447.1+091759_K','065_143323.1+085252_K','066_143404.6+093529_K','067_143921.0+113606_K','068_144141.1+110853_K','069_144141.1+110853_K','070_145055.4+063016_K','071_145410.8+041820_K','072_145742.0+033639_K','073_145939.7+060427_K','074_150351.2+121148_K','075_150731.2+101650_K','076_151318.2-004803_K','077_151720.5+095210_K','078_151758.8+010157_K','079_152147.0-021337_K','080_152553.8-004552_K','081_152928.0+083643_K','082_153724.1-010850_K','083_003659.8-011333_K','084_004331.4-001527_K','085_004341.3+005253_K','086_012702.5+011412_K','087_032247.3+000326_K','088_033248.5-001012_K','090_084110.3+060204_K','092_092533.7+021343_K','093_093100.8+014819_K','095_094400.6+055109_K','096_100424.9+122923_K','097_102342.1+121623_K','098_102433.0+053825_K','100_110621.7+022125_K','101_111244.8+153439_K','103_113427.1+100113_K','104_114420.3+113501_K','105_115449.3+112706_K','106_120416.9+090224_K','107_121128.0+095527_K','108_121426.4+143843_K','109_122016.9+112628_K','110_123241.1+111259_K','111_124212.1+044042_K','112_124704.9+010627_K','113_124847.2+053131_K','114_125041.4+131854_K','115_125212.9+071505_K','116_125915.1+072948_K','117_131327.5+145339_K','118_132210.2+084233_K','119_132510.3+131241_K','120_133939.6+033110_K','121_134039.7+051420_K','122_134151.1+083513_K','123_135304.2+023012_K','124_135947.4+103319_K','125_143921.0+113605_K','126_143929.9+085846_K','127_144809.5+054019_K','128_145237.3+085056_K','129_145810.3+063440_K','130_150013.4+123645_K','132_150357.1+041856_K','133_150746.1+093731_K','135_152255.6+030211_K','136_153206.3+061638_K','137_153334.2+073506_K','139_155102.8+084401_K','141_155455.9+071408_K','143_204626.1+002338_K','144_220546.3+005319_K','145_221633.7-005452_K','146_001503.8-003728_K','147_001741.8+000752_K','148_002101.0+005248_K','149_002944.9+001011_K','150_003650.4+000202_K','151_005527.5-002149_K','152_005528.8+003453_K','153_005847.5-010550_K','154_005904.1+010004_K','155_010103.7-001146_K','156_010942.2-004418_K','157_011341.1+010609_K','158_011940.8-002553_K','159_012218.1+010026_K','160_013828.6-001908_K','161_020345.6-010109_K','162_020412.4-005347_K','163_021405.9-001637_K','164_022054.8+001753_K','165_022908.5-003820_K','166_023301.2+002515_K','167_025958.2-003622_K','168_031752.9-005417_K','169_032853.3+003104_K','170_205450.6-010831_K','171_205540.6+003600_K','172_211931.1-003051_K','173_213242.3+011132_K','174_214010.0+004015_K','175_214826.4-010929_K','176_215834.7+000701_K','177_220051.9+010827_K','178_220955.2+011225_K','179_222407.2+002151_K','180_222538.2-005612_K','181_223039.8+005644_K','182_223447.0-000646_K','183_224226.7+011143_K','184_224227.6-004311_K','185_224621.0-001744_K','186_225333.0-002443_K','187_230231.1+000148_K','188_230703.8+011311_K','189_231223.7-000513_K','190_231846.6+005126_K','191_233232.3+002821_K','192_233622.8-002651_K','193_233917.8-001459_K','194_235030.7-005845_K'\n",
    "]"
   ]
  },
  {
   "cell_type": "markdown",
   "metadata": {},
   "source": [
    "missing_images = [89,91,94,99,102,131,134,138,140,142]"
   ]
  },
  {
   "cell_type": "markdown",
   "metadata": {},
   "source": [
    "final_with_petra_images = final_with_petra.drop(index = [88,90,93,98,101,130,133,137,139,141],axis = 0)"
   ]
  },
  {
   "cell_type": "markdown",
   "metadata": {
    "jupyter": {
     "outputs_hidden": true
    },
    "tags": []
   },
   "source": [
    "final_with_petra_images['image_id'] = images_name"
   ]
  },
  {
   "cell_type": "markdown",
   "metadata": {},
   "source": [
    "final_with_petra_images.to_csv('../data/train_qso_w_image.csv')"
   ]
  },
  {
   "cell_type": "code",
   "execution_count": null,
   "metadata": {},
   "outputs": [],
   "source": []
  },
  {
   "cell_type": "code",
   "execution_count": null,
   "metadata": {},
   "outputs": [],
   "source": []
  }
 ],
 "metadata": {
  "kernelspec": {
   "display_name": "Python 3 (ipykernel)",
   "language": "python",
   "name": "python3"
  },
  "language_info": {
   "codemirror_mode": {
    "name": "ipython",
    "version": 3
   },
   "file_extension": ".py",
   "mimetype": "text/x-python",
   "name": "python",
   "nbconvert_exporter": "python",
   "pygments_lexer": "ipython3",
   "version": "3.9.12"
  }
 },
 "nbformat": 4,
 "nbformat_minor": 4
}
