{
 "cells": [
  {
   "cell_type": "code",
   "execution_count": 228,
   "metadata": {},
   "outputs": [],
   "source": [
    "import pandas as pd\n",
    "import numpy as np"
   ]
  },
  {
   "cell_type": "markdown",
   "metadata": {},
   "source": [
    "## Data Clean and Concat"
   ]
  },
  {
   "cell_type": "code",
   "execution_count": 229,
   "metadata": {},
   "outputs": [],
   "source": [
    "first = pd.read_csv('../data/combined/FIRST_WISE_SDSS_DR12.csv')\n",
    "spies = pd.read_csv('../data/raw/SpIES_WISE_SDSS_DR12_corrected.csv')\n",
    "red_q = pd.read_csv('../data/red_qso.csv')\n",
    "galaxy = pd.read_csv('../data/raw/SDSS_galaxies_matched.csv')\n",
    "galaxy_supp = pd.read_csv('../data/combined/faint_galaxy_matched.csv')"
   ]
  },
  {
   "cell_type": "code",
   "execution_count": 230,
   "metadata": {},
   "outputs": [],
   "source": [
    "first['data'] = 'FIRST'\n",
    "spies['data'] = 'SpIES'\n",
    "galaxy['data'] = 'GALAXY'\n",
    "galaxy_supp['data'] = 'GALAXY'"
   ]
  },
  {
   "cell_type": "code",
   "execution_count": 231,
   "metadata": {},
   "outputs": [],
   "source": [
    "first_c = first.drop(columns = ['errHalfMaj',\n",
    "       'errHalfMin', 'errPosAng','errHalfMaj_x', 'errHalfMin_x', 'errPosAng_x',\n",
    "                      'e_umag','e_gmag','e_rmag','e_imag','e_zmag','e_zsp', 'e_zph',\n",
    "                     'e_pmRA','e_pmDE','RAdeg', 'DEdeg'])\n",
    "\n",
    "spies_c = spies.drop(columns = ['ra_x',\n",
    "       'dec_x', 'errHalfMaj', 'errHalfMin', 'errPosAng','e_W1mag', 'e_W2mag',\n",
    "       'e_W3mag', 'e_W4mag', 'e_Jmag', 'e_Hmag', 'e_Kmag','RAdeg', 'DEdeg',\n",
    "       'errHalfMaj_x', 'errHalfMin_x', 'errPosAng_x', 'e_umag','e_gmag','e_rmag','e_imag','e_zmag','e_zsp', 'e_zph',\n",
    "                     'e_pmRA','e_pmDE','W1mag', 'W2mag'])"
   ]
  },
  {
   "cell_type": "code",
   "execution_count": 232,
   "metadata": {},
   "outputs": [],
   "source": [
    "first_c.rename(columns ={'ra_u':'RA','dec_u':'DEC','Jmag':'J_mag','Kmag':'K_mag','Class':'class'},inplace = True)"
   ]
  },
  {
   "cell_type": "code",
   "execution_count": 233,
   "metadata": {},
   "outputs": [],
   "source": [
    "spies_c.rename(columns = {'G_MAG_AB':'G_mag','R_MAG_AB':'R_mag', 'Y_MAG_AB':'Y_mag', 'J_MAG_AB':'J_mag',\n",
    "       'H_MAG_AB':'H_mag', 'K_MAG_AB':'K_mag','ch1_mag':'W1mag','ch2_mag':'W2mag'},inplace = True)"
   ]
  },
  {
   "cell_type": "code",
   "execution_count": 234,
   "metadata": {},
   "outputs": [],
   "source": [
    "galaxy.rename(columns = {'December': 'DEC'},inplace = True)"
   ]
  },
  {
   "cell_type": "code",
   "execution_count": 235,
   "metadata": {},
   "outputs": [],
   "source": [
    "f_s = pd.concat([spies_c,first_c])"
   ]
  },
  {
   "cell_type": "code",
   "execution_count": 236,
   "metadata": {},
   "outputs": [],
   "source": [
    "f_s_c = f_s.drop(columns = ['Y_mag','H_mag','Jmag', 'Hmag', 'Kmag','ext_flg','r_2mass',\n",
    "                   'zsp', 'f_zsp', 'zph', 'avg_zph','pmRA', 'pmDE', 'angDist_x','fpeak_u','fint_u','rmag','gmag'])"
   ]
  },
  {
   "cell_type": "code",
   "execution_count": 237,
   "metadata": {},
   "outputs": [],
   "source": [
    "pd.set_option('display.float_format', lambda x: '%.5f' % x)"
   ]
  },
  {
   "cell_type": "code",
   "execution_count": 238,
   "metadata": {},
   "outputs": [],
   "source": [
    "f_s_c.rename(columns = {'umag':'U_mag','imag':'I_mag','zmag':'Z_mag'},inplace = True)"
   ]
  },
  {
   "cell_type": "code",
   "execution_count": 239,
   "metadata": {},
   "outputs": [],
   "source": [
    "f_s_c = pd.concat([f_s_c,red_q])"
   ]
  },
  {
   "cell_type": "code",
   "execution_count": 240,
   "metadata": {},
   "outputs": [],
   "source": [
    "galaxy.drop(columns ='H_mag',inplace = True)"
   ]
  },
  {
   "cell_type": "code",
   "execution_count": 241,
   "metadata": {},
   "outputs": [],
   "source": [
    "f_s_c = pd.concat([f_s_c,galaxy])"
   ]
  },
  {
   "cell_type": "code",
   "execution_count": 242,
   "metadata": {},
   "outputs": [],
   "source": [
    "galaxy_supp.rename(columns = {'ra': 'RA', 'dec':'DEC'},inplace = True)"
   ]
  },
  {
   "cell_type": "code",
   "execution_count": 243,
   "metadata": {},
   "outputs": [],
   "source": [
    "f_s_c = pd.concat([f_s_c,galaxy_supp])"
   ]
  },
  {
   "cell_type": "code",
   "execution_count": 244,
   "metadata": {},
   "outputs": [],
   "source": [
    "f_s_c = f_s_c[['counter', 'RA', 'DEC', 'U_mag','G_mag', 'R_mag', 'I_mag', 'Z_mag','J_mag', 'K_mag', 'W1mag', 'W2mag','gj', 'rj',\n",
    "       'jk', 'rk', 'Fpk', 'Hpk', 'redshift', 'specObjID', 'class', 'JNAME',\n",
    "       'W3mag', 'W4mag', 'cntr', 'cc_flags', 'var_flg',\n",
    "       'ph_qual', 'angDist', 'objID', 'mode', 'q_mode', 'class_x', 'SDSS12',\n",
    "       'm_SDSS12', 'flags', 'ObsDate', 'Q',  \n",
    "       'SpObjID', 'spType', 'spCl', 'subClass', 'data', 'designation',\n",
    "       'spectrum']]"
   ]
  },
  {
   "cell_type": "markdown",
   "metadata": {},
   "source": [
    "## Color Features\n",
    "\n",
    "u,g,r,i,z,j,k, w1,w2"
   ]
  },
  {
   "cell_type": "code",
   "execution_count": 245,
   "metadata": {},
   "outputs": [],
   "source": [
    "f_s_c['ug'] = f_s_c['U_mag'] - f_s_c['G_mag']\n",
    "f_s_c['ur'] = f_s_c['U_mag'] - f_s_c['R_mag']\n",
    "f_s_c['ui'] = f_s_c['U_mag'] - f_s_c['I_mag']\n",
    "f_s_c['uz'] = f_s_c['U_mag'] - f_s_c['Z_mag']\n",
    "f_s_c['uj'] = f_s_c['U_mag'] - f_s_c['J_mag']\n",
    "f_s_c['uk'] = f_s_c['U_mag'] - f_s_c['K_mag']\n",
    "f_s_c['uw1'] = f_s_c['U_mag'] - f_s_c['W1mag']\n",
    "f_s_c['uw2'] = f_s_c['U_mag'] - f_s_c['W2mag']\n",
    "\n",
    "f_s_c['gr'] = f_s_c['G_mag'] - f_s_c['R_mag']\n",
    "f_s_c['gi'] = f_s_c['G_mag'] - f_s_c['I_mag']\n",
    "f_s_c['gz'] = f_s_c['G_mag'] - f_s_c['Z_mag']\n",
    "f_s_c['gj'] = f_s_c['G_mag'] - f_s_c['J_mag']\n",
    "f_s_c['gk'] = f_s_c['G_mag'] - f_s_c['K_mag']\n",
    "f_s_c['gw1'] = f_s_c['G_mag'] - f_s_c['W1mag']\n",
    "f_s_c['gw2'] = f_s_c['G_mag'] - f_s_c['W2mag']\n",
    "\n",
    "f_s_c['ri'] = f_s_c['R_mag'] - f_s_c['I_mag']\n",
    "f_s_c['rz'] = f_s_c['R_mag'] - f_s_c['Z_mag']\n",
    "f_s_c['rj'] = f_s_c['R_mag'] - f_s_c['J_mag']\n",
    "f_s_c['rk'] = f_s_c['R_mag'] - f_s_c['K_mag']\n",
    "f_s_c['rw1'] = f_s_c['R_mag'] - f_s_c['W1mag']\n",
    "f_s_c['rw2'] = f_s_c['R_mag'] - f_s_c['W2mag']\n",
    "\n",
    "f_s_c['iz'] = f_s_c['I_mag'] - f_s_c['Z_mag']\n",
    "f_s_c['ij'] = f_s_c['I_mag'] - f_s_c['J_mag']\n",
    "f_s_c['ik'] = f_s_c['I_mag'] - f_s_c['K_mag']\n",
    "f_s_c['iw1'] = f_s_c['I_mag'] - f_s_c['W1mag']\n",
    "f_s_c['iw2'] = f_s_c['I_mag'] - f_s_c['W2mag']\n",
    "\n",
    "\n",
    "f_s_c['zj'] = f_s_c['Z_mag'] - f_s_c['J_mag']\n",
    "f_s_c['zk'] = f_s_c['Z_mag'] - f_s_c['K_mag']\n",
    "f_s_c['zw1'] = f_s_c['Z_mag'] - f_s_c['W1mag']\n",
    "f_s_c['zw2'] = f_s_c['Z_mag'] - f_s_c['W2mag']\n",
    "\n",
    "\n",
    "f_s_c['jk'] = f_s_c['J_mag'] - f_s_c['K_mag']\n",
    "f_s_c['jw1'] = f_s_c['J_mag'] - f_s_c['W1mag']\n",
    "f_s_c['jw2'] = f_s_c['J_mag'] - f_s_c['W2mag']\n",
    "\n",
    "f_s_c['kw1'] = f_s_c['K_mag'] - f_s_c['W1mag']\n",
    "f_s_c['kw2'] = f_s_c['K_mag'] - f_s_c['W2mag']\n",
    "\n",
    "\n",
    "f_s_c['w1w2'] = f_s_c['W1mag'] - f_s_c['W2mag']\n",
    "\n"
   ]
  },
  {
   "cell_type": "code",
   "execution_count": 246,
   "metadata": {},
   "outputs": [],
   "source": [
    "class_cleaned = []\n",
    "for i in f_s_c['class']:\n",
    "    if i == 'QSO' or i == 'QSO?' or i == 'QSO??':\n",
    "        class_cleaned.append('QSO')\n",
    "    elif i =='?' or i =='??':\n",
    "        class_cleaned.append('?')\n",
    "    else:\n",
    "        class_cleaned.append(i)\n",
    "        \n",
    "f_s_c['class_cleaned'] = class_cleaned"
   ]
  },
  {
   "cell_type": "code",
   "execution_count": 247,
   "metadata": {},
   "outputs": [],
   "source": [
    "feature_cleaned = f_s_c[['data','RA', 'DEC', 'G_mag', 'R_mag', 'J_mag', 'K_mag','redshift','class','U_mag', 'I_mag', 'Z_mag','ug', 'ur', 'ui', 'uz', 'uj', 'uk', 'uw1', 'uw2', 'gr',\n",
    "       'gi', 'gz', 'gk', 'gw1', 'gw2', 'ri', 'rz', 'rw1', 'rw2', 'iz', 'ij',\n",
    "       'ik', 'iw1', 'iw2', 'zj', 'zk', 'zw1', 'zw2', 'jw1', 'jw2', 'kw1',\n",
    "       'kw2', 'w1w2',\n",
    "       'class_cleaned']]"
   ]
  },
  {
   "cell_type": "code",
   "execution_count": 248,
   "metadata": {},
   "outputs": [],
   "source": [
    "f_s_c.to_csv('../data/features.csv')\n",
    "feature_cleaned.to_csv('../data/feature_cleaned.csv')"
   ]
  },
  {
   "cell_type": "markdown",
   "metadata": {},
   "source": [
    "## clean_class\n",
    "- \"none\" and \"no_obs\" means these data points haven't have the spectral data yet"
   ]
  },
  {
   "cell_type": "code",
   "execution_count": 249,
   "metadata": {},
   "outputs": [],
   "source": [
    "df_1 = pd.read_csv('../data/feature_cleaned.csv')"
   ]
  },
  {
   "cell_type": "code",
   "execution_count": 250,
   "metadata": {},
   "outputs": [],
   "source": [
    "x = df_1[df_1['class_cleaned'] != 'none']\n",
    "y = x[x['class_cleaned'] != 'no_obs']"
   ]
  },
  {
   "cell_type": "code",
   "execution_count": 251,
   "metadata": {},
   "outputs": [
    {
     "data": {
      "text/plain": [
       "array(['?', 'QSO', 'AGN', 'NL??', 'QSO/AGN', 'weak-det', 'NLAGN', 'star',\n",
       "       'NLAGN?', 'NLAGN?no_obs', 'duplicate', 'Starb', 'redQSO', 'GALAXY',\n",
       "       'absGAL'], dtype=object)"
      ]
     },
     "execution_count": 251,
     "metadata": {},
     "output_type": "execute_result"
    }
   ],
   "source": [
    "y['class_cleaned'].unique()"
   ]
  },
  {
   "cell_type": "code",
   "execution_count": 252,
   "metadata": {},
   "outputs": [],
   "source": [
    "count_class = pd.DataFrame(y['class_cleaned'].value_counts()).reset_index()\n",
    "count_class.rename(columns = {'index' : 'class_cleaned','class_cleaned':'occ'},inplace = True)"
   ]
  },
  {
   "cell_type": "code",
   "execution_count": 253,
   "metadata": {},
   "outputs": [
    {
     "data": {
      "text/html": [
       "<div>\n",
       "<style scoped>\n",
       "    .dataframe tbody tr th:only-of-type {\n",
       "        vertical-align: middle;\n",
       "    }\n",
       "\n",
       "    .dataframe tbody tr th {\n",
       "        vertical-align: top;\n",
       "    }\n",
       "\n",
       "    .dataframe thead th {\n",
       "        text-align: right;\n",
       "    }\n",
       "</style>\n",
       "<table border=\"1\" class=\"dataframe\">\n",
       "  <thead>\n",
       "    <tr style=\"text-align: right;\">\n",
       "      <th></th>\n",
       "      <th>class_cleaned</th>\n",
       "      <th>occ</th>\n",
       "    </tr>\n",
       "  </thead>\n",
       "  <tbody>\n",
       "    <tr>\n",
       "      <th>0</th>\n",
       "      <td>GALAXY</td>\n",
       "      <td>107</td>\n",
       "    </tr>\n",
       "    <tr>\n",
       "      <th>1</th>\n",
       "      <td>?</td>\n",
       "      <td>77</td>\n",
       "    </tr>\n",
       "    <tr>\n",
       "      <th>2</th>\n",
       "      <td>QSO</td>\n",
       "      <td>67</td>\n",
       "    </tr>\n",
       "    <tr>\n",
       "      <th>3</th>\n",
       "      <td>redQSO</td>\n",
       "      <td>63</td>\n",
       "    </tr>\n",
       "    <tr>\n",
       "      <th>4</th>\n",
       "      <td>absGAL</td>\n",
       "      <td>13</td>\n",
       "    </tr>\n",
       "    <tr>\n",
       "      <th>5</th>\n",
       "      <td>NLAGN</td>\n",
       "      <td>4</td>\n",
       "    </tr>\n",
       "    <tr>\n",
       "      <th>6</th>\n",
       "      <td>AGN</td>\n",
       "      <td>2</td>\n",
       "    </tr>\n",
       "    <tr>\n",
       "      <th>7</th>\n",
       "      <td>QSO/AGN</td>\n",
       "      <td>2</td>\n",
       "    </tr>\n",
       "    <tr>\n",
       "      <th>8</th>\n",
       "      <td>weak-det</td>\n",
       "      <td>2</td>\n",
       "    </tr>\n",
       "    <tr>\n",
       "      <th>9</th>\n",
       "      <td>duplicate</td>\n",
       "      <td>2</td>\n",
       "    </tr>\n",
       "    <tr>\n",
       "      <th>10</th>\n",
       "      <td>NL??</td>\n",
       "      <td>1</td>\n",
       "    </tr>\n",
       "    <tr>\n",
       "      <th>11</th>\n",
       "      <td>star</td>\n",
       "      <td>1</td>\n",
       "    </tr>\n",
       "    <tr>\n",
       "      <th>12</th>\n",
       "      <td>NLAGN?</td>\n",
       "      <td>1</td>\n",
       "    </tr>\n",
       "    <tr>\n",
       "      <th>13</th>\n",
       "      <td>NLAGN?no_obs</td>\n",
       "      <td>1</td>\n",
       "    </tr>\n",
       "    <tr>\n",
       "      <th>14</th>\n",
       "      <td>Starb</td>\n",
       "      <td>1</td>\n",
       "    </tr>\n",
       "  </tbody>\n",
       "</table>\n",
       "</div>"
      ],
      "text/plain": [
       "   class_cleaned  occ\n",
       "0         GALAXY  107\n",
       "1              ?   77\n",
       "2            QSO   67\n",
       "3         redQSO   63\n",
       "4         absGAL   13\n",
       "5          NLAGN    4\n",
       "6            AGN    2\n",
       "7        QSO/AGN    2\n",
       "8       weak-det    2\n",
       "9      duplicate    2\n",
       "10          NL??    1\n",
       "11          star    1\n",
       "12        NLAGN?    1\n",
       "13  NLAGN?no_obs    1\n",
       "14         Starb    1"
      ]
     },
     "execution_count": 253,
     "metadata": {},
     "output_type": "execute_result"
    }
   ],
   "source": [
    "count_class"
   ]
  },
  {
   "cell_type": "code",
   "execution_count": 254,
   "metadata": {},
   "outputs": [],
   "source": [
    "y = y[y['class_cleaned'] != '?']"
   ]
  },
  {
   "cell_type": "code",
   "execution_count": 255,
   "metadata": {},
   "outputs": [
    {
     "data": {
      "text/html": [
       "<div>\n",
       "<style scoped>\n",
       "    .dataframe tbody tr th:only-of-type {\n",
       "        vertical-align: middle;\n",
       "    }\n",
       "\n",
       "    .dataframe tbody tr th {\n",
       "        vertical-align: top;\n",
       "    }\n",
       "\n",
       "    .dataframe thead th {\n",
       "        text-align: right;\n",
       "    }\n",
       "</style>\n",
       "<table border=\"1\" class=\"dataframe\">\n",
       "  <thead>\n",
       "    <tr style=\"text-align: right;\">\n",
       "      <th></th>\n",
       "      <th>class_cleaned</th>\n",
       "      <th>occ</th>\n",
       "    </tr>\n",
       "  </thead>\n",
       "  <tbody>\n",
       "    <tr>\n",
       "      <th>0</th>\n",
       "      <td>GALAXY</td>\n",
       "      <td>107</td>\n",
       "    </tr>\n",
       "    <tr>\n",
       "      <th>1</th>\n",
       "      <td>QSO</td>\n",
       "      <td>67</td>\n",
       "    </tr>\n",
       "    <tr>\n",
       "      <th>2</th>\n",
       "      <td>redQSO</td>\n",
       "      <td>63</td>\n",
       "    </tr>\n",
       "    <tr>\n",
       "      <th>3</th>\n",
       "      <td>absGAL</td>\n",
       "      <td>13</td>\n",
       "    </tr>\n",
       "    <tr>\n",
       "      <th>4</th>\n",
       "      <td>NLAGN</td>\n",
       "      <td>4</td>\n",
       "    </tr>\n",
       "    <tr>\n",
       "      <th>5</th>\n",
       "      <td>AGN</td>\n",
       "      <td>2</td>\n",
       "    </tr>\n",
       "    <tr>\n",
       "      <th>6</th>\n",
       "      <td>QSO/AGN</td>\n",
       "      <td>2</td>\n",
       "    </tr>\n",
       "    <tr>\n",
       "      <th>7</th>\n",
       "      <td>weak-det</td>\n",
       "      <td>2</td>\n",
       "    </tr>\n",
       "    <tr>\n",
       "      <th>8</th>\n",
       "      <td>duplicate</td>\n",
       "      <td>2</td>\n",
       "    </tr>\n",
       "    <tr>\n",
       "      <th>9</th>\n",
       "      <td>NL??</td>\n",
       "      <td>1</td>\n",
       "    </tr>\n",
       "    <tr>\n",
       "      <th>10</th>\n",
       "      <td>star</td>\n",
       "      <td>1</td>\n",
       "    </tr>\n",
       "    <tr>\n",
       "      <th>11</th>\n",
       "      <td>NLAGN?</td>\n",
       "      <td>1</td>\n",
       "    </tr>\n",
       "    <tr>\n",
       "      <th>12</th>\n",
       "      <td>NLAGN?no_obs</td>\n",
       "      <td>1</td>\n",
       "    </tr>\n",
       "    <tr>\n",
       "      <th>13</th>\n",
       "      <td>Starb</td>\n",
       "      <td>1</td>\n",
       "    </tr>\n",
       "  </tbody>\n",
       "</table>\n",
       "</div>"
      ],
      "text/plain": [
       "   class_cleaned  occ\n",
       "0         GALAXY  107\n",
       "1            QSO   67\n",
       "2         redQSO   63\n",
       "3         absGAL   13\n",
       "4          NLAGN    4\n",
       "5            AGN    2\n",
       "6        QSO/AGN    2\n",
       "7       weak-det    2\n",
       "8      duplicate    2\n",
       "9           NL??    1\n",
       "10          star    1\n",
       "11        NLAGN?    1\n",
       "12  NLAGN?no_obs    1\n",
       "13         Starb    1"
      ]
     },
     "execution_count": 255,
     "metadata": {},
     "output_type": "execute_result"
    }
   ],
   "source": [
    "count_class = pd.DataFrame(y['class_cleaned'].value_counts()).reset_index()\n",
    "count_class.rename(columns = {'index' : 'class_cleaned','class_cleaned':'occ'},inplace = True)\n",
    "count_class"
   ]
  },
  {
   "cell_type": "code",
   "execution_count": 256,
   "metadata": {},
   "outputs": [],
   "source": [
    "class_bin = []\n",
    "for i in y['class_cleaned']:\n",
    "    if i == 'QSO' or i == 'redQSO':\n",
    "        class_bin.append(1)\n",
    "    else:\n",
    "        class_bin.append(0)\n",
    "        \n",
    "y['class_bin'] = class_bin"
   ]
  },
  {
   "cell_type": "code",
   "execution_count": 257,
   "metadata": {},
   "outputs": [
    {
     "data": {
      "text/html": [
       "<div>\n",
       "<style scoped>\n",
       "    .dataframe tbody tr th:only-of-type {\n",
       "        vertical-align: middle;\n",
       "    }\n",
       "\n",
       "    .dataframe tbody tr th {\n",
       "        vertical-align: top;\n",
       "    }\n",
       "\n",
       "    .dataframe thead th {\n",
       "        text-align: right;\n",
       "    }\n",
       "</style>\n",
       "<table border=\"1\" class=\"dataframe\">\n",
       "  <thead>\n",
       "    <tr style=\"text-align: right;\">\n",
       "      <th></th>\n",
       "      <th>class_bin</th>\n",
       "      <th>occ</th>\n",
       "    </tr>\n",
       "  </thead>\n",
       "  <tbody>\n",
       "    <tr>\n",
       "      <th>0</th>\n",
       "      <td>0</td>\n",
       "      <td>137</td>\n",
       "    </tr>\n",
       "    <tr>\n",
       "      <th>1</th>\n",
       "      <td>1</td>\n",
       "      <td>130</td>\n",
       "    </tr>\n",
       "  </tbody>\n",
       "</table>\n",
       "</div>"
      ],
      "text/plain": [
       "   class_bin  occ\n",
       "0          0  137\n",
       "1          1  130"
      ]
     },
     "execution_count": 257,
     "metadata": {},
     "output_type": "execute_result"
    }
   ],
   "source": [
    "count_class = pd.DataFrame(y['class_bin'].value_counts()).reset_index()\n",
    "count_class.rename(columns = {'index' : 'class_bin','class_bin':'occ'},inplace = True)\n",
    "count_class"
   ]
  },
  {
   "cell_type": "code",
   "execution_count": 258,
   "metadata": {},
   "outputs": [],
   "source": [
    "final = y.reset_index().drop(columns = ['Unnamed: 0','class','index'])"
   ]
  },
  {
   "cell_type": "code",
   "execution_count": 259,
   "metadata": {},
   "outputs": [],
   "source": [
    "final['index'] = final.index"
   ]
  },
  {
   "cell_type": "code",
   "execution_count": 260,
   "metadata": {},
   "outputs": [
    {
     "data": {
      "text/plain": [
       "267"
      ]
     },
     "execution_count": 260,
     "metadata": {},
     "output_type": "execute_result"
    }
   ],
   "source": [
    "len(final)"
   ]
  },
  {
   "cell_type": "code",
   "execution_count": 261,
   "metadata": {},
   "outputs": [],
   "source": [
    "final.to_csv('../data/train_qso.csv')"
   ]
  },
  {
   "cell_type": "markdown",
   "metadata": {},
   "source": [
    "# Getting rid of NAN and G and R Mag == 22.2"
   ]
  },
  {
   "cell_type": "code",
   "execution_count": 262,
   "metadata": {},
   "outputs": [],
   "source": [
    "df = pd.read_csv('../data/train_qso.csv')"
   ]
  },
  {
   "cell_type": "code",
   "execution_count": 263,
   "metadata": {},
   "outputs": [
    {
     "data": {
      "text/plain": [
       "Index(['Unnamed: 0', 'data', 'RA', 'DEC', 'G_mag', 'R_mag', 'J_mag', 'K_mag',\n",
       "       'redshift', 'U_mag', 'I_mag', 'Z_mag', 'ug', 'ur', 'ui', 'uz', 'uj',\n",
       "       'uk', 'uw1', 'uw2', 'gr', 'gi', 'gz', 'gk', 'gw1', 'gw2', 'ri', 'rz',\n",
       "       'rw1', 'rw2', 'iz', 'ij', 'ik', 'iw1', 'iw2', 'zj', 'zk', 'zw1', 'zw2',\n",
       "       'jw1', 'jw2', 'kw1', 'kw2', 'w1w2', 'class_cleaned', 'class_bin',\n",
       "       'index'],\n",
       "      dtype='object')"
      ]
     },
     "execution_count": 263,
     "metadata": {},
     "output_type": "execute_result"
    }
   ],
   "source": [
    "df.columns"
   ]
  },
  {
   "cell_type": "code",
   "execution_count": 264,
   "metadata": {},
   "outputs": [],
   "source": [
    "df = df[df['G_mag'] != 22.2]"
   ]
  },
  {
   "cell_type": "code",
   "execution_count": 265,
   "metadata": {},
   "outputs": [],
   "source": [
    "data = df[['index','ug', 'ur', 'ui', 'uz', 'uj', 'uk', 'uw1', 'uw2', 'gr',\n",
    "       'gi', 'gz', 'gk', 'gw1', 'gw2', 'ri', 'rz', 'rw1', 'rw2', 'iz', 'ij',\n",
    "       'ik', 'iw1', 'iw2', 'zj', 'zk', 'zw1', 'zw2', 'jw1', 'jw2', 'kw1',\n",
    "       'kw2', 'w1w2','class_bin']]"
   ]
  },
  {
   "cell_type": "code",
   "execution_count": 266,
   "metadata": {},
   "outputs": [],
   "source": [
    "def clean_dataset(df):\n",
    "    assert isinstance(df, pd.DataFrame), \"df needs to be a pd.DataFrame\"\n",
    "    df.dropna(inplace=True)\n",
    "    indices_to_keep = ~df.isin([np.nan, np.inf, -np.inf]).any(1)\n",
    "    return df[indices_to_keep].astype(np.float64)"
   ]
  },
  {
   "cell_type": "code",
   "execution_count": 267,
   "metadata": {
    "tags": []
   },
   "outputs": [
    {
     "name": "stderr",
     "output_type": "stream",
     "text": [
      "/var/folders/dq/sc1tlll95vbbtbqb_dbg21km0000gn/T/ipykernel_47650/1442344577.py:3: SettingWithCopyWarning: \n",
      "A value is trying to be set on a copy of a slice from a DataFrame\n",
      "\n",
      "See the caveats in the documentation: https://pandas.pydata.org/pandas-docs/stable/user_guide/indexing.html#returning-a-view-versus-a-copy\n",
      "  df.dropna(inplace=True)\n"
     ]
    },
    {
     "data": {
      "text/html": [
       "<div>\n",
       "<style scoped>\n",
       "    .dataframe tbody tr th:only-of-type {\n",
       "        vertical-align: middle;\n",
       "    }\n",
       "\n",
       "    .dataframe tbody tr th {\n",
       "        vertical-align: top;\n",
       "    }\n",
       "\n",
       "    .dataframe thead th {\n",
       "        text-align: right;\n",
       "    }\n",
       "</style>\n",
       "<table border=\"1\" class=\"dataframe\">\n",
       "  <thead>\n",
       "    <tr style=\"text-align: right;\">\n",
       "      <th></th>\n",
       "      <th>index</th>\n",
       "      <th>ug</th>\n",
       "      <th>ur</th>\n",
       "      <th>ui</th>\n",
       "      <th>uz</th>\n",
       "      <th>uj</th>\n",
       "      <th>uk</th>\n",
       "      <th>uw1</th>\n",
       "      <th>uw2</th>\n",
       "      <th>gr</th>\n",
       "      <th>...</th>\n",
       "      <th>zj</th>\n",
       "      <th>zk</th>\n",
       "      <th>zw1</th>\n",
       "      <th>zw2</th>\n",
       "      <th>jw1</th>\n",
       "      <th>jw2</th>\n",
       "      <th>kw1</th>\n",
       "      <th>kw2</th>\n",
       "      <th>w1w2</th>\n",
       "      <th>class_bin</th>\n",
       "    </tr>\n",
       "  </thead>\n",
       "  <tbody>\n",
       "    <tr>\n",
       "      <th>0</th>\n",
       "      <td>0.00000</td>\n",
       "      <td>1.66960</td>\n",
       "      <td>2.79980</td>\n",
       "      <td>3.94600</td>\n",
       "      <td>4.65300</td>\n",
       "      <td>4.77483</td>\n",
       "      <td>5.71246</td>\n",
       "      <td>6.83926</td>\n",
       "      <td>7.14002</td>\n",
       "      <td>1.13020</td>\n",
       "      <td>...</td>\n",
       "      <td>0.12183</td>\n",
       "      <td>1.05946</td>\n",
       "      <td>2.18625</td>\n",
       "      <td>2.48702</td>\n",
       "      <td>2.06442</td>\n",
       "      <td>2.36518</td>\n",
       "      <td>1.12680</td>\n",
       "      <td>1.42756</td>\n",
       "      <td>0.30076</td>\n",
       "      <td>1.00000</td>\n",
       "    </tr>\n",
       "    <tr>\n",
       "      <th>1</th>\n",
       "      <td>1.00000</td>\n",
       "      <td>0.04280</td>\n",
       "      <td>1.46910</td>\n",
       "      <td>2.16500</td>\n",
       "      <td>2.48700</td>\n",
       "      <td>3.12021</td>\n",
       "      <td>4.25929</td>\n",
       "      <td>4.17710</td>\n",
       "      <td>4.23073</td>\n",
       "      <td>1.42630</td>\n",
       "      <td>...</td>\n",
       "      <td>0.63321</td>\n",
       "      <td>1.77229</td>\n",
       "      <td>1.69010</td>\n",
       "      <td>1.74373</td>\n",
       "      <td>1.05689</td>\n",
       "      <td>1.11052</td>\n",
       "      <td>-0.08220</td>\n",
       "      <td>-0.02857</td>\n",
       "      <td>0.05363</td>\n",
       "      <td>1.00000</td>\n",
       "    </tr>\n",
       "    <tr>\n",
       "      <th>2</th>\n",
       "      <td>2.00000</td>\n",
       "      <td>0.50840</td>\n",
       "      <td>0.94060</td>\n",
       "      <td>2.10600</td>\n",
       "      <td>3.06000</td>\n",
       "      <td>3.93702</td>\n",
       "      <td>5.33672</td>\n",
       "      <td>6.81894</td>\n",
       "      <td>7.41170</td>\n",
       "      <td>0.43220</td>\n",
       "      <td>...</td>\n",
       "      <td>0.87702</td>\n",
       "      <td>2.27672</td>\n",
       "      <td>3.75894</td>\n",
       "      <td>4.35170</td>\n",
       "      <td>2.88193</td>\n",
       "      <td>3.47468</td>\n",
       "      <td>1.48222</td>\n",
       "      <td>2.07498</td>\n",
       "      <td>0.59276</td>\n",
       "      <td>1.00000</td>\n",
       "    </tr>\n",
       "    <tr>\n",
       "      <th>3</th>\n",
       "      <td>3.00000</td>\n",
       "      <td>1.90900</td>\n",
       "      <td>3.50230</td>\n",
       "      <td>4.20800</td>\n",
       "      <td>4.64900</td>\n",
       "      <td>5.29542</td>\n",
       "      <td>6.24571</td>\n",
       "      <td>6.21419</td>\n",
       "      <td>6.14514</td>\n",
       "      <td>1.59330</td>\n",
       "      <td>...</td>\n",
       "      <td>0.64642</td>\n",
       "      <td>1.59671</td>\n",
       "      <td>1.56519</td>\n",
       "      <td>1.49614</td>\n",
       "      <td>0.91877</td>\n",
       "      <td>0.84972</td>\n",
       "      <td>-0.03151</td>\n",
       "      <td>-0.10056</td>\n",
       "      <td>-0.06905</td>\n",
       "      <td>1.00000</td>\n",
       "    </tr>\n",
       "    <tr>\n",
       "      <th>4</th>\n",
       "      <td>4.00000</td>\n",
       "      <td>2.79780</td>\n",
       "      <td>4.19360</td>\n",
       "      <td>5.03800</td>\n",
       "      <td>5.57100</td>\n",
       "      <td>5.85766</td>\n",
       "      <td>6.86251</td>\n",
       "      <td>6.54682</td>\n",
       "      <td>6.47956</td>\n",
       "      <td>1.39580</td>\n",
       "      <td>...</td>\n",
       "      <td>0.28666</td>\n",
       "      <td>1.29151</td>\n",
       "      <td>0.97582</td>\n",
       "      <td>0.90856</td>\n",
       "      <td>0.68916</td>\n",
       "      <td>0.62190</td>\n",
       "      <td>-0.31569</td>\n",
       "      <td>-0.38295</td>\n",
       "      <td>-0.06726</td>\n",
       "      <td>1.00000</td>\n",
       "    </tr>\n",
       "    <tr>\n",
       "      <th>...</th>\n",
       "      <td>...</td>\n",
       "      <td>...</td>\n",
       "      <td>...</td>\n",
       "      <td>...</td>\n",
       "      <td>...</td>\n",
       "      <td>...</td>\n",
       "      <td>...</td>\n",
       "      <td>...</td>\n",
       "      <td>...</td>\n",
       "      <td>...</td>\n",
       "      <td>...</td>\n",
       "      <td>...</td>\n",
       "      <td>...</td>\n",
       "      <td>...</td>\n",
       "      <td>...</td>\n",
       "      <td>...</td>\n",
       "      <td>...</td>\n",
       "      <td>...</td>\n",
       "      <td>...</td>\n",
       "      <td>...</td>\n",
       "      <td>...</td>\n",
       "    </tr>\n",
       "    <tr>\n",
       "      <th>262</th>\n",
       "      <td>262.00000</td>\n",
       "      <td>-0.29838</td>\n",
       "      <td>-0.25885</td>\n",
       "      <td>0.92194</td>\n",
       "      <td>3.88954</td>\n",
       "      <td>7.24137</td>\n",
       "      <td>8.49837</td>\n",
       "      <td>8.54837</td>\n",
       "      <td>8.49037</td>\n",
       "      <td>0.03953</td>\n",
       "      <td>...</td>\n",
       "      <td>3.35183</td>\n",
       "      <td>4.60883</td>\n",
       "      <td>4.65883</td>\n",
       "      <td>4.60083</td>\n",
       "      <td>1.30700</td>\n",
       "      <td>1.24900</td>\n",
       "      <td>0.05000</td>\n",
       "      <td>-0.00800</td>\n",
       "      <td>-0.05800</td>\n",
       "      <td>0.00000</td>\n",
       "    </tr>\n",
       "    <tr>\n",
       "      <th>263</th>\n",
       "      <td>263.00000</td>\n",
       "      <td>-0.88352</td>\n",
       "      <td>0.67786</td>\n",
       "      <td>2.82838</td>\n",
       "      <td>4.00046</td>\n",
       "      <td>5.91702</td>\n",
       "      <td>7.22802</td>\n",
       "      <td>7.19402</td>\n",
       "      <td>6.80502</td>\n",
       "      <td>1.56138</td>\n",
       "      <td>...</td>\n",
       "      <td>1.91656</td>\n",
       "      <td>3.22756</td>\n",
       "      <td>3.19356</td>\n",
       "      <td>2.80456</td>\n",
       "      <td>1.27700</td>\n",
       "      <td>0.88800</td>\n",
       "      <td>-0.03400</td>\n",
       "      <td>-0.42300</td>\n",
       "      <td>-0.38900</td>\n",
       "      <td>0.00000</td>\n",
       "    </tr>\n",
       "    <tr>\n",
       "      <th>264</th>\n",
       "      <td>264.00000</td>\n",
       "      <td>1.63254</td>\n",
       "      <td>3.34431</td>\n",
       "      <td>4.91560</td>\n",
       "      <td>5.95098</td>\n",
       "      <td>7.48836</td>\n",
       "      <td>8.78336</td>\n",
       "      <td>8.97036</td>\n",
       "      <td>8.99536</td>\n",
       "      <td>1.71177</td>\n",
       "      <td>...</td>\n",
       "      <td>1.53739</td>\n",
       "      <td>2.83239</td>\n",
       "      <td>3.01939</td>\n",
       "      <td>3.04439</td>\n",
       "      <td>1.48200</td>\n",
       "      <td>1.50700</td>\n",
       "      <td>0.18700</td>\n",
       "      <td>0.21200</td>\n",
       "      <td>0.02500</td>\n",
       "      <td>0.00000</td>\n",
       "    </tr>\n",
       "    <tr>\n",
       "      <th>265</th>\n",
       "      <td>265.00000</td>\n",
       "      <td>1.20654</td>\n",
       "      <td>2.91903</td>\n",
       "      <td>4.55871</td>\n",
       "      <td>5.13474</td>\n",
       "      <td>7.20994</td>\n",
       "      <td>8.42494</td>\n",
       "      <td>8.73394</td>\n",
       "      <td>8.39794</td>\n",
       "      <td>1.71249</td>\n",
       "      <td>...</td>\n",
       "      <td>2.07520</td>\n",
       "      <td>3.29020</td>\n",
       "      <td>3.59920</td>\n",
       "      <td>3.26320</td>\n",
       "      <td>1.52400</td>\n",
       "      <td>1.18800</td>\n",
       "      <td>0.30900</td>\n",
       "      <td>-0.02700</td>\n",
       "      <td>-0.33600</td>\n",
       "      <td>0.00000</td>\n",
       "    </tr>\n",
       "    <tr>\n",
       "      <th>266</th>\n",
       "      <td>266.00000</td>\n",
       "      <td>-0.84610</td>\n",
       "      <td>1.49993</td>\n",
       "      <td>3.36593</td>\n",
       "      <td>4.45091</td>\n",
       "      <td>6.55308</td>\n",
       "      <td>8.30508</td>\n",
       "      <td>8.85708</td>\n",
       "      <td>9.00808</td>\n",
       "      <td>2.34602</td>\n",
       "      <td>...</td>\n",
       "      <td>2.10217</td>\n",
       "      <td>3.85417</td>\n",
       "      <td>4.40617</td>\n",
       "      <td>4.55717</td>\n",
       "      <td>2.30400</td>\n",
       "      <td>2.45500</td>\n",
       "      <td>0.55200</td>\n",
       "      <td>0.70300</td>\n",
       "      <td>0.15100</td>\n",
       "      <td>0.00000</td>\n",
       "    </tr>\n",
       "  </tbody>\n",
       "</table>\n",
       "<p>254 rows × 34 columns</p>\n",
       "</div>"
      ],
      "text/plain": [
       "        index       ug       ur      ui      uz      uj      uk     uw1  \\\n",
       "0     0.00000  1.66960  2.79980 3.94600 4.65300 4.77483 5.71246 6.83926   \n",
       "1     1.00000  0.04280  1.46910 2.16500 2.48700 3.12021 4.25929 4.17710   \n",
       "2     2.00000  0.50840  0.94060 2.10600 3.06000 3.93702 5.33672 6.81894   \n",
       "3     3.00000  1.90900  3.50230 4.20800 4.64900 5.29542 6.24571 6.21419   \n",
       "4     4.00000  2.79780  4.19360 5.03800 5.57100 5.85766 6.86251 6.54682   \n",
       "..        ...      ...      ...     ...     ...     ...     ...     ...   \n",
       "262 262.00000 -0.29838 -0.25885 0.92194 3.88954 7.24137 8.49837 8.54837   \n",
       "263 263.00000 -0.88352  0.67786 2.82838 4.00046 5.91702 7.22802 7.19402   \n",
       "264 264.00000  1.63254  3.34431 4.91560 5.95098 7.48836 8.78336 8.97036   \n",
       "265 265.00000  1.20654  2.91903 4.55871 5.13474 7.20994 8.42494 8.73394   \n",
       "266 266.00000 -0.84610  1.49993 3.36593 4.45091 6.55308 8.30508 8.85708   \n",
       "\n",
       "        uw2      gr  ...      zj      zk     zw1     zw2     jw1     jw2  \\\n",
       "0   7.14002 1.13020  ... 0.12183 1.05946 2.18625 2.48702 2.06442 2.36518   \n",
       "1   4.23073 1.42630  ... 0.63321 1.77229 1.69010 1.74373 1.05689 1.11052   \n",
       "2   7.41170 0.43220  ... 0.87702 2.27672 3.75894 4.35170 2.88193 3.47468   \n",
       "3   6.14514 1.59330  ... 0.64642 1.59671 1.56519 1.49614 0.91877 0.84972   \n",
       "4   6.47956 1.39580  ... 0.28666 1.29151 0.97582 0.90856 0.68916 0.62190   \n",
       "..      ...     ...  ...     ...     ...     ...     ...     ...     ...   \n",
       "262 8.49037 0.03953  ... 3.35183 4.60883 4.65883 4.60083 1.30700 1.24900   \n",
       "263 6.80502 1.56138  ... 1.91656 3.22756 3.19356 2.80456 1.27700 0.88800   \n",
       "264 8.99536 1.71177  ... 1.53739 2.83239 3.01939 3.04439 1.48200 1.50700   \n",
       "265 8.39794 1.71249  ... 2.07520 3.29020 3.59920 3.26320 1.52400 1.18800   \n",
       "266 9.00808 2.34602  ... 2.10217 3.85417 4.40617 4.55717 2.30400 2.45500   \n",
       "\n",
       "         kw1      kw2     w1w2  class_bin  \n",
       "0    1.12680  1.42756  0.30076    1.00000  \n",
       "1   -0.08220 -0.02857  0.05363    1.00000  \n",
       "2    1.48222  2.07498  0.59276    1.00000  \n",
       "3   -0.03151 -0.10056 -0.06905    1.00000  \n",
       "4   -0.31569 -0.38295 -0.06726    1.00000  \n",
       "..       ...      ...      ...        ...  \n",
       "262  0.05000 -0.00800 -0.05800    0.00000  \n",
       "263 -0.03400 -0.42300 -0.38900    0.00000  \n",
       "264  0.18700  0.21200  0.02500    0.00000  \n",
       "265  0.30900 -0.02700 -0.33600    0.00000  \n",
       "266  0.55200  0.70300  0.15100    0.00000  \n",
       "\n",
       "[254 rows x 34 columns]"
      ]
     },
     "execution_count": 267,
     "metadata": {},
     "output_type": "execute_result"
    }
   ],
   "source": [
    "clean_dataset(data)"
   ]
  },
  {
   "cell_type": "code",
   "execution_count": 268,
   "metadata": {},
   "outputs": [
    {
     "data": {
      "text/plain": [
       "False"
      ]
     },
     "execution_count": 268,
     "metadata": {},
     "output_type": "execute_result"
    }
   ],
   "source": [
    "np.any(np.isnan(data[['ug', 'ur', 'ui', 'uz', 'uj', 'uk', 'uw1', 'uw2', 'gr',\n",
    "       'gi', 'gz', 'gk', 'gw1', 'gw2', 'ri', 'rz', 'rw1', 'rw2', 'iz', 'ij',\n",
    "       'ik', 'iw1', 'iw2', 'zj', 'zk', 'zw1', 'zw2', 'jw1', 'jw2', 'kw1',\n",
    "       'kw2', 'w1w2','class_bin']]))"
   ]
  },
  {
   "cell_type": "code",
   "execution_count": 269,
   "metadata": {},
   "outputs": [],
   "source": [
    "final = data.merge(df[['index','RA','DEC']],on = 'index')"
   ]
  },
  {
   "cell_type": "code",
   "execution_count": 270,
   "metadata": {},
   "outputs": [],
   "source": [
    "final.dropna(inplace = True)"
   ]
  },
  {
   "cell_type": "code",
   "execution_count": 271,
   "metadata": {},
   "outputs": [],
   "source": [
    "final.drop(columns ='index',inplace = True)\n",
    "final['index'] = final.index+1"
   ]
  },
  {
   "cell_type": "code",
   "execution_count": 273,
   "metadata": {},
   "outputs": [],
   "source": [
    "final.to_csv('../data/trian_qso_wo_petro.csv')"
   ]
  },
  {
   "cell_type": "markdown",
   "metadata": {},
   "source": [
    "# Merge with Petra Data"
   ]
  },
  {
   "cell_type": "code",
   "execution_count": 274,
   "metadata": {},
   "outputs": [],
   "source": [
    "df_petra = pd.read_csv('../data/petra_data.csv')"
   ]
  },
  {
   "cell_type": "code",
   "execution_count": 275,
   "metadata": {},
   "outputs": [],
   "source": [
    "final_with_petra = final.merge(df_petra, left_index = True,right_index=True)"
   ]
  },
  {
   "cell_type": "markdown",
   "metadata": {
    "jp-MarkdownHeadingCollapsed": true,
    "tags": []
   },
   "source": [
    "# Merge with Image"
   ]
  },
  {
   "cell_type": "code",
   "execution_count": 105,
   "metadata": {},
   "outputs": [],
   "source": [
    "images_name = ['001_001513.5-003259_K','002_002143.0-000607_K','003_003753.8-005152_K','004_004129.5+000801_K','005_004716.6+002250_K','006_015624.8-001459_K','007_015725.4-005115_K','008_015759.7-004238_K','009_015821.1+002753_K','010_015907.5-000028_K','011_020709.8+010000_K','012_020815.5+002420_K','013_020819.5+005258_K','014_021050.3+000936_K','015_021813.6+001327_K','016_022024.5+002000_K','017_221254.7-004953_K','018_221255.3+000108_K','019_221834.0-003142_K','020_222013.9+001149_K','021_222409.4-001524_K','022_222927.4+001956_K','023_223229.3+005216_K','024_223854.5-004649_K','025_224239.8-003848_K','026_224424.5+003814_K','027_224806.3+003311_K','028_225300.9+000613_K','029_230057.2+000307_K','030_232533.4+005658_K','031_234312.4+000217_K','032_234651.1+005037_K','033_235446.8-004418_K','034_235545.5-001121_K','035_235646.4-005622_K','036_235738.5+004542_K','037_090450.5-014525_K','038_091606.8+071059_K','039_091618.8+005134_K','040_092035.2+062152_K','041_092127.9+023627_K','042_092355.0+023553_K','043_092503.7+035434_K','044_094743.5+030205_K','045_095423.7+083659_K','046_100957.7+073812_K','047_102253.7+051658_K','048_103716.6+021243_K','049_103753.4+023636_K','050_113513.6+053308_K','051_113626.4-005339_K','052_114148.7+135645_K','053_115127.5+144425_K','054_120907.5+145302_K','055_121527.7+071757_K','056_122057.4+094316_K','057_124323.7+102344_K','058_125114.2+071552_K','059_125633.7+040247_K','060_132219.0+094838_K','061_134335.9+085442_K','062_135039.3+130728_K','063_135419.0+001153_K','064_142447.1+091759_K','065_143323.1+085252_K','066_143404.6+093529_K','067_143921.0+113606_K','068_144141.1+110853_K','069_144141.1+110853_K','070_145055.4+063016_K','071_145410.8+041820_K','072_145742.0+033639_K','073_145939.7+060427_K','074_150351.2+121148_K','075_150731.2+101650_K','076_151318.2-004803_K','077_151720.5+095210_K','078_151758.8+010157_K','079_152147.0-021337_K','080_152553.8-004552_K','081_152928.0+083643_K','082_153724.1-010850_K','083_003659.8-011333_K','084_004331.4-001527_K','085_004341.3+005253_K','086_012702.5+011412_K','087_032247.3+000326_K','088_033248.5-001012_K','090_084110.3+060204_K','092_092533.7+021343_K','093_093100.8+014819_K','095_094400.6+055109_K','096_100424.9+122923_K','097_102342.1+121623_K','098_102433.0+053825_K','100_110621.7+022125_K','101_111244.8+153439_K','103_113427.1+100113_K','104_114420.3+113501_K','105_115449.3+112706_K','106_120416.9+090224_K','107_121128.0+095527_K','108_121426.4+143843_K','109_122016.9+112628_K','110_123241.1+111259_K','111_124212.1+044042_K','112_124704.9+010627_K','113_124847.2+053131_K','114_125041.4+131854_K','115_125212.9+071505_K','116_125915.1+072948_K','117_131327.5+145339_K','118_132210.2+084233_K','119_132510.3+131241_K','120_133939.6+033110_K','121_134039.7+051420_K','122_134151.1+083513_K','123_135304.2+023012_K','124_135947.4+103319_K','125_143921.0+113605_K','126_143929.9+085846_K','127_144809.5+054019_K','128_145237.3+085056_K','129_145810.3+063440_K','130_150013.4+123645_K','132_150357.1+041856_K','133_150746.1+093731_K','135_152255.6+030211_K','136_153206.3+061638_K','137_153334.2+073506_K','139_155102.8+084401_K','141_155455.9+071408_K','143_204626.1+002338_K','144_220546.3+005319_K','145_221633.7-005452_K','146_001503.8-003728_K','147_001741.8+000752_K','148_002101.0+005248_K','149_002944.9+001011_K','150_003650.4+000202_K','151_005527.5-002149_K','152_005528.8+003453_K','153_005847.5-010550_K','154_005904.1+010004_K','155_010103.7-001146_K','156_010942.2-004418_K','157_011341.1+010609_K','158_011940.8-002553_K','159_012218.1+010026_K','160_013828.6-001908_K','161_020345.6-010109_K','162_020412.4-005347_K','163_021405.9-001637_K','164_022054.8+001753_K','165_022908.5-003820_K','166_023301.2+002515_K','167_025958.2-003622_K','168_031752.9-005417_K','169_032853.3+003104_K','170_205450.6-010831_K','171_205540.6+003600_K','172_211931.1-003051_K','173_213242.3+011132_K','174_214010.0+004015_K','175_214826.4-010929_K','176_215834.7+000701_K','177_220051.9+010827_K','178_220955.2+011225_K','179_222407.2+002151_K','180_222538.2-005612_K','181_223039.8+005644_K','182_223447.0-000646_K','183_224226.7+011143_K','184_224227.6-004311_K','185_224621.0-001744_K','186_225333.0-002443_K','187_230231.1+000148_K','188_230703.8+011311_K','189_231223.7-000513_K','190_231846.6+005126_K','191_233232.3+002821_K','192_233622.8-002651_K','193_233917.8-001459_K','194_235030.7-005845_K'\n",
    "]"
   ]
  },
  {
   "cell_type": "code",
   "execution_count": 107,
   "metadata": {},
   "outputs": [],
   "source": [
    "missing_images = [89,91,94,99,102,131,134,138,140,142]"
   ]
  },
  {
   "cell_type": "code",
   "execution_count": 108,
   "metadata": {},
   "outputs": [],
   "source": [
    "final_with_petra_images = final_with_petra.drop(index = [88,90,93,98,101,130,133,137,139,141],axis = 0)"
   ]
  },
  {
   "cell_type": "code",
   "execution_count": 109,
   "metadata": {
    "collapsed": true,
    "jupyter": {
     "outputs_hidden": true
    },
    "tags": []
   },
   "outputs": [
    {
     "ename": "ValueError",
     "evalue": "Length of values (184) does not match length of index (183)",
     "output_type": "error",
     "traceback": [
      "\u001b[0;31m---------------------------------------------------------------------------\u001b[0m",
      "\u001b[0;31mValueError\u001b[0m                                Traceback (most recent call last)",
      "\u001b[0;32m<ipython-input-109-c38a3fcd3e80>\u001b[0m in \u001b[0;36m<module>\u001b[0;34m\u001b[0m\n\u001b[0;32m----> 1\u001b[0;31m \u001b[0mfinal_with_petra_images\u001b[0m\u001b[0;34m[\u001b[0m\u001b[0;34m'image_id'\u001b[0m\u001b[0;34m]\u001b[0m \u001b[0;34m=\u001b[0m \u001b[0mimages_name\u001b[0m\u001b[0;34m\u001b[0m\u001b[0;34m\u001b[0m\u001b[0m\n\u001b[0m",
      "\u001b[0;32m/astro/linux/64/anaconda/python3/current/lib/python3.8/site-packages/pandas/core/frame.py\u001b[0m in \u001b[0;36m__setitem__\u001b[0;34m(self, key, value)\u001b[0m\n\u001b[1;32m   3161\u001b[0m         \u001b[0;32melse\u001b[0m\u001b[0;34m:\u001b[0m\u001b[0;34m\u001b[0m\u001b[0;34m\u001b[0m\u001b[0m\n\u001b[1;32m   3162\u001b[0m             \u001b[0;31m# set column\u001b[0m\u001b[0;34m\u001b[0m\u001b[0;34m\u001b[0m\u001b[0;34m\u001b[0m\u001b[0m\n\u001b[0;32m-> 3163\u001b[0;31m             \u001b[0mself\u001b[0m\u001b[0;34m.\u001b[0m\u001b[0m_set_item\u001b[0m\u001b[0;34m(\u001b[0m\u001b[0mkey\u001b[0m\u001b[0;34m,\u001b[0m \u001b[0mvalue\u001b[0m\u001b[0;34m)\u001b[0m\u001b[0;34m\u001b[0m\u001b[0;34m\u001b[0m\u001b[0m\n\u001b[0m\u001b[1;32m   3164\u001b[0m \u001b[0;34m\u001b[0m\u001b[0m\n\u001b[1;32m   3165\u001b[0m     \u001b[0;32mdef\u001b[0m \u001b[0m_setitem_slice\u001b[0m\u001b[0;34m(\u001b[0m\u001b[0mself\u001b[0m\u001b[0;34m,\u001b[0m \u001b[0mkey\u001b[0m\u001b[0;34m:\u001b[0m \u001b[0mslice\u001b[0m\u001b[0;34m,\u001b[0m \u001b[0mvalue\u001b[0m\u001b[0;34m)\u001b[0m\u001b[0;34m:\u001b[0m\u001b[0;34m\u001b[0m\u001b[0;34m\u001b[0m\u001b[0m\n",
      "\u001b[0;32m/astro/linux/64/anaconda/python3/current/lib/python3.8/site-packages/pandas/core/frame.py\u001b[0m in \u001b[0;36m_set_item\u001b[0;34m(self, key, value)\u001b[0m\n\u001b[1;32m   3240\u001b[0m         \"\"\"\n\u001b[1;32m   3241\u001b[0m         \u001b[0mself\u001b[0m\u001b[0;34m.\u001b[0m\u001b[0m_ensure_valid_index\u001b[0m\u001b[0;34m(\u001b[0m\u001b[0mvalue\u001b[0m\u001b[0;34m)\u001b[0m\u001b[0;34m\u001b[0m\u001b[0;34m\u001b[0m\u001b[0m\n\u001b[0;32m-> 3242\u001b[0;31m         \u001b[0mvalue\u001b[0m \u001b[0;34m=\u001b[0m \u001b[0mself\u001b[0m\u001b[0;34m.\u001b[0m\u001b[0m_sanitize_column\u001b[0m\u001b[0;34m(\u001b[0m\u001b[0mkey\u001b[0m\u001b[0;34m,\u001b[0m \u001b[0mvalue\u001b[0m\u001b[0;34m)\u001b[0m\u001b[0;34m\u001b[0m\u001b[0;34m\u001b[0m\u001b[0m\n\u001b[0m\u001b[1;32m   3243\u001b[0m         \u001b[0mNDFrame\u001b[0m\u001b[0;34m.\u001b[0m\u001b[0m_set_item\u001b[0m\u001b[0;34m(\u001b[0m\u001b[0mself\u001b[0m\u001b[0;34m,\u001b[0m \u001b[0mkey\u001b[0m\u001b[0;34m,\u001b[0m \u001b[0mvalue\u001b[0m\u001b[0;34m)\u001b[0m\u001b[0;34m\u001b[0m\u001b[0;34m\u001b[0m\u001b[0m\n\u001b[1;32m   3244\u001b[0m \u001b[0;34m\u001b[0m\u001b[0m\n",
      "\u001b[0;32m/astro/linux/64/anaconda/python3/current/lib/python3.8/site-packages/pandas/core/frame.py\u001b[0m in \u001b[0;36m_sanitize_column\u001b[0;34m(self, key, value, broadcast)\u001b[0m\n\u001b[1;32m   3897\u001b[0m \u001b[0;34m\u001b[0m\u001b[0m\n\u001b[1;32m   3898\u001b[0m             \u001b[0;31m# turn me into an ndarray\u001b[0m\u001b[0;34m\u001b[0m\u001b[0;34m\u001b[0m\u001b[0;34m\u001b[0m\u001b[0m\n\u001b[0;32m-> 3899\u001b[0;31m             \u001b[0mvalue\u001b[0m \u001b[0;34m=\u001b[0m \u001b[0msanitize_index\u001b[0m\u001b[0;34m(\u001b[0m\u001b[0mvalue\u001b[0m\u001b[0;34m,\u001b[0m \u001b[0mself\u001b[0m\u001b[0;34m.\u001b[0m\u001b[0mindex\u001b[0m\u001b[0;34m)\u001b[0m\u001b[0;34m\u001b[0m\u001b[0;34m\u001b[0m\u001b[0m\n\u001b[0m\u001b[1;32m   3900\u001b[0m             \u001b[0;32mif\u001b[0m \u001b[0;32mnot\u001b[0m \u001b[0misinstance\u001b[0m\u001b[0;34m(\u001b[0m\u001b[0mvalue\u001b[0m\u001b[0;34m,\u001b[0m \u001b[0;34m(\u001b[0m\u001b[0mnp\u001b[0m\u001b[0;34m.\u001b[0m\u001b[0mndarray\u001b[0m\u001b[0;34m,\u001b[0m \u001b[0mIndex\u001b[0m\u001b[0;34m)\u001b[0m\u001b[0;34m)\u001b[0m\u001b[0;34m:\u001b[0m\u001b[0;34m\u001b[0m\u001b[0;34m\u001b[0m\u001b[0m\n\u001b[1;32m   3901\u001b[0m                 \u001b[0;32mif\u001b[0m \u001b[0misinstance\u001b[0m\u001b[0;34m(\u001b[0m\u001b[0mvalue\u001b[0m\u001b[0;34m,\u001b[0m \u001b[0mlist\u001b[0m\u001b[0;34m)\u001b[0m \u001b[0;32mand\u001b[0m \u001b[0mlen\u001b[0m\u001b[0;34m(\u001b[0m\u001b[0mvalue\u001b[0m\u001b[0;34m)\u001b[0m \u001b[0;34m>\u001b[0m \u001b[0;36m0\u001b[0m\u001b[0;34m:\u001b[0m\u001b[0;34m\u001b[0m\u001b[0;34m\u001b[0m\u001b[0m\n",
      "\u001b[0;32m/astro/linux/64/anaconda/python3/current/lib/python3.8/site-packages/pandas/core/internals/construction.py\u001b[0m in \u001b[0;36msanitize_index\u001b[0;34m(data, index)\u001b[0m\n\u001b[1;32m    749\u001b[0m     \"\"\"\n\u001b[1;32m    750\u001b[0m     \u001b[0;32mif\u001b[0m \u001b[0mlen\u001b[0m\u001b[0;34m(\u001b[0m\u001b[0mdata\u001b[0m\u001b[0;34m)\u001b[0m \u001b[0;34m!=\u001b[0m \u001b[0mlen\u001b[0m\u001b[0;34m(\u001b[0m\u001b[0mindex\u001b[0m\u001b[0;34m)\u001b[0m\u001b[0;34m:\u001b[0m\u001b[0;34m\u001b[0m\u001b[0;34m\u001b[0m\u001b[0m\n\u001b[0;32m--> 751\u001b[0;31m         raise ValueError(\n\u001b[0m\u001b[1;32m    752\u001b[0m             \u001b[0;34m\"Length of values \"\u001b[0m\u001b[0;34m\u001b[0m\u001b[0;34m\u001b[0m\u001b[0m\n\u001b[1;32m    753\u001b[0m             \u001b[0;34mf\"({len(data)}) \"\u001b[0m\u001b[0;34m\u001b[0m\u001b[0;34m\u001b[0m\u001b[0m\n",
      "\u001b[0;31mValueError\u001b[0m: Length of values (184) does not match length of index (183)"
     ]
    }
   ],
   "source": [
    "final_with_petra_images['image_id'] = images_name"
   ]
  },
  {
   "cell_type": "markdown",
   "metadata": {},
   "source": [
    "# Export Dataset"
   ]
  },
  {
   "cell_type": "code",
   "execution_count": null,
   "metadata": {},
   "outputs": [],
   "source": [
    "final_with_petra_images.to_csv('../data/train_qso_w_image.csv')"
   ]
  },
  {
   "cell_type": "code",
   "execution_count": 276,
   "metadata": {},
   "outputs": [],
   "source": [
    "final_with_petra.to_csv('../data/train_qso_wo_image.csv')"
   ]
  },
  {
   "cell_type": "code",
   "execution_count": null,
   "metadata": {},
   "outputs": [],
   "source": []
  }
 ],
 "metadata": {
  "kernelspec": {
   "display_name": "Python 3 (ipykernel)",
   "language": "python",
   "name": "python3"
  },
  "language_info": {
   "codemirror_mode": {
    "name": "ipython",
    "version": 3
   },
   "file_extension": ".py",
   "mimetype": "text/x-python",
   "name": "python",
   "nbconvert_exporter": "python",
   "pygments_lexer": "ipython3",
   "version": "3.9.12"
  }
 },
 "nbformat": 4,
 "nbformat_minor": 4
}
