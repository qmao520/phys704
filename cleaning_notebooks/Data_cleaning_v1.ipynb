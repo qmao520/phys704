{
 "cells": [
  {
   "cell_type": "code",
   "execution_count": 1,
   "metadata": {},
   "outputs": [],
   "source": [
    "import pandas as pd\n",
    "import numpy as np"
   ]
  },
  {
   "cell_type": "markdown",
   "metadata": {},
   "source": [
    "## Data Clean and Concat"
   ]
  },
  {
   "cell_type": "code",
   "execution_count": 2,
   "metadata": {},
   "outputs": [],
   "source": [
    "first = pd.read_csv('../data/combined/FIRST_WISE_SDSS_DR12.csv')\n",
    "spies = pd.read_csv('../data/combined/SpIES_WISE_SDSS_DR12.csv')\n",
    "red_q = pd.read_csv('../data/red_qso.csv')"
   ]
  },
  {
   "cell_type": "code",
   "execution_count": 3,
   "metadata": {},
   "outputs": [],
   "source": [
    "first['data'] = 'FIRST'\n",
    "spies['data'] = 'SpIES'"
   ]
  },
  {
   "cell_type": "code",
   "execution_count": 4,
   "metadata": {},
   "outputs": [],
   "source": [
    "first_c = first.drop(columns = ['errHalfMaj',\n",
    "       'errHalfMin', 'errPosAng','errHalfMaj_x', 'errHalfMin_x', 'errPosAng_x',\n",
    "                      'e_umag','e_gmag','e_rmag','e_imag','e_zmag','e_zsp', 'e_zph',\n",
    "                     'e_pmRA','e_pmDE','RAdeg', 'DEdeg'])\n",
    "\n",
    "spies_c = spies.drop(columns = ['ra_x',\n",
    "       'dec_x', 'errHalfMaj', 'errHalfMin', 'errPosAng','e_W1mag', 'e_W2mag',\n",
    "       'e_W3mag', 'e_W4mag', 'e_Jmag', 'e_Hmag', 'e_Kmag','RAdeg', 'DEdeg',\n",
    "       'errHalfMaj_x', 'errHalfMin_x', 'errPosAng_x', 'e_umag','e_gmag','e_rmag','e_imag','e_zmag','e_zsp', 'e_zph',\n",
    "                     'e_pmRA','e_pmDE','W1mag', 'W2mag'])"
   ]
  },
  {
   "cell_type": "code",
   "execution_count": 5,
   "metadata": {},
   "outputs": [],
   "source": [
    "first_c.rename(columns ={'ra_u':'RA','dec_u':'DEC','Jmag':'J_mag','Kmag':'K_mag','Class':'class'},inplace = True)"
   ]
  },
  {
   "cell_type": "code",
   "execution_count": 6,
   "metadata": {},
   "outputs": [],
   "source": [
    "spies_c.rename(columns = {'G_MAG_AB':'G_mag','R_MAG_AB':'R_mag', 'Y_MAG_AB':'Y_mag', 'J_MAG_AB':'J_mag',\n",
    "       'H_MAG_AB':'H_mag', 'K_MAG_AB':'K_mag','ch1_mag':'W1mag','ch2_mag':'W2mag'},inplace = True)"
   ]
  },
  {
   "cell_type": "code",
   "execution_count": 7,
   "metadata": {},
   "outputs": [],
   "source": [
    "f_s = pd.concat([spies_c,first_c])"
   ]
  },
  {
   "cell_type": "code",
   "execution_count": 8,
   "metadata": {},
   "outputs": [],
   "source": [
    "f_s_c = f_s.drop(columns = ['Y_mag','H_mag','Jmag', 'Hmag', 'Kmag','ext_flg','r_2mass',\n",
    "                   'zsp', 'f_zsp', 'zph', 'avg_zph','pmRA', 'pmDE', 'angDist_x','fpeak_u','fint_u','rmag','gmag'])"
   ]
  },
  {
   "cell_type": "code",
   "execution_count": 9,
   "metadata": {},
   "outputs": [],
   "source": [
    "pd.set_option('display.float_format', lambda x: '%.5f' % x)"
   ]
  },
  {
   "cell_type": "code",
   "execution_count": 10,
   "metadata": {},
   "outputs": [
    {
     "data": {
      "text/html": [
       "<div>\n",
       "<style scoped>\n",
       "    .dataframe tbody tr th:only-of-type {\n",
       "        vertical-align: middle;\n",
       "    }\n",
       "\n",
       "    .dataframe tbody tr th {\n",
       "        vertical-align: top;\n",
       "    }\n",
       "\n",
       "    .dataframe thead th {\n",
       "        text-align: right;\n",
       "    }\n",
       "</style>\n",
       "<table border=\"1\" class=\"dataframe\">\n",
       "  <thead>\n",
       "    <tr style=\"text-align: right;\">\n",
       "      <th></th>\n",
       "      <th>counter</th>\n",
       "      <th>G_mag</th>\n",
       "      <th>R_mag</th>\n",
       "      <th>J_mag</th>\n",
       "      <th>K_mag</th>\n",
       "      <th>W1mag</th>\n",
       "      <th>W2mag</th>\n",
       "      <th>gj</th>\n",
       "      <th>rj</th>\n",
       "      <th>jk</th>\n",
       "      <th>...</th>\n",
       "      <th>objID</th>\n",
       "      <th>mode</th>\n",
       "      <th>class_x</th>\n",
       "      <th>flags</th>\n",
       "      <th>ObsDate</th>\n",
       "      <th>Q</th>\n",
       "      <th>umag</th>\n",
       "      <th>imag</th>\n",
       "      <th>zmag</th>\n",
       "      <th>SpObjID</th>\n",
       "    </tr>\n",
       "  </thead>\n",
       "  <tbody>\n",
       "    <tr>\n",
       "      <th>count</th>\n",
       "      <td>231.00000</td>\n",
       "      <td>440.00000</td>\n",
       "      <td>440.00000</td>\n",
       "      <td>429.00000</td>\n",
       "      <td>440.00000</td>\n",
       "      <td>440.00000</td>\n",
       "      <td>440.00000</td>\n",
       "      <td>231.00000</td>\n",
       "      <td>231.00000</td>\n",
       "      <td>231.00000</td>\n",
       "      <td>...</td>\n",
       "      <td>440.00000</td>\n",
       "      <td>440.00000</td>\n",
       "      <td>440.00000</td>\n",
       "      <td>440.00000</td>\n",
       "      <td>440.00000</td>\n",
       "      <td>440.00000</td>\n",
       "      <td>440.00000</td>\n",
       "      <td>440.00000</td>\n",
       "      <td>440.00000</td>\n",
       "      <td>440.00000</td>\n",
       "    </tr>\n",
       "    <tr>\n",
       "      <th>mean</th>\n",
       "      <td>121.18182</td>\n",
       "      <td>22.79925</td>\n",
       "      <td>21.51493</td>\n",
       "      <td>19.06353</td>\n",
       "      <td>17.50228</td>\n",
       "      <td>16.66543</td>\n",
       "      <td>16.12041</td>\n",
       "      <td>3.29813</td>\n",
       "      <td>1.94598</td>\n",
       "      <td>1.10053</td>\n",
       "      <td>...</td>\n",
       "      <td>1237659168395882752.00000</td>\n",
       "      <td>1.64091</td>\n",
       "      <td>3.47727</td>\n",
       "      <td>1906697916076381.75000</td>\n",
       "      <td>2002.51380</td>\n",
       "      <td>2.77273</td>\n",
       "      <td>23.82290</td>\n",
       "      <td>20.53539</td>\n",
       "      <td>19.96456</td>\n",
       "      <td>109393960844698272.00000</td>\n",
       "    </tr>\n",
       "    <tr>\n",
       "      <th>std</th>\n",
       "      <td>70.66936</td>\n",
       "      <td>0.95655</td>\n",
       "      <td>0.94111</td>\n",
       "      <td>0.77973</td>\n",
       "      <td>1.19416</td>\n",
       "      <td>1.79079</td>\n",
       "      <td>2.24580</td>\n",
       "      <td>0.46682</td>\n",
       "      <td>0.41108</td>\n",
       "      <td>0.28857</td>\n",
       "      <td>...</td>\n",
       "      <td>6168163225937.60449</td>\n",
       "      <td>0.48028</td>\n",
       "      <td>1.09853</td>\n",
       "      <td>14063532886316578.00000</td>\n",
       "      <td>1.84952</td>\n",
       "      <td>0.58701</td>\n",
       "      <td>1.24549</td>\n",
       "      <td>0.82975</td>\n",
       "      <td>0.87924</td>\n",
       "      <td>805305094907043840.00000</td>\n",
       "    </tr>\n",
       "    <tr>\n",
       "      <th>min</th>\n",
       "      <td>2.00000</td>\n",
       "      <td>19.74073</td>\n",
       "      <td>18.63284</td>\n",
       "      <td>16.25200</td>\n",
       "      <td>13.39000</td>\n",
       "      <td>11.74400</td>\n",
       "      <td>10.64500</td>\n",
       "      <td>2.04061</td>\n",
       "      <td>1.50050</td>\n",
       "      <td>0.70346</td>\n",
       "      <td>...</td>\n",
       "      <td>1237645877943140608.00000</td>\n",
       "      <td>1.00000</td>\n",
       "      <td>3.00000</td>\n",
       "      <td>268435456.00000</td>\n",
       "      <td>1998.71670</td>\n",
       "      <td>1.00000</td>\n",
       "      <td>18.76600</td>\n",
       "      <td>18.00600</td>\n",
       "      <td>17.28900</td>\n",
       "      <td>0.00000</td>\n",
       "    </tr>\n",
       "    <tr>\n",
       "      <th>25%</th>\n",
       "      <td>59.50000</td>\n",
       "      <td>22.36024</td>\n",
       "      <td>21.16245</td>\n",
       "      <td>18.61700</td>\n",
       "      <td>16.50825</td>\n",
       "      <td>15.11200</td>\n",
       "      <td>14.19950</td>\n",
       "      <td>3.01728</td>\n",
       "      <td>1.65206</td>\n",
       "      <td>0.93771</td>\n",
       "      <td>...</td>\n",
       "      <td>1237654669069369856.00000</td>\n",
       "      <td>1.00000</td>\n",
       "      <td>3.00000</td>\n",
       "      <td>68987912960.00000</td>\n",
       "      <td>2001.14550</td>\n",
       "      <td>3.00000</td>\n",
       "      <td>22.91175</td>\n",
       "      <td>20.10075</td>\n",
       "      <td>19.55550</td>\n",
       "      <td>0.00000</td>\n",
       "    </tr>\n",
       "    <tr>\n",
       "      <th>50%</th>\n",
       "      <td>119.00000</td>\n",
       "      <td>22.87865</td>\n",
       "      <td>21.53590</td>\n",
       "      <td>19.21418</td>\n",
       "      <td>17.89172</td>\n",
       "      <td>16.97293</td>\n",
       "      <td>16.41712</td>\n",
       "      <td>3.26518</td>\n",
       "      <td>1.80920</td>\n",
       "      <td>1.05923</td>\n",
       "      <td>...</td>\n",
       "      <td>1237660224772342272.00000</td>\n",
       "      <td>2.00000</td>\n",
       "      <td>3.00000</td>\n",
       "      <td>35253360136208.00000</td>\n",
       "      <td>2002.82905</td>\n",
       "      <td>3.00000</td>\n",
       "      <td>23.71800</td>\n",
       "      <td>20.56200</td>\n",
       "      <td>19.95300</td>\n",
       "      <td>0.00000</td>\n",
       "    </tr>\n",
       "    <tr>\n",
       "      <th>75%</th>\n",
       "      <td>182.50000</td>\n",
       "      <td>23.33717</td>\n",
       "      <td>21.97872</td>\n",
       "      <td>19.67212</td>\n",
       "      <td>18.65466</td>\n",
       "      <td>18.35346</td>\n",
       "      <td>18.25728</td>\n",
       "      <td>3.56271</td>\n",
       "      <td>2.09075</td>\n",
       "      <td>1.21497</td>\n",
       "      <td>...</td>\n",
       "      <td>1237663505589715456.00000</td>\n",
       "      <td>2.00000</td>\n",
       "      <td>3.00000</td>\n",
       "      <td>263953926194850.00000</td>\n",
       "      <td>2003.80650</td>\n",
       "      <td>3.00000</td>\n",
       "      <td>24.69475</td>\n",
       "      <td>20.97050</td>\n",
       "      <td>20.33275</td>\n",
       "      <td>0.00000</td>\n",
       "    </tr>\n",
       "    <tr>\n",
       "      <th>max</th>\n",
       "      <td>243.00000</td>\n",
       "      <td>29.96000</td>\n",
       "      <td>29.77600</td>\n",
       "      <td>20.57677</td>\n",
       "      <td>18.89980</td>\n",
       "      <td>19.62744</td>\n",
       "      <td>19.59389</td>\n",
       "      <td>5.02965</td>\n",
       "      <td>3.41739</td>\n",
       "      <td>2.93105</td>\n",
       "      <td>...</td>\n",
       "      <td>1237676326577242624.00000</td>\n",
       "      <td>2.00000</td>\n",
       "      <td>6.00000</td>\n",
       "      <td>144238402399764480.00000</td>\n",
       "      <td>2007.88570</td>\n",
       "      <td>3.00000</td>\n",
       "      <td>27.31000</td>\n",
       "      <td>25.41300</td>\n",
       "      <td>28.55000</td>\n",
       "      <td>6170197397114384384.00000</td>\n",
       "    </tr>\n",
       "  </tbody>\n",
       "</table>\n",
       "<p>8 rows × 27 columns</p>\n",
       "</div>"
      ],
      "text/plain": [
       "        counter     G_mag     R_mag     J_mag     K_mag     W1mag     W2mag  \\\n",
       "count 231.00000 440.00000 440.00000 429.00000 440.00000 440.00000 440.00000   \n",
       "mean  121.18182  22.79925  21.51493  19.06353  17.50228  16.66543  16.12041   \n",
       "std    70.66936   0.95655   0.94111   0.77973   1.19416   1.79079   2.24580   \n",
       "min     2.00000  19.74073  18.63284  16.25200  13.39000  11.74400  10.64500   \n",
       "25%    59.50000  22.36024  21.16245  18.61700  16.50825  15.11200  14.19950   \n",
       "50%   119.00000  22.87865  21.53590  19.21418  17.89172  16.97293  16.41712   \n",
       "75%   182.50000  23.33717  21.97872  19.67212  18.65466  18.35346  18.25728   \n",
       "max   243.00000  29.96000  29.77600  20.57677  18.89980  19.62744  19.59389   \n",
       "\n",
       "             gj        rj        jk  ...                     objID      mode  \\\n",
       "count 231.00000 231.00000 231.00000  ...                 440.00000 440.00000   \n",
       "mean    3.29813   1.94598   1.10053  ... 1237659168395882752.00000   1.64091   \n",
       "std     0.46682   0.41108   0.28857  ...       6168163225937.60449   0.48028   \n",
       "min     2.04061   1.50050   0.70346  ... 1237645877943140608.00000   1.00000   \n",
       "25%     3.01728   1.65206   0.93771  ... 1237654669069369856.00000   1.00000   \n",
       "50%     3.26518   1.80920   1.05923  ... 1237660224772342272.00000   2.00000   \n",
       "75%     3.56271   2.09075   1.21497  ... 1237663505589715456.00000   2.00000   \n",
       "max     5.02965   3.41739   2.93105  ... 1237676326577242624.00000   2.00000   \n",
       "\n",
       "        class_x                    flags    ObsDate         Q      umag  \\\n",
       "count 440.00000                440.00000  440.00000 440.00000 440.00000   \n",
       "mean    3.47727   1906697916076381.75000 2002.51380   2.77273  23.82290   \n",
       "std     1.09853  14063532886316578.00000    1.84952   0.58701   1.24549   \n",
       "min     3.00000          268435456.00000 1998.71670   1.00000  18.76600   \n",
       "25%     3.00000        68987912960.00000 2001.14550   3.00000  22.91175   \n",
       "50%     3.00000     35253360136208.00000 2002.82905   3.00000  23.71800   \n",
       "75%     3.00000    263953926194850.00000 2003.80650   3.00000  24.69475   \n",
       "max     6.00000 144238402399764480.00000 2007.88570   3.00000  27.31000   \n",
       "\n",
       "           imag      zmag                   SpObjID  \n",
       "count 440.00000 440.00000                 440.00000  \n",
       "mean   20.53539  19.96456  109393960844698272.00000  \n",
       "std     0.82975   0.87924  805305094907043840.00000  \n",
       "min    18.00600  17.28900                   0.00000  \n",
       "25%    20.10075  19.55550                   0.00000  \n",
       "50%    20.56200  19.95300                   0.00000  \n",
       "75%    20.97050  20.33275                   0.00000  \n",
       "max    25.41300  28.55000 6170197397114384384.00000  \n",
       "\n",
       "[8 rows x 27 columns]"
      ]
     },
     "execution_count": 10,
     "metadata": {},
     "output_type": "execute_result"
    }
   ],
   "source": [
    "f_s_c.describe()"
   ]
  },
  {
   "cell_type": "code",
   "execution_count": 11,
   "metadata": {},
   "outputs": [],
   "source": [
    "f_s_c.rename(columns = {'umag':'U_mag','imag':'I_mag','zmag':'Z_mag'},inplace = True)"
   ]
  },
  {
   "cell_type": "code",
   "execution_count": 12,
   "metadata": {},
   "outputs": [],
   "source": [
    "f_s_c = pd.concat([f_s_c,red_q])"
   ]
  },
  {
   "cell_type": "code",
   "execution_count": 13,
   "metadata": {},
   "outputs": [],
   "source": [
    "f_s_c = f_s_c[['counter', 'RA', 'DEC', 'U_mag','G_mag', 'R_mag', 'I_mag', 'Z_mag','J_mag', 'K_mag', 'W1mag', 'W2mag','gj', 'rj',\n",
    "       'jk', 'rk', 'Fpk', 'Hpk', 'redshift', 'specObjID', 'class', 'JNAME',\n",
    "       'W3mag', 'W4mag', 'cntr', 'cc_flags', 'var_flg',\n",
    "       'ph_qual', 'angDist', 'objID', 'mode', 'q_mode', 'class_x', 'SDSS12',\n",
    "       'm_SDSS12', 'flags', 'ObsDate', 'Q',  \n",
    "       'SpObjID', 'spType', 'spCl', 'subClass', 'data', 'designation',\n",
    "       'spectrum']]"
   ]
  },
  {
   "cell_type": "markdown",
   "metadata": {},
   "source": [
    "## Color Features\n",
    "\n",
    "u,g,r,i,z,j,k, w1,w2"
   ]
  },
  {
   "cell_type": "code",
   "execution_count": 14,
   "metadata": {},
   "outputs": [],
   "source": [
    "f_s_c['ug'] = f_s_c['U_mag'] - f_s_c['G_mag']\n",
    "f_s_c['ur'] = f_s_c['U_mag'] - f_s_c['R_mag']\n",
    "f_s_c['ui'] = f_s_c['U_mag'] - f_s_c['I_mag']\n",
    "f_s_c['uz'] = f_s_c['U_mag'] - f_s_c['Z_mag']\n",
    "f_s_c['uj'] = f_s_c['U_mag'] - f_s_c['J_mag']\n",
    "f_s_c['uk'] = f_s_c['U_mag'] - f_s_c['K_mag']\n",
    "f_s_c['uw1'] = f_s_c['U_mag'] - f_s_c['W1mag']\n",
    "f_s_c['uw2'] = f_s_c['U_mag'] - f_s_c['W2mag']\n",
    "\n",
    "f_s_c['gr'] = f_s_c['G_mag'] - f_s_c['R_mag']\n",
    "f_s_c['gi'] = f_s_c['G_mag'] - f_s_c['I_mag']\n",
    "f_s_c['gz'] = f_s_c['G_mag'] - f_s_c['Z_mag']\n",
    "f_s_c['gj'] = f_s_c['G_mag'] - f_s_c['J_mag']\n",
    "f_s_c['gk'] = f_s_c['G_mag'] - f_s_c['K_mag']\n",
    "f_s_c['gw1'] = f_s_c['G_mag'] - f_s_c['W1mag']\n",
    "f_s_c['gw2'] = f_s_c['G_mag'] - f_s_c['W2mag']\n",
    "\n",
    "f_s_c['ri'] = f_s_c['R_mag'] - f_s_c['I_mag']\n",
    "f_s_c['rz'] = f_s_c['R_mag'] - f_s_c['Z_mag']\n",
    "f_s_c['rj'] = f_s_c['R_mag'] - f_s_c['J_mag']\n",
    "f_s_c['rk'] = f_s_c['R_mag'] - f_s_c['K_mag']\n",
    "f_s_c['rw1'] = f_s_c['R_mag'] - f_s_c['W1mag']\n",
    "f_s_c['rw2'] = f_s_c['R_mag'] - f_s_c['W2mag']\n",
    "\n",
    "f_s_c['iz'] = f_s_c['I_mag'] - f_s_c['Z_mag']\n",
    "f_s_c['ij'] = f_s_c['I_mag'] - f_s_c['J_mag']\n",
    "f_s_c['ik'] = f_s_c['I_mag'] - f_s_c['K_mag']\n",
    "f_s_c['iw1'] = f_s_c['I_mag'] - f_s_c['W1mag']\n",
    "f_s_c['iw2'] = f_s_c['I_mag'] - f_s_c['W2mag']\n",
    "\n",
    "\n",
    "f_s_c['zj'] = f_s_c['Z_mag'] - f_s_c['J_mag']\n",
    "f_s_c['zk'] = f_s_c['Z_mag'] - f_s_c['K_mag']\n",
    "f_s_c['zw1'] = f_s_c['Z_mag'] - f_s_c['W1mag']\n",
    "f_s_c['zw2'] = f_s_c['Z_mag'] - f_s_c['W2mag']\n",
    "\n",
    "\n",
    "f_s_c['jk'] = f_s_c['J_mag'] - f_s_c['K_mag']\n",
    "f_s_c['jw1'] = f_s_c['J_mag'] - f_s_c['W1mag']\n",
    "f_s_c['jw2'] = f_s_c['J_mag'] - f_s_c['W2mag']\n",
    "\n",
    "f_s_c['kw1'] = f_s_c['K_mag'] - f_s_c['W1mag']\n",
    "f_s_c['kw2'] = f_s_c['K_mag'] - f_s_c['W2mag']\n",
    "\n",
    "\n",
    "f_s_c['w1w2'] = f_s_c['W1mag'] - f_s_c['W2mag']\n",
    "\n"
   ]
  },
  {
   "cell_type": "code",
   "execution_count": 15,
   "metadata": {},
   "outputs": [
    {
     "data": {
      "text/plain": [
       "Index(['counter', 'RA', 'DEC', 'U_mag', 'G_mag', 'R_mag', 'I_mag', 'Z_mag',\n",
       "       'J_mag', 'K_mag', 'W1mag', 'W2mag', 'gj', 'rj', 'jk', 'rk', 'Fpk',\n",
       "       'Hpk', 'redshift', 'specObjID', 'class', 'JNAME', 'W3mag', 'W4mag',\n",
       "       'cntr', 'cc_flags', 'var_flg', 'ph_qual', 'angDist', 'objID', 'mode',\n",
       "       'q_mode', 'class_x', 'SDSS12', 'm_SDSS12', 'flags', 'ObsDate', 'Q',\n",
       "       'SpObjID', 'spType', 'spCl', 'subClass', 'data', 'designation',\n",
       "       'spectrum', 'ug', 'ur', 'ui', 'uz', 'uj', 'uk', 'uw1', 'uw2', 'gr',\n",
       "       'gi', 'gz', 'gk', 'gw1', 'gw2', 'ri', 'rz', 'rw1', 'rw2', 'iz', 'ij',\n",
       "       'ik', 'iw1', 'iw2', 'zj', 'zk', 'zw1', 'zw2', 'jw1', 'jw2', 'kw1',\n",
       "       'kw2', 'w1w2'],\n",
       "      dtype='object')"
      ]
     },
     "execution_count": 15,
     "metadata": {},
     "output_type": "execute_result"
    }
   ],
   "source": [
    "f_s_c.columns"
   ]
  },
  {
   "cell_type": "code",
   "execution_count": 16,
   "metadata": {},
   "outputs": [],
   "source": [
    "class_cleaned = []\n",
    "for i in f_s_c['class']:\n",
    "    if i == 'QSO' or i == 'QSO?' or i == 'QSO??':\n",
    "        class_cleaned.append('QSO')\n",
    "    elif i =='?' or i =='??':\n",
    "        class_cleaned.append('?')\n",
    "    else:\n",
    "        class_cleaned.append(i)\n",
    "        \n",
    "f_s_c['class_cleaned'] = class_cleaned"
   ]
  },
  {
   "cell_type": "code",
   "execution_count": 17,
   "metadata": {},
   "outputs": [],
   "source": [
    "feature_cleaned = f_s_c[['data','RA', 'DEC', 'G_mag', 'R_mag', 'J_mag', 'K_mag','redshift','class','U_mag', 'I_mag', 'Z_mag','ug', 'ur', 'ui', 'uz', 'uj', 'uk', 'uw1', 'uw2', 'gr',\n",
    "       'gi', 'gz', 'gk', 'gw1', 'gw2', 'ri', 'rz', 'rw1', 'rw2', 'iz', 'ij',\n",
    "       'ik', 'iw1', 'iw2', 'zj', 'zk', 'zw1', 'zw2', 'jw1', 'jw2', 'kw1',\n",
    "       'kw2', 'w1w2',\n",
    "       'class_cleaned']]"
   ]
  },
  {
   "cell_type": "code",
   "execution_count": 18,
   "metadata": {},
   "outputs": [],
   "source": [
    "f_s_c.to_csv('../data/features.csv')\n",
    "feature_cleaned.to_csv('../data/feature_cleaned.csv')"
   ]
  },
  {
   "cell_type": "markdown",
   "metadata": {},
   "source": [
    "## clean_class\n",
    "- \"none\" and \"no_obs\" means these data points haven't have the spectral data yet"
   ]
  },
  {
   "cell_type": "code",
   "execution_count": 12,
   "metadata": {},
   "outputs": [],
   "source": [
    "df_1 = pd.read_csv('../data/feature_cleaned.csv')"
   ]
  },
  {
   "cell_type": "code",
   "execution_count": 13,
   "metadata": {},
   "outputs": [],
   "source": [
    "x = df_1[df_1['class_cleaned'] != 'none']\n",
    "y = x[x['class_cleaned'] != 'no_obs']"
   ]
  },
  {
   "cell_type": "code",
   "execution_count": 14,
   "metadata": {},
   "outputs": [
    {
     "data": {
      "text/plain": [
       "array(['?', 'QSO', 'AGN', 'NL??', 'QSO/AGN', 'weak-det', 'NLAGN', 'star',\n",
       "       'NLAGN?', 'NLAGN?no_obs', 'duplicate', 'Starb'], dtype=object)"
      ]
     },
     "execution_count": 14,
     "metadata": {},
     "output_type": "execute_result"
    }
   ],
   "source": [
    "y['class_cleaned'].unique()"
   ]
  },
  {
   "cell_type": "code",
   "execution_count": 15,
   "metadata": {},
   "outputs": [],
   "source": [
    "count_class = pd.DataFrame(y['class_cleaned'].value_counts()).reset_index()\n",
    "count_class.rename(columns = {'index' : 'class_cleaned','class_cleaned':'occ'},inplace = True)"
   ]
  },
  {
   "cell_type": "code",
   "execution_count": 16,
   "metadata": {},
   "outputs": [
    {
     "data": {
      "text/html": [
       "<div>\n",
       "<style scoped>\n",
       "    .dataframe tbody tr th:only-of-type {\n",
       "        vertical-align: middle;\n",
       "    }\n",
       "\n",
       "    .dataframe tbody tr th {\n",
       "        vertical-align: top;\n",
       "    }\n",
       "\n",
       "    .dataframe thead th {\n",
       "        text-align: right;\n",
       "    }\n",
       "</style>\n",
       "<table border=\"1\" class=\"dataframe\">\n",
       "  <thead>\n",
       "    <tr style=\"text-align: right;\">\n",
       "      <th></th>\n",
       "      <th>class_cleaned</th>\n",
       "      <th>occ</th>\n",
       "    </tr>\n",
       "  </thead>\n",
       "  <tbody>\n",
       "    <tr>\n",
       "      <th>0</th>\n",
       "      <td>QSO</td>\n",
       "      <td>130</td>\n",
       "    </tr>\n",
       "    <tr>\n",
       "      <th>1</th>\n",
       "      <td>?</td>\n",
       "      <td>77</td>\n",
       "    </tr>\n",
       "    <tr>\n",
       "      <th>2</th>\n",
       "      <td>NLAGN</td>\n",
       "      <td>4</td>\n",
       "    </tr>\n",
       "    <tr>\n",
       "      <th>3</th>\n",
       "      <td>duplicate</td>\n",
       "      <td>2</td>\n",
       "    </tr>\n",
       "    <tr>\n",
       "      <th>4</th>\n",
       "      <td>QSO/AGN</td>\n",
       "      <td>2</td>\n",
       "    </tr>\n",
       "    <tr>\n",
       "      <th>5</th>\n",
       "      <td>weak-det</td>\n",
       "      <td>2</td>\n",
       "    </tr>\n",
       "    <tr>\n",
       "      <th>6</th>\n",
       "      <td>AGN</td>\n",
       "      <td>2</td>\n",
       "    </tr>\n",
       "    <tr>\n",
       "      <th>7</th>\n",
       "      <td>Starb</td>\n",
       "      <td>1</td>\n",
       "    </tr>\n",
       "    <tr>\n",
       "      <th>8</th>\n",
       "      <td>star</td>\n",
       "      <td>1</td>\n",
       "    </tr>\n",
       "    <tr>\n",
       "      <th>9</th>\n",
       "      <td>NLAGN?</td>\n",
       "      <td>1</td>\n",
       "    </tr>\n",
       "    <tr>\n",
       "      <th>10</th>\n",
       "      <td>NL??</td>\n",
       "      <td>1</td>\n",
       "    </tr>\n",
       "    <tr>\n",
       "      <th>11</th>\n",
       "      <td>NLAGN?no_obs</td>\n",
       "      <td>1</td>\n",
       "    </tr>\n",
       "  </tbody>\n",
       "</table>\n",
       "</div>"
      ],
      "text/plain": [
       "   class_cleaned  occ\n",
       "0            QSO  130\n",
       "1              ?   77\n",
       "2          NLAGN    4\n",
       "3      duplicate    2\n",
       "4        QSO/AGN    2\n",
       "5       weak-det    2\n",
       "6            AGN    2\n",
       "7          Starb    1\n",
       "8           star    1\n",
       "9         NLAGN?    1\n",
       "10          NL??    1\n",
       "11  NLAGN?no_obs    1"
      ]
     },
     "execution_count": 16,
     "metadata": {},
     "output_type": "execute_result"
    }
   ],
   "source": [
    "count_class"
   ]
  },
  {
   "cell_type": "code",
   "execution_count": 17,
   "metadata": {},
   "outputs": [
    {
     "name": "stderr",
     "output_type": "stream",
     "text": [
      "/Users/maoshirley/.pyenv/versions/3.7.7/envs/lewagon/lib/python3.7/site-packages/ipykernel_launcher.py:8: SettingWithCopyWarning: \n",
      "A value is trying to be set on a copy of a slice from a DataFrame.\n",
      "Try using .loc[row_indexer,col_indexer] = value instead\n",
      "\n",
      "See the caveats in the documentation: https://pandas.pydata.org/pandas-docs/stable/user_guide/indexing.html#returning-a-view-versus-a-copy\n",
      "  \n"
     ]
    }
   ],
   "source": [
    "class_bin = []\n",
    "for i in y['class_cleaned']:\n",
    "    if i != 'QSO':\n",
    "        class_bin.append(0)\n",
    "    else:\n",
    "        class_bin.append(1)\n",
    "        \n",
    "y['class_bin'] = class_bin"
   ]
  },
  {
   "cell_type": "code",
   "execution_count": 18,
   "metadata": {},
   "outputs": [],
   "source": [
    "final = y.reset_index().drop(columns = ['Unnamed: 0','class','index'])"
   ]
  },
  {
   "cell_type": "code",
   "execution_count": 19,
   "metadata": {},
   "outputs": [],
   "source": [
    "final.to_csv('../data/train_qso.csv')"
   ]
  }
 ],
 "metadata": {
  "kernelspec": {
   "display_name": "Python 3",
   "language": "python",
   "name": "python3"
  },
  "language_info": {
   "codemirror_mode": {
    "name": "ipython",
    "version": 3
   },
   "file_extension": ".py",
   "mimetype": "text/x-python",
   "name": "python",
   "nbconvert_exporter": "python",
   "pygments_lexer": "ipython3",
   "version": "3.7.7"
  }
 },
 "nbformat": 4,
 "nbformat_minor": 4
}
