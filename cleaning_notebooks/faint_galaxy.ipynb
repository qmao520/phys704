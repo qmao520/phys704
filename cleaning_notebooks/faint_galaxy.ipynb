{
 "cells": [
  {
   "cell_type": "code",
   "execution_count": 62,
   "id": "dfb51b74-13b5-41f1-af82-59fca453ec5f",
   "metadata": {},
   "outputs": [],
   "source": [
    "import pandas as pd\n",
    "import numpy as np"
   ]
  },
  {
   "cell_type": "code",
   "execution_count": 63,
   "id": "e1e1a837-fa95-4da1-a470-df13e9d42c25",
   "metadata": {},
   "outputs": [],
   "source": [
    "df = pd.read_csv('../data/raw/S82X_galaxies_c1.csv')"
   ]
  },
  {
   "cell_type": "code",
   "execution_count": 64,
   "id": "d223a009-27ff-4dea-be89-dc220dcef360",
   "metadata": {},
   "outputs": [
    {
     "data": {
      "text/plain": [
       "Index(['RA', 'DEC', 'U_mag', 'G_mag', 'R_mag', 'I_mag', 'Z_mag', 'J_mag',\n",
       "       'H_mag', 'K_mag', 'W1mag', 'W2mag', 'SPEC_Z', 'SPEC_CLASS'],\n",
       "      dtype='object')"
      ]
     },
     "execution_count": 64,
     "metadata": {},
     "output_type": "execute_result"
    }
   ],
   "source": [
    "df.columns"
   ]
  },
  {
   "cell_type": "code",
   "execution_count": 65,
   "id": "96f3d0b4-04d6-4669-8009-f50279ea9252",
   "metadata": {},
   "outputs": [],
   "source": [
    "# df = df[df['W1mag'] != -99.0]\n",
    "# df = df[df['W2mag'] != -99.0]\n",
    "# df = df[df['G_mag'] != -99.000000]\n",
    "# df = df[df['U_mag'] != -99.000000]\n",
    "# df = df[df['I_mag'] != -99.000000]\n",
    "# df = df[df['Z_mag'] != -99.000000]\n",
    "# df = df[df['J_mag'] != -99.000000]\n",
    "# df = df[df['H_mag'] != -99.000000]\n",
    "# df = df[df['K_mag'] != -99.000000]"
   ]
  },
  {
   "cell_type": "code",
   "execution_count": 66,
   "id": "b8b26c4a-967f-4912-ad8d-437710cb4fb7",
   "metadata": {},
   "outputs": [],
   "source": [
    "df = df[['RA', 'DEC', 'U_mag', 'G_mag', 'R_mag', 'I_mag', 'Z_mag', 'J_mag',\n",
    "       'H_mag', 'K_mag', 'W1mag', 'W2mag']]"
   ]
  },
  {
   "cell_type": "code",
   "execution_count": 67,
   "id": "a98a4d1c-7c16-4607-a0dd-332f99a5eef5",
   "metadata": {
    "tags": []
   },
   "outputs": [
    {
     "data": {
      "text/plain": [
       "False"
      ]
     },
     "execution_count": 67,
     "metadata": {},
     "output_type": "execute_result"
    }
   ],
   "source": [
    "def clean_dataset(df):\n",
    "    assert isinstance(df, pd.DataFrame), \"df needs to be a pd.DataFrame\"\n",
    "    df.dropna(inplace=True)\n",
    "    indices_to_keep = ~df.isin([np.nan, np.inf, -np.inf]).any(1)\n",
    "    return df[indices_to_keep].astype(np.float64)\n",
    "\n",
    "clean_dataset(df)\n",
    "np.any(np.isnan(df[['RA', 'DEC', 'U_mag', 'G_mag', 'R_mag', 'I_mag', 'Z_mag', 'J_mag',\n",
    "       'H_mag', 'K_mag', 'W1mag', 'W2mag']]))"
   ]
  },
  {
   "cell_type": "code",
   "execution_count": 68,
   "id": "34742ac3-4379-4407-882a-545661848b98",
   "metadata": {},
   "outputs": [],
   "source": [
    "faint_g = df.loc[(df['G_mag'] >= 22) & (df['R_mag'] >= 21)].sample(100)\n",
    "bright_g = df.loc[(df['G_mag'] < 22) & (df['R_mag'] < 21)].sample(50)\n",
    "g = pd.concat([faint_g, bright_g])"
   ]
  },
  {
   "cell_type": "code",
   "execution_count": 69,
   "id": "85e66e24-1b2a-4ff0-b440-41b86e731103",
   "metadata": {},
   "outputs": [],
   "source": [
    "g['class'] = 'faint_Galaxy'"
   ]
  },
  {
   "cell_type": "code",
   "execution_count": 70,
   "id": "d5372fe6-2588-4f0a-b1a8-b73ec4fc4517",
   "metadata": {},
   "outputs": [],
   "source": [
    "g.to_csv('../data/faint_galaxy_set2.csv')"
   ]
  },
  {
   "cell_type": "code",
   "execution_count": null,
   "id": "c9e48fe6-7868-429e-89c3-9b6b79a30303",
   "metadata": {},
   "outputs": [],
   "source": []
  },
  {
   "cell_type": "code",
   "execution_count": null,
   "id": "e60e86dc-6897-4f5e-8054-f91245b1fd51",
   "metadata": {},
   "outputs": [],
   "source": []
  }
 ],
 "metadata": {
  "kernelspec": {
   "display_name": "Python 3 (ipykernel)",
   "language": "python",
   "name": "python3"
  },
  "language_info": {
   "codemirror_mode": {
    "name": "ipython",
    "version": 3
   },
   "file_extension": ".py",
   "mimetype": "text/x-python",
   "name": "python",
   "nbconvert_exporter": "python",
   "pygments_lexer": "ipython3",
   "version": "3.9.12"
  }
 },
 "nbformat": 4,
 "nbformat_minor": 5
}
